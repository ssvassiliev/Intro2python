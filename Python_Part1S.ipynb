{
 "cells": [
  {
   "cell_type": "markdown",
   "id": "77dbe3d9-66fd-40ed-95db-9a986ee12d07",
   "metadata": {},
   "source": [
    "## Introductory Programming with Python (Part 1)\n",
    "\n",
    "### 1. Your Learning Journey \n",
    " - Solving Real Problems \n",
    "\n",
    "### What You'll Gain\n",
    "\n",
    "By the end of our workshop, you'll be able to:  \n",
    "- Extract key insights.\n",
    "- Make data visual.\n",
    "- Solve problems.\n",
    "- Build solutions.\n",
    "- Develop skills that transfer to many diferent fields. \n",
    " "
   ]
  },
  {
   "cell_type": "markdown",
   "id": "d5614728",
   "metadata": {},
   "source": [
    "\n",
    "### 2. Python installation and usage.\n",
    "\n",
    "- There are different ways to install python on a laptop. \n",
    "- The official Python installer.  \n",
    "\n",
    "#### Python virtual environments\n",
    "\n",
    "- Useful for working on 2 or more projects with different dependenies\n",
    "\n",
    "#### Tools for creating virtual environments: virtualenv and conda.\n",
    "\n",
    "- conda works reasonably well on personal computers not on HPC clusters \n",
    "\n",
    "\n",
    "#### Setup\n",
    "\n",
    "- Python installed locally or\n",
    "- Acess our training cluster via JupyterHub\n",
    "\n",
    "Any setup questions before we proceed?\n",
    "\n",
    "#### Jupyter Notebooks \n",
    "- Great for sharing\n",
    "- Store executable code, textual documentation, and visualizations."
   ]
  },
  {
   "cell_type": "code",
   "execution_count": null,
   "id": "0f8701c0",
   "metadata": {},
   "outputs": [],
   "source": [
    "# Plot of a sinc function from -10 to 10"
   ]
  },
  {
   "cell_type": "markdown",
   "id": "2a2b808e-380d-4cdd-a421-43bbba765ad7",
   "metadata": {},
   "source": [
    "## 3. A brief introduction to Python\n",
    "### Why Python is so popular? \n",
    "- allows you to focus on solving big problems. \n",
    "- flexible, practical, and powerful.\n",
    "- open source code for solving virtually any problem\n",
    "\n",
    "### How Python stands out from other programming languages?\n",
    "\n",
    "#### Simple, and human-friendly syntax. \n",
    "\n",
    "Languages with challenging syntax (e.g. Perl, C++, RegEx).   \n",
    "Example of a language with a challenging syntax - regular expression designed to extract email addresses:   \n",
    "\n",
    "`\\b[A-Za-z0-9._%+-]+@[A-Za-z0-9.-]+\\.[A-Z|a-z]{2,7}\\b`\n",
    "\n"
   ]
  },
  {
   "cell_type": "markdown",
   "id": "8eb2c2fa",
   "metadata": {},
   "source": [
    "\n",
    "Compare it to Python code to calculate average speed -  you'll write:\n"
   ]
  },
  {
   "cell_type": "code",
   "execution_count": null,
   "id": "32d3b956",
   "metadata": {},
   "outputs": [],
   "source": []
  },
  {
   "cell_type": "markdown",
   "id": "0c2421ac",
   "metadata": {},
   "source": [
    "#### Python is Object-Oriented by Design: Blueprint for Clean Code\n",
    "\n",
    "- Everything in Python is an object (even integers and strings)\n",
    "- Example - every integer is an instance of the int class"
   ]
  },
  {
   "cell_type": "code",
   "execution_count": null,
   "id": "ffecbdea",
   "metadata": {},
   "outputs": [],
   "source": [
    "# what is the type of int? "
   ]
  },
  {
   "cell_type": "code",
   "execution_count": null,
   "id": "a268b702",
   "metadata": {},
   "outputs": [],
   "source": [
    "\n",
    "#  what are the attributes of int? "
   ]
  },
  {
   "cell_type": "code",
   "execution_count": null,
   "id": "43564abe",
   "metadata": {},
   "outputs": [],
   "source": [
    "# what methods does int have? "
   ]
  },
  {
   "cell_type": "markdown",
   "id": "fd109309",
   "metadata": {},
   "source": [
    "### Why should you care about OOP? \n",
    "#### Benefits of object-oriented programming \n",
    "\n",
    "- Code is organized into self-contained objects, \n",
    "- Data and methods are bundled together \n",
    "- You can create new classes by inheriting from existing ones.  \n",
    "- Dynamic memory management.  \n",
    "- Python works anywhere.\n",
    "\n",
    "\n",
    "#### Python’s Trade-Offs\n",
    "\n",
    "- The Global Interpreter Lock (GIL) restricts true parallel threading\n",
    "- Pure Python performance is slow for heavy computation\n",
    "- Startup Latency  \n",
    "-  Limited native support for iOS/Android ecosystems"
   ]
  },
  {
   "cell_type": "markdown",
   "id": "2a22ff2f",
   "metadata": {},
   "source": [
    "### Keypoints\n",
    "####  Beginners Love Python because  \n",
    "- Python has gentle learning curve: You'll write useful programs on day one  \n",
    "- Python code is easily readable: You can understand your own code weeks later  \n",
    "- Python gives you instant feedback: You can see results immediately without waiting fro the code to be compiled and then running it. \n",
    "- Python's got one of the best support communities out there. Huge open-source ecosystem, docs for everything, and tons of users happy to help beginners \n",
    "\n",
    "#### Why Scientists and Engineers Love It  \n",
    "- Python offers clean data workflows: Tools like Pandas and NumPy transform raw data into actionable insights-\n",
    "- Python Visualize clearly: You can build charts and graphs quickly with Matplotlib/Seaborn with just a few lines of code\n",
    "- Simplify repetitive work: Quickly create scripts to handle routine tasks while you focus on discovery\n",
    "- Python is proven in practice: It is used by NASA, Google, and researchers worldwide.\n",
    "\n",
    "#### How Python Compares to Other Languages?  \n",
    "| Language | Best For | Learning Experience | Real-World Analogy |\n",
    "|---|---|---|---|\n",
    "|Python| Data analysis, beginners\t   | Like learning with training wheels\t| Comfortable SUV - easy to drive anywhere |\n",
    "|C++   | Game engines, performance\t   | Like building a car engine\t| Race car - powerful but complex|\n",
    "Java   | Large business systems\t       | Like assembling furniture\t| Minivan - practical but lots of parts|\n",
    "|R\t   | Statistics, academic research | Like using a scientific calculator\t| Lab equipment - specialized|\n"
   ]
  },
  {
   "cell_type": "markdown",
   "id": "c75fd475",
   "metadata": {},
   "source": [
    "## 4. Getting to Know the Dataset\n",
    "\n",
    "To base our learning on a realistic context, we’ll use a synthetic dataset from a fictional clinical trial evauating the therapeutic effect of a novel drug."
   ]
  },
  {
   "cell_type": "markdown",
   "id": "b040399d-8550-4e5b-b79d-ad0abff12472",
   "metadata": {},
   "source": [
    "## 5. Basic concepts: variables, data types and built-in finctions\n",
    "\n",
    "### 5.1 Variables\n",
    "\n",
    " Python as a command-line calculator:"
   ]
  },
  {
   "cell_type": "code",
   "execution_count": null,
   "id": "0821e54d-ce87-486d-bb2e-0fc6626d719c",
   "metadata": {},
   "outputs": [],
   "source": [
    "# quick math with numbers "
   ]
  },
  {
   "cell_type": "markdown",
   "id": "48a0cae3",
   "metadata": {},
   "source": [
    "- Math with variables"
   ]
  },
  {
   "cell_type": "code",
   "execution_count": null,
   "id": "362572d1",
   "metadata": {},
   "outputs": [],
   "source": [
    "# math with variables a,b.c "
   ]
  },
  {
   "cell_type": "markdown",
   "id": "f4291cca",
   "metadata": {},
   "source": [
    "\n",
    "- variable is simply a name that refers to a value.\n",
    "- variables let us apply the same logic to different data.  \n",
    "\n",
    "Another example - storing weight in a variable called weight_kg:"
   ]
  },
  {
   "cell_type": "code",
   "execution_count": null,
   "id": "9a45ed39-8fe9-49f0-8739-6b12067cfe3f",
   "metadata": {},
   "outputs": [],
   "source": [
    "# storing weight"
   ]
  },
  {
   "cell_type": "markdown",
   "id": "2e8fcda0",
   "metadata": {},
   "source": [
    "#### How to name your variables\n",
    "- you can use letters, digits, and underscores\n",
    "- the name can’t start with a digit\n",
    "- names are case-sensitive"
   ]
  },
  {
   "cell_type": "code",
   "execution_count": null,
   "id": "77d3deea",
   "metadata": {},
   "outputs": [],
   "source": [
    "\n",
    " # try different variable names"
   ]
  },
  {
   "cell_type": "markdown",
   "id": "9305bc3a",
   "metadata": {},
   "source": [
    "Examples:\n",
    "- `weight0` is valid, but `0weight` isn’t\n",
    "- `weight_kg` is different from `Weight_kg`"
   ]
  },
  {
   "cell_type": "markdown",
   "id": "9b16f9e3-74a2-40b3-9732-af6e94b31a05",
   "metadata": {},
   "source": [
    "### 5.2 Types of Data in Python\n",
    "\n",
    "Some of the most common types:\n",
    "\n",
    "- int **Integer** \n",
    "- float **Floating point number** \n",
    "- str **String**  \n",
    "- complex **Complex number** \n",
    "- bool **Boolean**  \n",
    "\n",
    "Python automatically determines a value’s data type.\n",
    "\n",
    "#### Integers and Floating point numbers\n",
    "\n",
    "- Use an interger to store patient's weight:\n",
    "  "
   ]
  },
  {
   "cell_type": "code",
   "execution_count": null,
   "id": "ec645769-ca60-4c60-b081-ca77f087510d",
   "metadata": {},
   "outputs": [],
   "source": [
    "# create an integer variable"
   ]
  },
  {
   "cell_type": "markdown",
   "id": "23bccf80-b47e-4772-8243-5a1745144057",
   "metadata": {},
   "source": [
    "- We can use a floating point number if we need more precision:"
   ]
  },
  {
   "cell_type": "code",
   "execution_count": null,
   "id": "9e6fa784-4756-44b5-9532-d3fef48d194a",
   "metadata": {},
   "outputs": [],
   "source": [
    "# create an floating point variable"
   ]
  },
  {
   "cell_type": "markdown",
   "id": "be9df202",
   "metadata": {},
   "source": [
    "- We can convert between types if needed.  \n",
    "\n",
    "Define weight as int:"
   ]
  },
  {
   "cell_type": "code",
   "execution_count": null,
   "id": "959d1008",
   "metadata": {},
   "outputs": [],
   "source": [
    "# Define weight as int"
   ]
  },
  {
   "cell_type": "markdown",
   "id": "a95001aa",
   "metadata": {},
   "source": [
    "Convert it to float:"
   ]
  },
  {
   "cell_type": "code",
   "execution_count": null,
   "id": "6c10d7f9",
   "metadata": {},
   "outputs": [],
   "source": [
    "# Convert it to float\n"
   ]
  },
  {
   "cell_type": "markdown",
   "id": "f35ac4fe-f995-4b99-b954-9a6c223229e4",
   "metadata": {},
   "source": [
    "#### Strings\n",
    "\n",
    "- Strings are surrounded by single or double quotes:"
   ]
  },
  {
   "cell_type": "code",
   "execution_count": null,
   "id": "a654b9fa-6b3c-41a4-bd9d-25060c3ad54f",
   "metadata": {},
   "outputs": [],
   "source": [
    "# store patient id as text"
   ]
  },
  {
   "cell_type": "markdown",
   "id": "a68bb5c2",
   "metadata": {},
   "source": [
    "#### When to choose one over the other:\n",
    "\n",
    "- readability \n",
    "- avoiding escape characters\n",
    "\n",
    "If your string contains a single quote, use double quotes to avoid escaping:\n"
   ]
  },
  {
   "cell_type": "code",
   "execution_count": null,
   "id": "61ad5026",
   "metadata": {},
   "outputs": [],
   "source": [
    "# examples of strings with single and double quotes"
   ]
  },
  {
   "cell_type": "markdown",
   "id": "4c04075f",
   "metadata": {},
   "source": [
    "NOTE: 'sentence' prints representation of string, 'print(sentence)' shows the actual string!"
   ]
  },
  {
   "cell_type": "markdown",
   "id": "edcec721-2be9-44d4-8344-c46b7da531c0",
   "metadata": {},
   "source": [
    "### 5.3 Using Variables\n",
    "- use variables to do calculations \n",
    "\n",
    "Convert weight to pounds:"
   ]
  },
  {
   "cell_type": "code",
   "execution_count": null,
   "id": "4ea1b4d8-df1e-4221-9601-b360b433a86b",
   "metadata": {},
   "outputs": [],
   "source": [
    "# convert weight to pounds"
   ]
  },
  {
   "cell_type": "markdown",
   "id": "6e1ec24e-e6ed-4464-9e99-852086c640a6",
   "metadata": {},
   "source": [
    "Change a string:"
   ]
  },
  {
   "cell_type": "code",
   "execution_count": null,
   "id": "53c3c300-83d3-428f-97b0-316fb9329c1b",
   "metadata": {},
   "outputs": [],
   "source": [
    "# concatenate strings"
   ]
  },
  {
   "cell_type": "markdown",
   "id": "ee578a61-7223-4e62-8b7f-3832a1fdcbae",
   "metadata": {},
   "source": [
    "Now the patient ID would look like this: inflam_001."
   ]
  },
  {
   "cell_type": "markdown",
   "id": "88726d14-a50e-4ede-9036-58ea6856822d",
   "metadata": {},
   "source": [
    "### 5.4 Built-in Functions\n",
    "- built-in functions for common tasks.\n",
    "- print() for example, shows information:"
   ]
  },
  {
   "cell_type": "code",
   "execution_count": null,
   "id": "5ae8de2e-724d-499b-bf77-3037e6833897",
   "metadata": {},
   "outputs": [],
   "source": [
    "# print()"
   ]
  },
  {
   "cell_type": "markdown",
   "id": "04c37b89-0e0c-4f6c-ba85-d72021eeb089",
   "metadata": {},
   "source": [
    "- parentheses tell Python: \"Execute this function now!\"  \n",
    "- Arguments go inside the parentheses   \n",
    "- Multiple arguments are separated with commas\n",
    "\n",
    " Display both the patient ID and the weight in kilograms:"
   ]
  },
  {
   "cell_type": "code",
   "execution_count": null,
   "id": "08e0e79b-052a-46a3-bd34-e427bb183619",
   "metadata": {},
   "outputs": [],
   "source": [
    "# using print() with multiple arguments"
   ]
  },
  {
   "cell_type": "markdown",
   "id": "80ebb32b",
   "metadata": {},
   "source": [
    "#### Key Rules:\n",
    "\n",
    "- Always use ( ) after the function name\n",
    "- Arguments are the data you want to process\n",
    "- Commas separate multiple arguments\n",
    "- No limit on arguments (if syntax is correct)\n",
    "\n",
    "You can see the full list of built-in functions in Python’s official docs: https://docs.python.org/3/library/functions.html"
   ]
  },
  {
   "cell_type": "markdown",
   "id": "9f25fe19-120b-435a-98c4-9356fdda41ac",
   "metadata": {},
   "source": [
    "### 5.5 Checking Data Types\n",
    "- type() - check what kind of data we’re working with. "
   ]
  },
  {
   "cell_type": "code",
   "execution_count": null,
   "id": "14c1d327-5af2-4e91-a0d3-039bfa85dfca",
   "metadata": {},
   "outputs": [],
   "source": [
    "# type()"
   ]
  },
  {
   "cell_type": "markdown",
   "id": "2495cb51-0f91-4417-a215-ebc55601e404",
   "metadata": {},
   "source": [
    "### 5.6 Arithmetic with Variables\n",
    "- You can put math expressions directly inside print()"
   ]
  },
  {
   "cell_type": "code",
   "execution_count": null,
   "id": "ed8f783b-2eba-46a2-a12d-ae1b12ae3db4",
   "metadata": {},
   "outputs": [],
   "source": [
    "# math inside print()"
   ]
  },
  {
   "cell_type": "markdown",
   "id": "57056c90-376f-4858-8cef-3330e3ac5f0a",
   "metadata": {},
   "source": [
    "This doesn’t change the value of weight_kg:"
   ]
  },
  {
   "cell_type": "code",
   "execution_count": null,
   "id": "1895285a-2eb6-4641-87f0-18ed6d62e049",
   "metadata": {},
   "outputs": [],
   "source": [
    "# value of weight_kg stays the same"
   ]
  },
  {
   "cell_type": "markdown",
   "id": "870f2afc-8d65-49a5-94d5-18cbd0339039",
   "metadata": {},
   "source": [
    "- variables are like labels attached to values.\n",
    "- to change the value of a variable, we have to assign it a new value "
   ]
  },
  {
   "cell_type": "code",
   "execution_count": null,
   "id": "2a5afcd3-3c72-44dd-b413-2ca38a55c4fb",
   "metadata": {},
   "outputs": [],
   "source": [
    "# reassign weight"
   ]
  },
  {
   "cell_type": "markdown",
   "id": "edb8c907",
   "metadata": {
    "vscode": {
     "languageId": "markdown"
    }
   },
   "source": [
    "#### Calculating new value from old:"
   ]
  },
  {
   "cell_type": "code",
   "execution_count": null,
   "id": "9fdccffd",
   "metadata": {},
   "outputs": [],
   "source": [
    "# calculate new value from old"
   ]
  },
  {
   "cell_type": "markdown",
   "id": "ea043bb9",
   "metadata": {},
   "source": [
    "#### Shortcut reassignment operators"
   ]
  },
  {
   "cell_type": "code",
   "execution_count": null,
   "id": "d745a360",
   "metadata": {},
   "outputs": [],
   "source": [
    "\n",
    "x = 10\n",
    "x += 5      # x is now 15\n",
    "x *= 2      # x is now 30\n",
    "x //= 7     # x is now 4 (floor division)\n",
    "x"
   ]
  },
  {
   "cell_type": "markdown",
   "id": "451541ac",
   "metadata": {},
   "source": [
    "Assign several variables at once:"
   ]
  },
  {
   "cell_type": "code",
   "execution_count": null,
   "id": "c9c3edbc",
   "metadata": {},
   "outputs": [],
   "source": [
    "# assign several variables in one statement"
   ]
  },
  {
   "cell_type": "markdown",
   "id": "c82214c5",
   "metadata": {},
   "source": [
    "Python lets variables change types dynamically:"
   ]
  },
  {
   "cell_type": "code",
   "execution_count": null,
   "id": "7a4a444b",
   "metadata": {},
   "outputs": [],
   "source": [
    "# change types at rintime"
   ]
  },
  {
   "cell_type": "markdown",
   "id": "c7cdb9fd-cccd-4d22-b5e1-52f202017a59",
   "metadata": {},
   "source": [
    "#### Exercise 1.  (5 min)\n",
    "\n",
    "A. What values do the variables *mass* and *age* have after each of the following statements? Test your answer by executing the lines.\n",
    "  - mass = 47.5\n",
    "  - age = 122\n",
    "  - mass = mass * 2.0\n",
    "  - age -= 20 \n"
   ]
  },
  {
   "cell_type": "markdown",
   "id": "3e49e954",
   "metadata": {},
   "source": [
    "\n",
    "B. What does the following code print out?"
   ]
  },
  {
   "cell_type": "code",
   "execution_count": null,
   "id": "d8db5c30",
   "metadata": {},
   "outputs": [],
   "source": [
    "first, second = 'Grace', 'Hopper'\n",
    "third, fourth = second, first\n",
    "print(third, fourth)"
   ]
  },
  {
   "cell_type": "markdown",
   "id": "f1ef401c",
   "metadata": {},
   "source": [
    "C. What are the data types of the following variables?   \n",
    "- planet = 'Earth'\n",
    "- apples = 5\n",
    "- distance = 10.5"
   ]
  },
  {
   "cell_type": "markdown",
   "id": "3705a0c1-0f6e-487c-8b27-94c072b2d6c4",
   "metadata": {},
   "source": [
    "### 6. Introduction to Python Libraries.\n",
    "\n",
    "- Libraries are collections of reusable code that solve common problems\n",
    "- It’s best to load libraries only when you need them to keep your code clean and efficient.\n",
    "\n",
    "We’ll use NumPy, which stands for Numerical Python. To tell Python that we’d like to start using NumPy, we need to import it:\n"
   ]
  },
  {
   "cell_type": "code",
   "execution_count": null,
   "id": "949917ac-b720-463b-9f2a-0ba8838ac8ff",
   "metadata": {},
   "outputs": [],
   "source": [
    "# import a library"
   ]
  },
  {
   "cell_type": "markdown",
   "id": "061bb77f-6000-4c3f-bba9-33982bd63b49",
   "metadata": {},
   "source": [
    "### 7. Loading Data"
   ]
  },
  {
   "cell_type": "markdown",
   "id": "28552b6a-7256-4f2b-8372-6b462a64ea2e",
   "metadata": {},
   "source": [
    "- Load data using a simple CSV reader loadtxt()\n",
    "- For more complex or messy fles use genfromtxt() - it is more flexible. "
   ]
  },
  {
   "cell_type": "code",
   "execution_count": null,
   "id": "b470b012-b1be-498c-a4db-29edecddfba1",
   "metadata": {},
   "outputs": [],
   "source": [
    "# simple .csv reader"
   ]
  },
  {
   "cell_type": "markdown",
   "id": "dfeaa7b9-527d-4844-b6ec-f9d317c2c45e",
   "metadata": {},
   "source": [
    "This command only reads the file and prints its contents (we have not assigned the returned array to any variable). \n",
    "\n",
    "Let’s re-run np.loadtxt() and save the returned data:"
   ]
  },
  {
   "cell_type": "code",
   "execution_count": null,
   "id": "dc533635-d7be-4730-b1e0-bff1c529a8ef",
   "metadata": {},
   "outputs": [],
   "source": [
    " # save loaded data"
   ]
  },
  {
   "cell_type": "markdown",
   "id": "0388f586-e42f-496b-883d-58b39cdd4739",
   "metadata": {},
   "source": [
    "Check that the data have been loaded:"
   ]
  },
  {
   "cell_type": "code",
   "execution_count": null,
   "id": "8597f00a-1ed5-457f-919e-d5e5ef279255",
   "metadata": {},
   "outputs": [],
   "source": [
    "# display data"
   ]
  },
  {
   "cell_type": "markdown",
   "id": "7a7b2032-7a2d-458f-b797-2abb28fc20a4",
   "metadata": {},
   "source": [
    "### 7.1 Understanding the Data"
   ]
  },
  {
   "cell_type": "markdown",
   "id": "f8f213a5-b00b-41c8-9da8-a4a8ea5b7231",
   "metadata": {},
   "source": [
    "Check what type of object our variable data refers to:"
   ]
  },
  {
   "cell_type": "code",
   "execution_count": null,
   "id": "3d4e6f90-07e8-497b-8226-82bb4a00f9c3",
   "metadata": {},
   "outputs": [],
   "source": [
    "# type of the data object"
   ]
  },
  {
   "cell_type": "markdown",
   "id": "c8d404d3-fac5-4274-80b9-b9e0a0cbd021",
   "metadata": {},
   "source": [
    "What is the data type of the elements inside the array? "
   ]
  },
  {
   "cell_type": "code",
   "execution_count": null,
   "id": "c48d1b36",
   "metadata": {},
   "outputs": [],
   "source": [
    "# type of the data elements stored in the object"
   ]
  },
  {
   "cell_type": "markdown",
   "id": "ffd87df9",
   "metadata": {},
   "source": [
    "\n",
    "- Standard NumPy arrays are homogeneous containers."
   ]
  },
  {
   "cell_type": "code",
   "execution_count": null,
   "id": "0d13deec-53d7-422b-b479-9c4d66ee1f48",
   "metadata": {},
   "outputs": [],
   "source": [
    "# check the dimensions of the array"
   ]
  },
  {
   "cell_type": "markdown",
   "id": "ab13bc7b-8eca-40de-a8f3-7c4360771689",
   "metadata": {},
   "source": [
    "- 200 samples (rows) x 60 daily measurements (columns). \n",
    "\n",
    "- Array attributes like .shape or .dtype describe essential properties"
   ]
  },
  {
   "cell_type": "markdown",
   "id": "9bffe8e4-f7ed-4f29-83f8-ed3a7d368b7c",
   "metadata": {},
   "source": [
    "### 7.2 Accessing Data in NumPy Arrays\n",
    "#### Basic Indexing (0-Based): Accessing individual elements. "
   ]
  },
  {
   "cell_type": "code",
   "execution_count": null,
   "id": "36af9b95-f61b-4242-8456-1a1a0a972423",
   "metadata": {},
   "outputs": [],
   "source": [
    "# print first element"
   ]
  },
  {
   "cell_type": "code",
   "execution_count": null,
   "id": "a9a227a9-e2e6-43bb-b9c2-7b63369530cf",
   "metadata": {},
   "outputs": [],
   "source": [
    "# print middle element"
   ]
  },
  {
   "cell_type": "markdown",
   "id": "dae4a08c-79c5-47af-8b96-b6f5d8703974",
   "metadata": {},
   "source": [
    "- In Python, arrays are indexed starting from 0.\n",
    "- With \"zero-based\" indexing if an array has dimensions M×N, the valid indices range from 0 to M-1 for rows and 0 to N-1 for columns. "
   ]
  },
  {
   "cell_type": "markdown",
   "id": "5c8c78d7-837f-4db6-a3cf-94a7f9aea687",
   "metadata": {},
   "source": [
    "#### Slicing: Accessing subarrays by specifying slices.\n",
    "- Extract subarrays with `start:stop:step` syntax. "
   ]
  },
  {
   "cell_type": "code",
   "execution_count": null,
   "id": "62b360bc-fe5e-4119-a6ee-08100316533b",
   "metadata": {},
   "outputs": [],
   "source": [
    "# select the first ten days of values for the first four patients"
   ]
  },
  {
   "cell_type": "markdown",
   "id": "b56755d4-1224-4293-9710-4e389db1e723",
   "metadata": {},
   "source": [
    "We don’t have to start slices at 0:"
   ]
  },
  {
   "cell_type": "code",
   "execution_count": null,
   "id": "fd338201-73e7-4b7c-8c11-5f909a676554",
   "metadata": {},
   "outputs": [],
   "source": [
    "# extract middle sections"
   ]
  },
  {
   "cell_type": "markdown",
   "id": "413dc0b2-f0b8-4b33-8530-128c2c3d2b89",
   "metadata": {},
   "source": [
    "Start and stop indices are optional. "
   ]
  },
  {
   "cell_type": "code",
   "execution_count": null,
   "id": "4b59b5d2-2104-4420-8b24-2f0e93721e4a",
   "metadata": {},
   "outputs": [],
   "source": [
    "# default first and last elements"
   ]
  },
  {
   "cell_type": "markdown",
   "id": "c6dc20e0",
   "metadata": {},
   "source": [
    "- default start index is 0\n",
    "- default end index is the last element"
   ]
  },
  {
   "cell_type": "markdown",
   "id": "b612c4b6-d267-450d-9a92-07c152db0ec6",
   "metadata": {},
   "source": [
    "____\n",
    "#### **Note: You can also slice Strings**\n",
    "We can take slices of character strings juat as we do it with numpy arrays:"
   ]
  },
  {
   "cell_type": "code",
   "execution_count": null,
   "id": "263da896-038a-4b73-a9f8-5893a1cb7f7f",
   "metadata": {},
   "outputs": [],
   "source": [
    "# slice a string "
   ]
  },
  {
   "cell_type": "markdown",
   "id": "701911a8-e3df-4a08-8fdf-d48736f4a9c4",
   "metadata": {},
   "source": [
    "# Exercise 2. String Slicing (10 min)\n",
    "Given the string word = 'algorithm'  \n",
    "\n",
    "```\n",
    "Indices:    [0] [1] [2] [3] [4] [5] [6] [7] [8] \n",
    "Characters:  a   l   g   o   r   i   t   h   m  \n",
    "```\n",
    "\n",
    "A. Slice the string:\n",
    "  - What is word[:4] ?\n",
    "  - What is word[5:] ?\n",
    "  - What is word[3:6] ?   \n",
    "  - What is word[2::3] ?\n",
    "\n",
    "B. Negative Indexing\n",
    "  - What is word[-1] ?\n",
    "  - What is word[-3] ?\n",
    "  - What is word[-4:-1] ?\n",
    "\n",
    "C. Explain these operations:\n",
    "\n",
    "1. word[2:-2]\n",
    "   - What substring does it return?\n",
    "   - How do positive and negative indices interact?\n",
    "2. word[::-1]\n",
    "   - What does this operation do\n",
    "   - What does -1 mean in the step position?"
   ]
  },
  {
   "cell_type": "code",
   "execution_count": null,
   "id": "80e9757c",
   "metadata": {},
   "outputs": [],
   "source": [
    "# Verification template\n",
    "word = \"algorithm\"\n",
    "print(\"A1:\", word[:4])     # ?\n",
    "print(\"A2:\", word[5:])     # ?\n",
    "print(\"A3:\", word[3:6])    # ?\n",
    "print(\"A4:\", word[2::3])   # ?\n",
    "print(\"B1:\", word[-1])     # ?\n",
    "print(\"B2:\", word[-3])     # ?\n",
    "print(\"B3:\", word[-4:-1])  # ?\n",
    "print(\"C1:\", word[2:-2])   # ?\n",
    "print(\"C2:\", word[::-1])   # ?"
   ]
  },
  {
   "cell_type": "markdown",
   "id": "946469bc-725e-4efe-8ad7-0d0f56e2a687",
   "metadata": {},
   "source": [
    "###  8. Analyzing the data\n",
    "\n",
    "- NumPy provides high performance functions optimized for operations on entire arrays.\n",
    "\n",
    "###  8.1. Case study - assessing the therapeutic effect of the treatment.\n",
    "\n",
    "- 60 patients.\n",
    "- The trial lasted for 40 days.\n",
    "- Each row in the data represents a different patient.\n",
    "- Each column represents a day of the trial.\n",
    "- The numbers in the data show how many times each patient had inflammation each day.\n",
    "\n",
    "The PI says the drug takes a few weeks to work, so we want to check if the inflammation severity really goes down after patients take it.\n",
    "\n",
    "To figure this out, we will:\n",
    "1. Find the average inflammation severity index per day across all the patients. This will help us see if the drug is working.\n",
    "2. Create a graph to show this information clearly, so we can easily share it with others.\n",
    "\n",
    "We'll first apply our code to a test dataset where we know the expected outcome.\n",
    "\n",
    "### 8.2. NumPy functions.  \n",
    "\n",
    "#### Key Functions\n",
    "\n",
    "| Category\t| Functions |\n",
    "| --------- | --------- |\n",
    "| Math\t| np.sqrt, np.exp, np.sin |\n",
    "| Aggregation |\tnp.sum, np.mean, np.max |\n",
    "| Manipulation |\treshape, flatten, transpose |\n",
    "| Logic\t| np.where, np.logical_and |\n",
    "| Linear Algebra |\tnp.dot, np.linalg.inv |\n",
    "| Sets |\tnp.unique, np.intersect1d |\n",
    "\n",
    "\n",
    "Let's start using NumPyto analyse our clinical trial data. \n",
    "\n",
    "First we find the average inflammation severity index:"
   ]
  },
  {
   "cell_type": "code",
   "execution_count": null,
   "id": "e4b04940-4c71-45a6-83d5-a3ad34ece6b3",
   "metadata": {},
   "outputs": [],
   "source": [
    "# use np.mean() "
   ]
  },
  {
   "cell_type": "markdown",
   "id": "43a25ba7-7fe7-4d39-bf61-f6b9aecbde23",
   "metadata": {},
   "source": [
    "- here, we are calling the mean() function from the NumPy module.\n",
    "\n",
    "Also we can use mean() as a method:"
   ]
  },
  {
   "cell_type": "code",
   "execution_count": null,
   "id": "3ebf23a1-1161-485e-8c3a-ef7157507a72",
   "metadata": {},
   "outputs": [],
   "source": [
    "# use data.mean()"
   ]
  },
  {
   "cell_type": "markdown",
   "id": "83c1e22c-f399-423c-b634-cc1d70b08291",
   "metadata": {},
   "source": [
    "- data.mean() is a method that belongs to the *data* object itself."
   ]
  },
  {
   "cell_type": "markdown",
   "id": "d5ccb8cb-6d07-4dda-b24e-b8d776b88e89",
   "metadata": {},
   "source": [
    "_______________________________________________________________________________________________________\n",
    "#### **Note: Not all functions require input**\n",
    "\n",
    "Some functions can return a result without any input at all:"
   ]
  },
  {
   "cell_type": "code",
   "execution_count": null,
   "id": "dbafb6a4-0d24-48fa-b3f0-2c07b69dcf0c",
   "metadata": {},
   "outputs": [],
   "source": [
    "# functions without arguments"
   ]
  },
  {
   "cell_type": "markdown",
   "id": "437c9c4e-7435-473d-bd1a-966a5dc6f5ce",
   "metadata": {},
   "source": [
    "For functions that don’t take in any arguments, we still need parentheses ( )."
   ]
  },
  {
   "cell_type": "markdown",
   "id": "c49fe011-995b-4838-8f1e-8045fb816867",
   "metadata": {},
   "source": [
    "_______________________________________________________________________________________________________"
   ]
  },
  {
   "cell_type": "markdown",
   "id": "f524c935-0454-48eb-a14c-b80f2af46603",
   "metadata": {},
   "source": [
    "Find the maximum value, the minimum value, and the standard deviation:"
   ]
  },
  {
   "cell_type": "code",
   "execution_count": null,
   "id": "73061505-8ff6-4cbd-9fd6-4e7cc799f3ef",
   "metadata": {},
   "outputs": [],
   "source": [
    "# amax(), amin(), std()"
   ]
  },
  {
   "cell_type": "markdown",
   "id": "40a82327-7f83-4d67-9576-1e693d70a8cf",
   "metadata": {},
   "source": [
    "### 8.3 Extracting and Analyzing One Patient’s Data\n",
    "\n",
    "Let's select all the inflammation data for the first patient and assign it to the variable patient_0:"
   ]
  },
  {
   "cell_type": "code",
   "execution_count": null,
   "id": "00dcc186-d995-4d39-9ff2-092e4ffda9cd",
   "metadata": {},
   "outputs": [],
   "source": [
    "# extract data for the first patient then compute mean"
   ]
  },
  {
   "cell_type": "markdown",
   "id": "ff4156a3-7da2-4a9f-9255-0437359d365e",
   "metadata": {},
   "source": [
    "Instead of storing the row in a separate variable, we can perform operations directly on a slice of the data."
   ]
  },
  {
   "cell_type": "code",
   "execution_count": null,
   "id": "a3d8c0a2",
   "metadata": {},
   "outputs": [],
   "source": [
    "# compute mean directly on the 'view' of the data"
   ]
  },
  {
   "cell_type": "markdown",
   "id": "8cc76ce2",
   "metadata": {},
   "source": [
    " - fast and memory-efficient\n",
    " - no new data is created\n",
    " - more concise code"
   ]
  },
  {
   "cell_type": "markdown",
   "id": "471b6c1a-7746-40c5-aee3-598142928a73",
   "metadata": {},
   "source": [
    "### 8.4 Summarizing the data (aggregation) \n",
    "\n",
    "- We often want to summarize the data by computing things like totals, means, minimums, or maximums. \n",
    "- In our case we may want to calculate these things for each patient or for each day.\n",
    "- To do this, we perform calculations across rows or columns of our data.\n",
    "\n",
    "The parameter 'axis' tells the function which direction to operate in:\n",
    "\n",
    "- axis=1 → operate across columns (i.e. calculate a value for each row, such as per patient)\n",
    "- axis=0 → operate down rows (i.e. calculate a value for each column, such as per day)"
   ]
  },
  {
   "cell_type": "markdown",
   "id": "124e009d-fdc9-459f-a372-13cc9e4739e2",
   "metadata": {},
   "source": [
    "#### Example 1: Maximum Inflammation Per Patient\n",
    "\n",
    "To calculate the maximum inflammation for each patient (looking across all the days), we do this:"
   ]
  },
  {
   "cell_type": "code",
   "execution_count": null,
   "id": "5c394d41-adc7-446a-a8c1-ed07c0ee362f",
   "metadata": {},
   "outputs": [],
   "source": [
    "# collapse columns, aggregare max"
   ]
  },
  {
   "cell_type": "markdown",
   "id": "085d4d5e-7f78-412a-b37b-8363750d6205",
   "metadata": {},
   "source": [
    "#### Example 2: Average Inflammation Per Day\n",
    "\n",
    "To calculate the average inflammation per day (looking at all patients), we do this:"
   ]
  },
  {
   "cell_type": "code",
   "execution_count": null,
   "id": "b991ad41-37ed-4a46-ab58-42aefed82244",
   "metadata": {},
   "outputs": [],
   "source": [
    "# collapse rows, aggregate mean"
   ]
  },
  {
   "cell_type": "markdown",
   "id": "13c01905-d0f9-4621-8693-594b730b5107",
   "metadata": {},
   "source": [
    "This array contains the average inflammation per day for all patients. To confirm, we check the shape of this data:"
   ]
  },
  {
   "cell_type": "code",
   "execution_count": null,
   "id": "9d64a8dc",
   "metadata": {},
   "outputs": [],
   "source": [
    "# check the shape"
   ]
  },
  {
   "cell_type": "markdown",
   "id": "cb5b9fc2-85db-4113-bcd0-b01e634726c7",
   "metadata": {},
   "source": [
    "#### Example 3: Average Inflammation Per Patient\n",
    "\n",
    "To calculate the average inflammation per patient (looking across all days), we do this:"
   ]
  },
  {
   "cell_type": "code",
   "execution_count": null,
   "id": "1c7e3345-197b-4c5e-8b03-d1e39b21c66a",
   "metadata": {},
   "outputs": [],
   "source": [
    "# collapse colunms, aggregate mean"
   ]
  },
  {
   "cell_type": "markdown",
   "id": "7aeff3c0-b362-4c93-b0fe-2fd1edf8713b",
   "metadata": {},
   "source": [
    "### 8.5. Change in Inflamation \n",
    "- To assess how inflammation changes from one day to the next, we can use the `np.diff()` function.\n",
    "\n",
    "The `np.diff()` function takes an array and returns the differences between each pair of successive values.\n",
    "\n",
    "#### Example 4: Change in Inflammation for One Patient\n",
    "\n",
    "- patient 3 during the first week:"
   ]
  },
  {
   "cell_type": "code",
   "execution_count": null,
   "id": "b5b55c08-7389-40f8-b385-ba8efbdea3d3",
   "metadata": {},
   "outputs": [],
   "source": [
    "# extract data for patient 3, week 1"
   ]
  },
  {
   "cell_type": "markdown",
   "id": "be7b133f-17b0-452f-a758-217e2c83b7e3",
   "metadata": {},
   "source": [
    "Now, let’s calculate the difference between each day’s inflammation:"
   ]
  },
  {
   "cell_type": "code",
   "execution_count": null,
   "id": "6e39eec8-dc5a-4660-9bbe-d94e12146da3",
   "metadata": {},
   "outputs": [],
   "source": [
    "# calculate diff "
   ]
  },
  {
   "cell_type": "markdown",
   "id": "6cb1c0b7-377a-4245-8020-7b0cda0f7327",
   "metadata": {},
   "source": [
    "The function calculates the following:\n",
    "- 83 - 96\n",
    "- 97 - 83\n",
    "...\n",
    "- 98 - 110"
   ]
  },
  {
   "cell_type": "markdown",
   "id": "399b991d-a16d-482e-9db5-15ad80ba1c29",
   "metadata": {},
   "source": [
    "___\n",
    "### Check your Understanding\n",
    "#### Applying np.diff() to the whole dataset\n",
    "\n",
    "If you want to apply `np.diff()` to a multi-dimensional array (like our dataset), you can specify which direction (axis) to calculate the differences.\n",
    "\n",
    "- axis=1 will compute the differences across days for each patient (horizontally).\n",
    "- axis=0 will compute the differences across patients for each day (vertically).\n",
    "\n",
    "*Try it out!*\n"
   ]
  },
  {
   "cell_type": "code",
   "execution_count": null,
   "id": "8f8a96e8-babd-4552-ac95-d40029b0ee7e",
   "metadata": {},
   "outputs": [],
   "source": [
    "# diff, data, axis"
   ]
  },
  {
   "cell_type": "markdown",
   "id": "e1c18f2d-f45c-4669-9d45-f0edf64acccd",
   "metadata": {},
   "source": [
    "___  "
   ]
  },
  {
   "cell_type": "markdown",
   "id": "4350f22d-5ec8-42a3-b6d4-49d3256313e5",
   "metadata": {},
   "source": [
    "## 9. Visualizing data\n",
    "- The best way to get insight is often to visualize data. \n",
    "\n",
    "- We use a library called **matplotlib** for creating plots and graphs. \n",
    "- Specifically, we use the **pyplot** module to make various kinds of charts."
   ]
  },
  {
   "cell_type": "code",
   "execution_count": null,
   "id": "0d64e8bd-b3fb-4e05-8edc-05f2489a838e",
   "metadata": {},
   "outputs": [],
   "source": [
    "# import matplotlib"
   ]
  },
  {
   "cell_type": "markdown",
   "id": "c380aa04-7b56-4ee3-b2c8-f86b6840f8d8",
   "metadata": {},
   "source": [
    "#### 9.1 Heatmaps\n",
    "- Plot a heatmap:"
   ]
  },
  {
   "cell_type": "code",
   "execution_count": null,
   "id": "9cd22d8f-b272-4d6a-a791-dedda535ac9e",
   "metadata": {},
   "outputs": [],
   "source": [
    "# create a heat map using the data"
   ]
  },
  {
   "cell_type": "markdown",
   "id": "da51f61e-ac5f-4f67-afc4-4523d1835ee6",
   "metadata": {},
   "source": [
    "- `imshow()` displays 2D array as a grid where each cell's color corresponds to the value in that cell.\n",
    "- the color gradient helps us quickly see patterns in the data. "
   ]
  },
  {
   "cell_type": "code",
   "execution_count": null,
   "id": "661ecb32",
   "metadata": {},
   "outputs": [],
   "source": [
    "# add colorbar and customize colormap"
   ]
  },
  {
   "cell_type": "markdown",
   "id": "4750b0bd-55c3-49e5-a61f-fe4dc378f2d8",
   "metadata": {},
   "source": [
    "As we can see, the number of inflammation flare-ups decreases during the 60-day period, which aligns with the trial design."
   ]
  },
  {
   "cell_type": "markdown",
   "id": "21f0a4fa-5256-4a3b-8033-47e2a4c3afad",
   "metadata": {},
   "source": [
    "##### 9.2. Plotting data averaged across patients.\n",
    "To understand the trend in inflammation over time, we can calculate the average inflammation per day across all patients and visualize it:"
   ]
  },
  {
   "cell_type": "code",
   "execution_count": null,
   "id": "5ac359cf-f8a7-43dc-9d56-e0e156cb81ad",
   "metadata": {},
   "outputs": [],
   "source": [
    "# Plot mean "
   ]
  },
  {
   "cell_type": "markdown",
   "id": "fa066362-78ad-4ce8-b764-cf5d09859689",
   "metadata": {},
   "source": [
    "- calculated and plotted the average inflammation per day\n",
    "- the result supports our earlier visual observations\n",
    "\n",
    "Let's explore two additional statistics for a more complete picture."
   ]
  },
  {
   "cell_type": "code",
   "execution_count": null,
   "id": "75851fd9-7d85-4929-bff0-33feba86d259",
   "metadata": {},
   "outputs": [],
   "source": [
    "# Plot max"
   ]
  },
  {
   "cell_type": "code",
   "execution_count": null,
   "id": "bb1d560c-80d3-4636-98d5-a2db5eeb36be",
   "metadata": {},
   "outputs": [],
   "source": [
    "# Plot min"
   ]
  },
  {
   "cell_type": "markdown",
   "id": "90f14a8a-9f09-40d0-9c17-c46b782ef637",
   "metadata": {},
   "source": [
    "- Both the maximum and minimum values follow a similar pattern to the average\n",
    "- This confirms that all patients respond to the treatment and our code is working correctly"
   ]
  },
  {
   "cell_type": "markdown",
   "id": "23b3759d-d598-45e7-a617-ba54092d5343",
   "metadata": {},
   "source": [
    "### 10. Grouping plots\n",
    "- goal - visualize multiple related aspects side by side for comparison.\n",
    "- use Figures and Subplots.\n",
    "- create a figure with three subplots: average, maximum, and minimum inflammation"
   ]
  },
  {
   "cell_type": "code",
   "execution_count": null,
   "id": "184556c6-6952-4fa8-85ae-fc4c8338555d",
   "metadata": {},
   "outputs": [],
   "source": [
    "# 1. Create a figure and specify the overall size\n",
    "\n",
    "# 2. Create three subplots in a 1 row x 3 columns grid\n",
    "\n",
    "# 4. Plot average inflammation on the first subplot\n",
    "\n",
    "# 5. Plot maximum inflammation on the second subplot\n",
    "\n",
    "# 6. Plot minimum inflammation on the third subplot\n",
    "\n",
    "# 7. Adjust the layout so plots don't overlap\n",
    "\n",
    "# 8. Save the figure as a PNG file\n",
    "\n",
    "# 9. Display the figure"
   ]
  },
  {
   "cell_type": "markdown",
   "id": "fe9c8d40-239f-4ec2-b81a-c6efc9b16365",
   "metadata": {},
   "source": [
    "- **fig = plt.figure(figsize=(10.0, 3.0))**: Creates a new figure with dimensions 10x3 inches.\n",
    "\n",
    "- **axes1 = fig.add_subplot(1, 3, 1), axes2 = fig.add_subplot(1, 3, 2), axes3 = fig.add_subplot(1, 3, 3)**: Creates three subplots in a 1-row, 3-column grid.\n",
    "\n",
    "- **axes1.plot(np.mean(data, axis=0))**: Plots the average inflammation per day on the first subplot.\n",
    "\n",
    "- **axes2.plot(np.amax(data, axis=0))**: Plots the maximum inflammation per day on the second subplot.\n",
    "\n",
    "- **axes3.plot(np.amin(data, axis=0))**: Plots the minimum inflammation per day on the third subplot.\n",
    "\n",
    "- **axes1.set_ylabel('average'), axes2.set_ylabel('max'), axes3.set_ylabel('min')**: Labels the y-axes for each subplot.\n",
    "\n",
    "- **fig.tight_layout()**: Adjusts the spacing between the plots.\n",
    "\n",
    "- **plt.savefig('inflammation.png') & plt.show()**: Saves the plot as a PNG and displays it."
   ]
  },
  {
   "cell_type": "markdown",
   "id": "a6af1d3d",
   "metadata": {},
   "source": [
    "## Exercise: Plotting Average Inflammation with Error Bars ( 10 min)\n",
    "In this exercise, you’ll visualize the average inflammation across all patients for each day of the clinical trial. To better understand the variability in patient responses, you'll also include standard deviation as error bars.\n",
    "\n",
    "### Instructions:\n",
    "\n",
    "1. Compute the average inflammation per day across all patients using np.mean().\n",
    "2. Compute the standard deviation per day using np.std().\n",
    "3. Create a time axis using np.arange(), where each value represents a day.\n",
    "4. Use plt.plot() to draw the line graph of average inflammation.\n",
    "5. Use plt.errorbar() to add error bars representing standard deviation at each point.\n",
    "6. Label the plot and axes appropriately.\n",
    "7. Add a legend to distinguish the line and error bars.\n",
    "\n",
    "### Hint:\n",
    "\n",
    "- Make sure the x axis (days) matches the length of your average and standard deviation arrays.\n",
    "- Use ecolor and capsize to style your error bars.\n",
    "\n",
    "### Goal:\n",
    "\n",
    "Your plot should show the average daily inflammation as a smooth curve, with error bars showing day-to-day variation across patients.\n",
    "\n",
    "Here is the code to start with:"
   ]
  },
  {
   "cell_type": "code",
   "execution_count": null,
   "id": "67006dea",
   "metadata": {},
   "outputs": [],
   "source": [
    "average = np.mean(?)\n",
    "std = np.std(?)\n",
    "days = np.arange(?)\n",
    "plt.plot(?) # Line plot\n",
    "plt.errorbar(days, ?, ?, color='blue', ecolor='?', capsize=?, label='Average ± SD')\n",
    "plt.title('Daily Average Inflammation with Standard Deviation')\n",
    "plt.xlabel('Day')\n",
    "plt.ylabel('Inflammation')\n",
    "plt.legend()\n",
    "plt.show()"
   ]
  },
  {
   "cell_type": "markdown",
   "id": "b84dbf2c-110a-46fb-8049-35ea86376fe9",
   "metadata": {},
   "source": [
    "## 11. Python Lists\n",
    "- lists are used to store multiple values together in one place.\n",
    "- to make a list, just put your values inside square brackets and separate them with commas:"
   ]
  },
  {
   "cell_type": "code",
   "execution_count": null,
   "id": "0a78a7e3-bb4f-42ee-b106-9c2072f053ac",
   "metadata": {},
   "outputs": [],
   "source": [
    "# list of odds "
   ]
  },
  {
   "cell_type": "markdown",
   "id": "7ac2c908-4ca1-4fcd-b171-436a6ba19ce2",
   "metadata": {},
   "source": [
    "- access list elements using their index\n",
    "- list elements are numbered starting from 0 for the first element "
   ]
  },
  {
   "cell_type": "code",
   "execution_count": null,
   "id": "57967415",
   "metadata": {},
   "outputs": [],
   "source": [
    "# print the first and the last elements "
   ]
  },
  {
   "cell_type": "markdown",
   "id": "761822ba-91cc-418d-9b82-7dfd5d001589",
   "metadata": {},
   "source": [
    "#### Negative Indexing (accessing from the end):  \n",
    "\n",
    "index -1 -> last element.     \n",
    "index -2 -> second last element. \n",
    "\n",
    "#### Lists are mutable\n",
    "\n",
    "- we can change an element by assigning a new value to an index:"
   ]
  },
  {
   "cell_type": "code",
   "execution_count": null,
   "id": "b5cb3960-cf13-4634-bd6c-2dc5a277bb8b",
   "metadata": {},
   "outputs": [],
   "source": [
    "names = ['Curie', 'Darwing', 'Turing']  # typo in Darwin's name\n",
    "# correct Darwin's name"
   ]
  },
  {
   "cell_type": "markdown",
   "id": "99b38e30-7436-41b1-aaa4-c1bd14783018",
   "metadata": {},
   "source": [
    "- We can't change an individual character in a string:"
   ]
  },
  {
   "cell_type": "code",
   "execution_count": null,
   "id": "a39e3458-a5ca-4a03-9d77-6ee1e89f7727",
   "metadata": {},
   "outputs": [],
   "source": [
    "name = 'Darwin'\n",
    "# try changing one on the characters using a string index"
   ]
  },
  {
   "cell_type": "markdown",
   "id": "c51599fa-85b8-4805-9d2b-cbb2168d4b6c",
   "metadata": {},
   "source": [
    "### Mutable and Immutable Objects\n",
    "- Mutable objects can be changed after they are created while immutable data cannot. \n",
    "\n",
    "- Immutable objects: int, float, str, tuple, bool\n",
    "- Mutable objects: lists, arrays, dictionaries, classes \n",
    "\n",
    "You can change individual elements, append new elements, or reorder the list. For example:"
   ]
  },
  {
   "cell_type": "code",
   "execution_count": null,
   "id": "5da787b4-96ff-44f5-b232-2286cf8a6a33",
   "metadata": {},
   "outputs": [],
   "source": [
    "mild_salsa = ['peppers', 'onions', 'cilantro', 'tomatoes']\n",
    "# assign hot_salsa to mild_salsa \n",
    "# change hot_salsa\n",
    "# check values"
   ]
  },
  {
   "cell_type": "markdown",
   "id": "3ec08952-8442-4a53-9301-f8235a0b22a0",
   "metadata": {},
   "source": [
    "In the example above, both mild_salsa and hot_salsa point to the same list in memory, so when you change hot_salsa, it also affects mild_salsa.\n",
    "\n",
    "If you want hot_salsa to be independent of mild_salsa, you need to make a copy of the list:"
   ]
  },
  {
   "cell_type": "code",
   "execution_count": null,
   "id": "5e05b252-6caa-4422-9d25-cce789051f1d",
   "metadata": {},
   "outputs": [],
   "source": [
    "mild_salsa = ['peppers', 'onions', 'cilantro', 'tomatoes']\n",
    "# create a copy of mild_salsa\n",
    "# chahge the copy\n",
    "# check values"
   ]
  },
  {
   "cell_type": "markdown",
   "id": "b29522f5",
   "metadata": {},
   "source": [
    "In this case, modifying hot_salsa doesn’t affect mild_salsa because they now refer to different lists.\n",
    "\n",
    "While modifying data in place is efficient (since it avoids copying large structures), it can make your code harder to follow, especially when multiple variables refer to the same data.\n",
    "\n",
    "- The list() can convert other iterable objects into lists. For example, you can make a list from a string:"
   ]
  },
  {
   "cell_type": "code",
   "execution_count": null,
   "id": "3f827387",
   "metadata": {},
   "outputs": [],
   "source": [
    "# use list() to construct a list from a string"
   ]
  },
  {
   "cell_type": "markdown",
   "id": "9a98bdff",
   "metadata": {},
   "source": [
    "### 12. Nested Lists\n",
    "\n",
    "Since a list can contain any Python objects, it can  contain other lists.\n",
    "\n",
    "For example, you could represent the products on the shelves of a small grocery shop as a nested list called veg:"
   ]
  },
  {
   "cell_type": "markdown",
   "id": "ef75a97e-ad21-4486-8819-d31bebb25587",
   "metadata": {},
   "source": [
    "![Image of veggies](https://swcarpentry.github.io/python-novice-inflammation/fig/04_groceries_veg.png)\n",
    "To store the contents of the shelf in a nested list, you write it this way:"
   ]
  },
  {
   "cell_type": "code",
   "execution_count": null,
   "id": "00141703-a6b7-4552-b5c9-ba5fc2060977",
   "metadata": {},
   "outputs": [],
   "source": [
    "veg = [\n",
    "    ['lettuce', 'lettuce', 'peppers', 'zucchini'],\n",
    "      ]\n",
    "# add two lists to the parent list veg"
   ]
  },
  {
   "cell_type": "markdown",
   "id": "3c724661-e63f-4579-804f-6a7f5c2ef630",
   "metadata": {},
   "source": [
    "Here are some visual examples of how indexing a list of lists veg works. First, you can reference each row on the shelf as a separate list. For example, veg[2] represents the bottom row, which is a list of the baskets in that row."
   ]
  },
  {
   "cell_type": "markdown",
   "id": "b4620211-35a5-46ae-96d7-8eeba7804fad",
   "metadata": {},
   "source": [
    "![Image of veggies indexes](https://swcarpentry.github.io/python-novice-inflammation/fig/04_groceries_veg0.png)\n",
    "Index operations using the image would work like this:"
   ]
  },
  {
   "cell_type": "code",
   "execution_count": null,
   "id": "885625dd-ddca-4958-96e3-9edd25244cb6",
   "metadata": {},
   "outputs": [],
   "source": [
    "# Show the first shelf"
   ]
  },
  {
   "cell_type": "code",
   "execution_count": null,
   "id": "21a0cc47-8041-483e-ae62-4e392f37e406",
   "metadata": {},
   "outputs": [],
   "source": [
    "# Show the last shelf"
   ]
  },
  {
   "cell_type": "markdown",
   "id": "97357f4c-3459-4a51-868c-53901f9c2d54",
   "metadata": {},
   "source": [
    "To reference a specific basket on a specific shelf, you use two indexes. The first index represents the row (from top to bottom) and the second index represents the specific basket (from left to right)."
   ]
  },
  {
   "cell_type": "markdown",
   "id": "2568649b-c6b6-4416-bab2-3afb9e94a9ea",
   "metadata": {},
   "source": [
    "![Image of veggies indexes2](https://swcarpentry.github.io/python-novice-inflammation/fig/04_groceries_veg00.png)"
   ]
  },
  {
   "cell_type": "code",
   "execution_count": null,
   "id": "41e59055-1880-4740-a5ca-4094d8c04597",
   "metadata": {},
   "outputs": [],
   "source": [
    "# Show the first basket"
   ]
  },
  {
   "cell_type": "code",
   "execution_count": null,
   "id": "b8862534-606d-4ece-890e-fd02b7bb0574",
   "metadata": {},
   "outputs": [],
   "source": [
    "# Show another basket"
   ]
  },
  {
   "cell_type": "markdown",
   "id": "0bddb708-522c-4597-ad27-efad055b88c7",
   "metadata": {},
   "source": [
    "### 13. Heterogeneous Lists\n",
    "Lists in Python can contain elements of different types. For example:"
   ]
  },
  {
   "cell_type": "code",
   "execution_count": null,
   "id": "69933428-4e01-468f-98e1-b90ba9dcc0f3",
   "metadata": {},
   "outputs": [],
   "source": [
    "# create a heterogeneous list sample_ages[]"
   ]
  },
  {
   "cell_type": "markdown",
   "id": "640c47e7-d647-49a6-a81f-3b6c68e128be",
   "metadata": {},
   "source": [
    "There are many ways to change the contents of lists besides assigning new values to individual elements:"
   ]
  },
  {
   "cell_type": "code",
   "execution_count": null,
   "id": "56bc6817-4fd2-4bd1-8377-d1df3bd95a33",
   "metadata": {},
   "outputs": [],
   "source": [
    "# Append an element to the list odds[]"
   ]
  },
  {
   "cell_type": "code",
   "execution_count": null,
   "id": "a0836555-059d-42f7-9dc0-d900a2b15ce2",
   "metadata": {},
   "outputs": [],
   "source": [
    "# Remove the first element"
   ]
  },
  {
   "cell_type": "code",
   "execution_count": null,
   "id": "3e62f1bc-e746-4ceb-93a3-2ec1f65e1925",
   "metadata": {},
   "outputs": [],
   "source": [
    "# Reverse the list"
   ]
  },
  {
   "cell_type": "markdown",
   "id": "3988972b-0508-44e0-bc4a-6f3e0c367b22",
   "metadata": {},
   "source": [
    "Be careful when you assign one list variable to another (e.g., new_list = old_list)\n",
    "- you're not creating a new list \n",
    "- you're just pointing both variables to the same list. \n",
    "\n",
    "As a result, if you modify the list using one of the variables, the changes will be reflected in both, which can be unexpected if you're not familiar with how Python handles this."
   ]
  },
  {
   "cell_type": "code",
   "execution_count": null,
   "id": "62a676e5-e174-45da-bdb8-21cdbebb962d",
   "metadata": {},
   "outputs": [],
   "source": [
    "odds = [3, 5, 7]\n",
    "primes = odds\n",
    "# change primes\n",
    "# observe primes and odds"
   ]
  },
  {
   "cell_type": "markdown",
   "id": "857dd36a-1bed-4f82-9e83-187e46f6d02b",
   "metadata": {},
   "source": [
    "To avoid unintended modifications, you can create a copy of the list instead of assigning it directly. This way, changes made to the copied list won't affect the original."
   ]
  },
  {
   "cell_type": "code",
   "execution_count": null,
   "id": "c1dc7ed5-aae5-4b25-aa87-5d4e873e72f5",
   "metadata": {},
   "outputs": [],
   "source": [
    "odds = [3, 5, 7]\n",
    "primes = list(odds)\n",
    "# change primes\n",
    "# observe primes and odds"
   ]
  },
  {
   "cell_type": "markdown",
   "id": "25861ef4-6c1c-4919-ac6d-fe6ee554c466",
   "metadata": {},
   "source": [
    "Subsets of lists and strings can be accessed by specifying ranges of values in brackets, similar to how we accessed ranges of positions in a NumPy array. This is commonly referred to as “slicing” the list/string."
   ]
  },
  {
   "cell_type": "code",
   "execution_count": null,
   "id": "2b362468-fc06-43bc-8702-0861aa1d274f",
   "metadata": {},
   "outputs": [],
   "source": [
    "date = 'Monday 4 January 2016'\n",
    "# select day using start:stop"
   ]
  },
  {
   "cell_type": "markdown",
   "id": "96cb9062-b85b-4062-ab7b-54aacc1492ce",
   "metadata": {},
   "source": [
    "If you want to take a slice from the beginning of a sequence, you can omit the first index in the range:"
   ]
  },
  {
   "cell_type": "code",
   "execution_count": null,
   "id": "2019d5e5-ca7a-4752-b8c2-6d24c6df44d6",
   "metadata": {},
   "outputs": [],
   "source": [
    "# select day without specifying the first index"
   ]
  },
  {
   "cell_type": "markdown",
   "id": "e52cd80a-c57a-4b58-bdc2-4be36de4b1ba",
   "metadata": {},
   "source": [
    "And similarly, you can omit the ending index in the range to take a slice to the very end of the sequence:"
   ]
  },
  {
   "cell_type": "code",
   "execution_count": null,
   "id": "ff9d6064-5563-49d9-8900-7f0553ed96ba",
   "metadata": {},
   "outputs": [],
   "source": [
    "months = ['jan', 'feb', 'mar', 'apr', 'may', 'jun', 'jul', 'aug', 'sep', 'oct', 'nov', 'dec']\n",
    "sond = months[8:12]\n",
    "# replace fixed las index with expressions that will work for lists of any lengths "
   ]
  },
  {
   "cell_type": "markdown",
   "id": "17d9e624-c0ad-479e-904f-6aa76a1d45f5",
   "metadata": {},
   "source": [
    "## 14 Loops in Python\n",
    "- Loops allow you to repeat a block of code multiple times without writing it out again.\n",
    "\n",
    "Example - accessing all numbers in a list"
   ]
  },
  {
   "cell_type": "code",
   "execution_count": null,
   "id": "499a191f-73ab-4343-8ae2-455b31d1047b",
   "metadata": {},
   "outputs": [],
   "source": [
    "# create a list odds with 4 elements"
   ]
  },
  {
   "cell_type": "markdown",
   "id": "85a53356-d677-4965-9b99-9e3cb99c2edd",
   "metadata": {},
   "source": [
    "- We can access list elements by index:"
   ]
  },
  {
   "cell_type": "code",
   "execution_count": null,
   "id": "11156e93-9229-431d-a347-95c23684e338",
   "metadata": {},
   "outputs": [],
   "source": [
    "# print each of the elements"
   ]
  },
  {
   "cell_type": "markdown",
   "id": "e1bde99d-ca21-41a9-94a6-611616099b6b",
   "metadata": {},
   "source": [
    "This is a bad approach for three reasons:\n",
    "\n",
    "1. Not scalable\n",
    "\n",
    "2. Difficult to maintain\n",
    "\n",
    "3. Fragile"
   ]
  },
  {
   "cell_type": "code",
   "execution_count": null,
   "id": "6380cd86-b9a4-458c-ad4e-e0fcb66b6047",
   "metadata": {},
   "outputs": [],
   "source": [
    "# try printing element 4 of the list with only 3 elements"
   ]
  },
  {
   "cell_type": "markdown",
   "id": "c31e1704-647e-4ff3-8038-9640431e2b81",
   "metadata": {},
   "source": [
    "- `for` loop iterates over a sequence and executes a block of code for each item in that sequence. \n",
    "- works only when you know how many times you want to loop."
   ]
  },
  {
   "cell_type": "code",
   "execution_count": null,
   "id": "b10b8fd9-dc7d-4b93-b526-24e09fd5014a",
   "metadata": {},
   "outputs": [],
   "source": [
    "odds = [1, 3, 5, 7]\n",
    "# print elements using a for loop"
   ]
  },
  {
   "cell_type": "markdown",
   "id": "bc7b38b1-76f3-4665-bc20-5456ac579d02",
   "metadata": {},
   "source": [
    "The improved version uses a for loop to repeat an operation — in this case, printing — once for each thing in a sequence. The general form of a loop is:"
   ]
  },
  {
   "cell_type": "code",
   "execution_count": null,
   "id": "a0446f6f-a3fd-46f0-9859-4249577fd8c8",
   "metadata": {},
   "outputs": [],
   "source": [
    "for variable in collection:\n",
    "    # do things using variable"
   ]
  },
  {
   "cell_type": "markdown",
   "id": "588af8c1-4606-4568-ad3e-c67b8235ec51",
   "metadata": {},
   "source": [
    "Using the odds example above, the loop might look like this:  \n",
    "\n",
    "![odd num](https://swcarpentry.github.io/python-novice-inflammation/fig/05-loops_image_num.png)"
   ]
  },
  {
   "cell_type": "markdown",
   "id": "74e0b99c-1441-482b-a930-4ed1287e7b68",
   "metadata": {},
   "source": [
    "- Loop variable `num` takes the value of each element in the sequence.\n",
    "- You can name it anything\n",
    "- The collection you're looping through (`odds` in this case) is called iterable\n",
    "- There must be a colon at the end of the `for` statement. It signals the start of the loop body\n",
    "- Everything indented after : runs in each iteration\n",
    "- We must indent anything we want to run inside the loop. Python uses indentation instead of braces or a command to signify the end of the loop body (e.g. end for). Everything indented after the for statement belongs to the loop body.\n",
    "\n",
    "Here’s another loop that repeatedly updates a variable:"
   ]
  },
  {
   "cell_type": "code",
   "execution_count": null,
   "id": "897a93e2-2166-4c31-9002-125d6d403114",
   "metadata": {},
   "outputs": [],
   "source": [
    "length = 0\n",
    "names = ['Curie', 'Darwin', 'Turing']\n",
    "for value in names:\n",
    "   # increment length\n",
    "# print length"
   ]
  },
  {
   "cell_type": "markdown",
   "id": "ca4cb629-65b6-432f-b067-0c7deeb8d775",
   "metadata": {},
   "source": [
    "It’s worth tracing the execution of this little program step by step.\n",
    "1. Since there are three names in names, the statement on incrementing length will be executed three times. \n",
    "2. The first time around, length is zero and value of the loop variable is Curie. The statement on line 4 adds 1 to the old value of length and updates length to refer to that new value. \n",
    "3. The next time around, value is Darwin and length is 1, so length is updated to be 2.\n",
    "4. After one more update, length is 3\n",
    "5. since there is nothing left in names to process, the loop finishes and the print function on line 5 tells us our final answer.\n",
    "\n",
    "This pattern demonstrates a fundamental programming concept: using loops to aggregate information about a collection. The counter variable (length) accumulates state across iterations, giving us meaningful information about the entire collection."
   ]
  },
  {
   "cell_type": "markdown",
   "id": "929fc47c-064d-4180-b874-c7c1c0da9413",
   "metadata": {},
   "source": [
    "Note also that finding the length of an object is such a common operation that Python actually has a built-in function to do it called len:"
   ]
  },
  {
   "cell_type": "code",
   "execution_count": null,
   "id": "605c1fc1-3c5b-4378-afc4-cdb03ee11784",
   "metadata": {},
   "outputs": [],
   "source": [
    "# find length using len()"
   ]
  },
  {
   "cell_type": "markdown",
   "id": "7226e1ce-1e31-4a77-aae3-a05a324a917f",
   "metadata": {},
   "source": [
    "\n",
    "- len() is much faster than any function we could write ourselves \n",
    "- it will also give us the length of many other things \n",
    "\n",
    "### Generate a range of numbers from 1 to N\n",
    "Python has a built-in function called range that generates a sequence of numbers. Range can accept 1, 2, or 3 parameters: [start, stop, step]\n",
    "\n",
    "- If one parameter is given, range generates a sequence of that length, starting at zero and incrementing by 1. For example, range(3) produces the numbers 0, 1, 2.\n",
    "- If two parameters are given, range starts at the first and ends just before the second, incrementing by one. For example, range(2, 5) produces 2, 3, 4.\n",
    "- If range is given 3 parameters, it starts at the first one, ends just before the second one, and increments by the third one. For example, range(3, 10, 2) produces 3, 5, 7, 9."
   ]
  },
  {
   "cell_type": "code",
   "execution_count": null,
   "id": "3b092c97-f0ba-409d-a116-efa0167ea431",
   "metadata": {},
   "outputs": [],
   "source": [
    "# use range to print 4 numbers"
   ]
  },
  {
   "cell_type": "markdown",
   "id": "acf70cd9-4102-4658-8e0f-8b0f6f0ed7d4",
   "metadata": {},
   "source": [
    "#### Check your Understanding\n",
    "Given the following loop:"
   ]
  },
  {
   "cell_type": "code",
   "execution_count": null,
   "id": "3a112e3e-8b44-42a4-b783-903d3d7a066a",
   "metadata": {},
   "outputs": [],
   "source": [
    "word = 'oxygen'\n",
    "for letter in word:\n",
    "    print(letter)"
   ]
  },
  {
   "cell_type": "markdown",
   "id": "335afe99-9aab-4714-b489-756622dfeaf4",
   "metadata": {},
   "source": [
    "How many times is the body of the loop executed?\n",
    "- 3 times\n",
    "- 4 times\n",
    "- 5 times\n",
    "- 6 times\n",
    "\n"
   ]
  },
  {
   "cell_type": "markdown",
   "id": "b55eb0ca-2c2c-4bc6-968d-ed333d495e1d",
   "metadata": {},
   "source": [
    "## 15. Analyzing Data from Multiple Files\n",
    "So far, we have evaluated our data analysis program using a single test file of clinical trial data. Now we are ready to anayze the whole set of 12 clinical trials provided by the PI.\n",
    "\n",
    "As a final piece to processing our inflammation data, we need a way to get a list of all the files in our data directory whose names start with inflammation- and end with .csv. The following library will help us to achieve this:"
   ]
  },
  {
   "cell_type": "code",
   "execution_count": null,
   "id": "433c17eb-2a04-4710-865e-1b400cfbea08",
   "metadata": {},
   "outputs": [],
   "source": [
    "import glob"
   ]
  },
  {
   "cell_type": "markdown",
   "id": "e33a7241-e465-423a-be49-21cc105c48db",
   "metadata": {},
   "source": [
    "The glob library contains a function, also called glob, that finds files and directories whose names match a pattern. We provide those patterns as strings: the character * matches zero or more characters, while ? matches any one character. We can use this to get the names of all the CSV files in the current directory:"
   ]
  },
  {
   "cell_type": "code",
   "execution_count": null,
   "id": "aad6b5b6-9995-46f4-b7f4-8005e8153e08",
   "metadata": {},
   "outputs": [],
   "source": [
    "# use glob.glob() to get all inflammation files in the directory data"
   ]
  },
  {
   "cell_type": "markdown",
   "id": "b0ccc14f-c28c-4ed2-92f5-31882456a5a2",
   "metadata": {},
   "source": [
    "As these examples show, glob.glob’s result is a list of file and directory paths in arbitrary order. This means we can loop over it to do something with each filename in turn. In our case, the “something” we want to do is generate a set of plots for each file in our inflammation dataset.\n",
    "\n",
    "If we want to start by analyzing just the first three files in alphabetical order, we can use the sorted() built-in function to generate a new sorted list from the glob.glob output:"
   ]
  },
  {
   "cell_type": "code",
   "execution_count": null,
   "id": "c2314149-adc6-4578-af8f-e979f96b00e3",
   "metadata": {},
   "outputs": [],
   "source": [
    "# get the list of filenames \n",
    "# loop over all the inflammation files  \n",
    "   # make a figure showing mean, max and min for each of the files (reuse our plotting code)"
   ]
  },
  {
   "cell_type": "markdown",
   "id": "5d311023-a5f2-44d0-9fd2-163d10cc5c64",
   "metadata": {},
   "source": [
    "The plots have some suspicious features not normally found in valid trials:  the maxima plots show unnatural noiseless linear rise and fall; and their minima plots show stepwise features.\n",
    "\n",
    "The third dataset shows much noisier average and maxima plots that are far less suspicious than the first two datasets, however the minima plot shows that the third dataset minima is consistently zero across every day of the trial.\n",
    "\n",
    "If we produce a heat map for the third data file we see the following:"
   ]
  },
  {
   "cell_type": "code",
   "execution_count": null,
   "id": "4fa4b1a7-a041-482c-a285-ad09dd2bbaf3",
   "metadata": {},
   "outputs": [],
   "source": [
    "# plot inflammation-03.csv"
   ]
  },
  {
   "cell_type": "markdown",
   "id": "eb807069-988e-4850-94b6-cdaf993197e0",
   "metadata": {},
   "source": [
    "We can see that there are zero values sporadically distributed across all patients and days of the clinical trial, suggesting that there were potential issues with data collection throughout the trial. In addition, we can see that the last patient in the study didn’t have any inflammation flare-ups at all throughout the trial, suggesting that they may not even suffer from arthritis!"
   ]
  },
  {
   "cell_type": "markdown",
   "id": "5142b5a5-bb89-4258-9531-1f03b26e3dd4",
   "metadata": {},
   "source": [
    "After spending some time investigating the heat map and statistical plots we gain some insight into the twelve clinical trial datasets.\n",
    "\n",
    "The datasets appear to fall into two categories:\n",
    "\n",
    "- ***seemingly “ideal” datasets*** that agree excellently with Dr. Maverick’s claims, but display suspicious maxima and minima (such as inflammation-01.csv and inflammation-02.csv)\n",
    "- ***“noisy” datasets*** that somewhat agree with Dr. Maverick’s claims, but show concerning data collection issues such as sporadic missing values and even an unsuitable candidate making it into the clinical trial.\n",
    "\n",
    "After reviewing these findings, we can conclude that the clinical data has been fabricated by Dr. Maverick based on the identified inconsistencies in the datasets.\n",
    "\n",
    "Oh well! Lets continue using the data to learn how to program in python! "
   ]
  }
 ],
 "metadata": {
  "kernelspec": {
   "display_name": "env-plot",
   "language": "python",
   "name": "python3"
  },
  "language_info": {
   "codemirror_mode": {
    "name": "ipython",
    "version": 3
   },
   "file_extension": ".py",
   "mimetype": "text/x-python",
   "name": "python",
   "nbconvert_exporter": "python",
   "pygments_lexer": "ipython3",
   "version": "3.13.2"
  }
 },
 "nbformat": 4,
 "nbformat_minor": 5
}
