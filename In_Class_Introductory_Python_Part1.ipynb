{
 "cells": [
  {
   "cell_type": "markdown",
   "id": "77dbe3d9-66fd-40ed-95db-9a986ee12d07",
   "metadata": {},
   "source": [
    "# Introductory Programming with Python (Part 1)"
   ]
  },
  {
   "cell_type": "markdown",
   "id": "2a2b808e-380d-4cdd-a421-43bbba765ad7",
   "metadata": {},
   "source": [
    "The best way to learn programming is by solving real-world problems. That's why this course is designed around a common and practical scientific task: ***data analysis***. \n",
    "\n",
    "Python is a versatile and powerful language, widely used in scientific research, engineering, and industry for data analysis, automation, and more.\n",
    "\n",
    "Throughout this course, you’ll learn important concepts like how to analyze and manipulate data, visualize it effectively, and write clean, efficient code. Along the way, you’ll also learn best practices like error handling, debugging, and designing robust programs.\n",
    "\n",
    "By the end of this course, you will have gained:\n",
    "\n",
    "- A strong foundation in Python programming.\n",
    "- The ability to analyze and manipulate data.\n",
    "- Transferable skills that can be applied to a wide range of scientific and engineering problems."
   ]
  },
  {
   "cell_type": "markdown",
   "id": "1ff2ced4-48b0-41c2-b51a-328b9cbe597e",
   "metadata": {},
   "source": [
    "## Scenario: A Miracle Cure for Arthritis\n",
    "\n",
    "Let's imagine a scenario where our colleague, \"Dr. Maverick,\" says they’ve invented a new drug that can stop arthritis inflammation after just 3 weeks. This sounds amazing, but we want to check if it really works. Dr. Maverick finally gave us some data from a clinical trial, which we’ll use to test the drug’s effect.\n",
    "\n",
    "Here’s what the data looks like:\n",
    "\n",
    "- 60 patients were part of the trial.\n",
    "- The trial lasted for 40 days.\n",
    "- Each row in the data represents a different patient.\n",
    "- Each column represents a day of the trial.\n",
    "- The numbers in the data show how many times each patient had inflammation each day.\n",
    "\n",
    "After a patient has their first inflammation, they start taking the drug. Dr. Maverick says the drug takes a few weeks to work, so we want to check if the number of inflammations really goes down after patients take it.\n",
    "\n",
    "To figure this out, we will:\n",
    "1. Find the average number of inflammations per day across all the patients. This will help us see if the drug is working.\n",
    "2. Create a graph to show this information clearly, so we can easily share it with others.\n",
    "\n"
   ]
  },
  {
   "cell_type": "markdown",
   "id": "b040399d-8550-4e5b-b79d-ad0abff12472",
   "metadata": {},
   "source": [
    "## Variables\n",
    "\n",
    "Before we jump into analyzing data, let’s talk about one of the most powerful tools in programming: ***variables***. Think of a variable like a storage box where you can put information that you might want to use later. This is how we make computers remember things for us!\n",
    "\n",
    "Let’s start with something simple. Imagine using Python like a calculator. You can do quick math, like this:"
   ]
  },
  {
   "cell_type": "code",
   "execution_count": 2,
   "id": "0821e54d-ce87-486d-bb2e-0fc6626d719c",
   "metadata": {},
   "outputs": [
    {
     "data": {
      "text/plain": [
       "23"
      ]
     },
     "execution_count": 2,
     "metadata": {},
     "output_type": "execute_result"
    }
   ],
   "source": [
    "3 + 5 * 4"
   ]
  },
  {
   "cell_type": "markdown",
   "id": "124bf3b5-c1fb-43c7-a88c-3611c852be45",
   "metadata": {},
   "source": [
    "If we run the previous cell, it return 23. That’s handy, but let’s be honest, it’s not very exciting. What makes programming powerful is the ability to store this result or any other data, and use it again whenever we need it. That’s where variables come in."
   ]
  },
  {
   "cell_type": "markdown",
   "id": "91f93aa5-3a8f-47f6-945f-51bb006b6813",
   "metadata": {},
   "source": [
    "### What Is a Variable?\n",
    "A variable is a name that refers to a value. Let’s say we have a patient who weighs 60 kilograms. We can store this value in a variable called ***weight_kg***, like this:"
   ]
  },
  {
   "cell_type": "code",
   "execution_count": 55,
   "id": "9a45ed39-8fe9-49f0-8739-6b12067cfe3f",
   "metadata": {},
   "outputs": [],
   "source": [
    "weight_kg = 60"
   ]
  },
  {
   "cell_type": "markdown",
   "id": "ab0fbf74-8d45-468b-8458-b73b8fce3193",
   "metadata": {},
   "source": [
    "Now, Python will remember that weight_kg equals 60. Instead of doing the math all over again or writing the number repeatedly, we just use weight_kg whenever we need it.\n",
    "\n",
    "**A Few Rules for Naming Variables:**\n",
    "- You can use **letters**, **digits**, and **underscores (_)**, but the name ***can’t*** start with a ***digit***.\n",
    "- Variable names are case-sensitive, so **weight** and **Weight** are two different things.\n",
    "\n",
    "For example:\n",
    "- **weight0** is valid, but **0weight** isn’t.\n",
    "- **weight_kg** is different from **Weight_kg**."
   ]
  },
  {
   "cell_type": "markdown",
   "id": "9b16f9e3-74a2-40b3-9732-af6e94b31a05",
   "metadata": {},
   "source": [
    "### Types of Data in Python\n",
    "Python can work with different types of data. Three of the most common types are:\n",
    "\n",
    "- **Integers** (whole numbers like 1, 2, 100)\n",
    "- **Floating point numbers** (numbers with decimals like 2.5, 60.3)\n",
    "- **Strings** (text like \"Hello\", \"001\")\n",
    "  \n",
    "For example, let’s say we want to store a patient’s weight. If the weight is exactly 60 kilograms, we can use an integer:"
   ]
  },
  {
   "cell_type": "code",
   "execution_count": 3,
   "id": "ec645769-ca60-4c60-b081-ca77f087510d",
   "metadata": {},
   "outputs": [
    {
     "data": {
      "text/plain": [
       "60"
      ]
     },
     "execution_count": 3,
     "metadata": {},
     "output_type": "execute_result"
    }
   ],
   "source": [
    "weight_kg = 60\n",
    "weight_kg"
   ]
  },
  {
   "cell_type": "markdown",
   "id": "23bccf80-b47e-4772-8243-5a1745144057",
   "metadata": {},
   "source": [
    "But if we want to be more precise, like 60.3 kilograms, we can use a floating point number:"
   ]
  },
  {
   "cell_type": "code",
   "execution_count": 4,
   "id": "9e6fa784-4756-44b5-9532-d3fef48d194a",
   "metadata": {},
   "outputs": [
    {
     "data": {
      "text/plain": [
       "60.3"
      ]
     },
     "execution_count": 4,
     "metadata": {},
     "output_type": "execute_result"
    }
   ],
   "source": [
    "weight_kg = 60.3\n",
    "weight_kg"
   ]
  },
  {
   "cell_type": "markdown",
   "id": "f35ac4fe-f995-4b99-b954-9a6c223229e4",
   "metadata": {},
   "source": [
    "To store text, such as a unique ID for each patient, we use strings. Strings are surrounded by single or double quotes:"
   ]
  },
  {
   "cell_type": "code",
   "execution_count": 5,
   "id": "a654b9fa-6b3c-41a4-bd9d-25060c3ad54f",
   "metadata": {},
   "outputs": [
    {
     "data": {
      "text/plain": [
       "'001'"
      ]
     },
     "execution_count": 5,
     "metadata": {},
     "output_type": "execute_result"
    }
   ],
   "source": [
    "patient_id = '001'\n",
    "patient_id "
   ]
  },
  {
   "cell_type": "markdown",
   "id": "edcec721-2be9-44d4-8344-c46b7da531c0",
   "metadata": {},
   "source": [
    "### Using Variables in Python\n",
    "Once we store data in variables, we can use those variables to do calculations. \n",
    "\n",
    "For example, if we want to convert the patient’s weight to pounds, we can use this formula:"
   ]
  },
  {
   "cell_type": "code",
   "execution_count": 56,
   "id": "4ea1b4d8-df1e-4221-9601-b360b433a86b",
   "metadata": {},
   "outputs": [
    {
     "data": {
      "text/plain": [
       "132.0"
      ]
     },
     "execution_count": 56,
     "metadata": {},
     "output_type": "execute_result"
    }
   ],
   "source": [
    "weight_lb = 2.2 * weight_kg\n",
    "weight_lb "
   ]
  },
  {
   "cell_type": "markdown",
   "id": "6e1ec24e-e6ed-4464-9e99-852086c640a6",
   "metadata": {},
   "source": [
    "This takes the weight in kilograms and multiplies it by 2.2 to convert it to pounds.\n",
    "\n",
    "We can also change a string by adding more text to it. For instance, we might want to label the patient ID:"
   ]
  },
  {
   "cell_type": "code",
   "execution_count": 6,
   "id": "53c3c300-83d3-428f-97b0-316fb9329c1b",
   "metadata": {},
   "outputs": [
    {
     "data": {
      "text/plain": [
       "'inflam_001'"
      ]
     },
     "execution_count": 6,
     "metadata": {},
     "output_type": "execute_result"
    }
   ],
   "source": [
    "patient_id = 'inflam_' + patient_id\n",
    "patient_id"
   ]
  },
  {
   "cell_type": "markdown",
   "id": "ee578a61-7223-4e62-8b7f-3832a1fdcbae",
   "metadata": {},
   "source": [
    "Now the patient ID would look like this: inflam_001."
   ]
  },
  {
   "cell_type": "markdown",
   "id": "88726d14-a50e-4ede-9036-58ea6856822d",
   "metadata": {},
   "source": [
    "### Built-in Python Functions\n",
    "Python has built-in functions that perform common tasks. One very useful function is print(), which shows information on the screen. For example:"
   ]
  },
  {
   "cell_type": "code",
   "execution_count": 58,
   "id": "5ae8de2e-724d-499b-bf77-3037e6833897",
   "metadata": {},
   "outputs": [
    {
     "name": "stdout",
     "output_type": "stream",
     "text": [
      "132.0\n",
      "001\n"
     ]
    }
   ],
   "source": [
    "print(weight_lb)\n",
    "print(patient_id)"
   ]
  },
  {
   "cell_type": "markdown",
   "id": "04c37b89-0e0c-4f6c-ba85-d72021eeb089",
   "metadata": {},
   "source": [
    "When we use a function like **print()**, the parentheses are important. You need to put whatever you want to print inside the parentheses.\n",
    "\n",
    "You can also display more than one thing at a time. For example, to print both the patient ID and the weight in kilograms, we write:"
   ]
  },
  {
   "cell_type": "code",
   "execution_count": 8,
   "id": "08e0e79b-052a-46a3-bd34-e427bb183619",
   "metadata": {},
   "outputs": [
    {
     "name": "stdout",
     "output_type": "stream",
     "text": [
      "inflam_001 weight in kilograms: 60.3\n"
     ]
    }
   ],
   "source": [
    "print(patient_id, 'weight in kilograms:', weight_kg)"
   ]
  },
  {
   "cell_type": "markdown",
   "id": "9f25fe19-120b-435a-98c4-9356fdda41ac",
   "metadata": {},
   "source": [
    "### Checking Data Types\n",
    "We can also check what kind of data we’re working with. For example, to see if a variable is a string or a floating point number, we use the **type()** function:"
   ]
  },
  {
   "cell_type": "code",
   "execution_count": 9,
   "id": "14c1d327-5af2-4e91-a0d3-039bfa85dfca",
   "metadata": {},
   "outputs": [
    {
     "name": "stdout",
     "output_type": "stream",
     "text": [
      "<class 'float'>\n",
      "<class 'str'>\n"
     ]
    }
   ],
   "source": [
    "print(type(weight_kg))\n",
    "print(type(patient_id))"
   ]
  },
  {
   "cell_type": "markdown",
   "id": "2495cb51-0f91-4417-a215-ebc55601e404",
   "metadata": {},
   "source": [
    "### Arithmetic with Variables\n",
    "You can even do math inside the print() function. For example, to convert kilograms to pounds and print the result at the same time:"
   ]
  },
  {
   "cell_type": "code",
   "execution_count": 13,
   "id": "ed8f783b-2eba-46a2-a12d-ae1b12ae3db4",
   "metadata": {},
   "outputs": [
    {
     "name": "stdout",
     "output_type": "stream",
     "text": [
      "weight in pounds: 132.66\n"
     ]
    }
   ],
   "source": [
    "print('weight in pounds:', 2.2 * weight_kg)"
   ]
  },
  {
   "cell_type": "markdown",
   "id": "57056c90-376f-4858-8cef-3330e3ac5f0a",
   "metadata": {},
   "source": [
    "Notice that this doesn’t change the value of weight_kg. If we print weight_kg again, it will still be 60.3."
   ]
  },
  {
   "cell_type": "code",
   "execution_count": 14,
   "id": "1895285a-2eb6-4641-87f0-18ed6d62e049",
   "metadata": {},
   "outputs": [
    {
     "name": "stdout",
     "output_type": "stream",
     "text": [
      "Weight in kg:  60.3\n"
     ]
    }
   ],
   "source": [
    "print('Weight in kg: ', weight_kg )"
   ]
  },
  {
   "cell_type": "markdown",
   "id": "870f2afc-8d65-49a5-94d5-18cbd0339039",
   "metadata": {},
   "source": [
    "To change the value of a variable, we have to assign it a new value. For example, if the patient’s weight changes to 65 kilograms:"
   ]
  },
  {
   "cell_type": "code",
   "execution_count": 15,
   "id": "2a5afcd3-3c72-44dd-b413-2ca38a55c4fb",
   "metadata": {},
   "outputs": [
    {
     "name": "stdout",
     "output_type": "stream",
     "text": [
      "weight in kilograms is now: 65.0\n"
     ]
    }
   ],
   "source": [
    "weight_kg = 65.0\n",
    "print('weight in kilograms is now:', weight_kg)"
   ]
  },
  {
   "cell_type": "markdown",
   "id": "c7cdb9fd-cccd-4d22-b5e1-52f202017a59",
   "metadata": {},
   "source": [
    "#### Check your Understanding\n",
    "**a)** What values do the variables *mass* and *age* have after each of the following statements? Test your answer by executing the lines.\n",
    "- mass = 47.5\n",
    "- age = 122\n",
    "- mass = mass * 2.0\n",
    "- age = age - 20\n",
    "\n",
    "**b)** Python allows you to assign multiple values to multiple variables in one line by separating the variables and values with commas. What does the following program print out?\n",
    "\n",
    "first, second = 'Grace', 'Hopper'\n",
    "\n",
    "third, fourth = second, first\n",
    "\n",
    "print(third, fourth)\n",
    "\n",
    "**c)** What are the data types of the following variables?\n",
    "- planet = 'Earth'\n",
    "- apples = 5\n",
    "- distance = 10.5"
   ]
  },
  {
   "cell_type": "markdown",
   "id": "3705a0c1-0f6e-487c-8b27-94c072b2d6c4",
   "metadata": {},
   "source": [
    "## Analyzing Patient Data\n",
    "### Introduction to Python Libraries\n",
    "Python comes with basic tools for things like adding and subtracting. But sometimes, we need more advanced tools for special tasks, like working with large groups of numbers. This is where ***libraries*** come in. Think of libraries as toolboxes filled with extra tools that we can bring in only when needed.\n",
    "\n",
    "To begin processing the clinical trial inflammation data, we need to load it into Python. We can do that using a library called **NumPy**, which stands for *Numerical Python*. In general, you should use this library when you want to do fancy things with lots of numbers, especially if you have matrices or arrays. \n",
    "\n",
    "To tell Python that we’d like to start using NumPy, we need to import it:\n"
   ]
  },
  {
   "cell_type": "code",
   "execution_count": 72,
   "id": "949917ac-b720-463b-9f2a-0ba8838ac8ff",
   "metadata": {},
   "outputs": [],
   "source": [
    "import numpy as np"
   ]
  },
  {
   "cell_type": "markdown",
   "id": "96ad66fa-bab4-47f1-b251-dfe0e10294ac",
   "metadata": {},
   "source": [
    "This import numpy and gives it the **np** nickname. "
   ]
  },
  {
   "cell_type": "markdown",
   "id": "061bb77f-6000-4c3f-bba9-33982bd63b49",
   "metadata": {},
   "source": [
    "### Loading and Storing Data"
   ]
  },
  {
   "cell_type": "markdown",
   "id": "28552b6a-7256-4f2b-8372-6b462a64ea2e",
   "metadata": {},
   "source": [
    "After importing NumPy, we can load our data from a file (like a CSV file) using a specific function called **loadtxt**. This function reads the data and loads it into memory."
   ]
  },
  {
   "cell_type": "code",
   "execution_count": 73,
   "id": "b470b012-b1be-498c-a4db-29edecddfba1",
   "metadata": {},
   "outputs": [
    {
     "data": {
      "text/plain": [
       "array([[0., 0., 1., ..., 3., 0., 0.],\n",
       "       [0., 1., 2., ..., 1., 0., 1.],\n",
       "       [0., 1., 1., ..., 2., 1., 1.],\n",
       "       ...,\n",
       "       [0., 1., 1., ..., 1., 1., 1.],\n",
       "       [0., 0., 0., ..., 0., 2., 0.],\n",
       "       [0., 0., 1., ..., 1., 1., 0.]])"
      ]
     },
     "execution_count": 73,
     "metadata": {},
     "output_type": "execute_result"
    }
   ],
   "source": [
    "np.loadtxt(fname='data/inflammation-01.csv', delimiter=',')"
   ]
  },
  {
   "cell_type": "markdown",
   "id": "dfeaa7b9-527d-4844-b6ec-f9d317c2c45e",
   "metadata": {},
   "source": [
    "- ***fname*** specifies the name of the file we want to load.\n",
    "- ***delimiter*** tells the function how the values are separated in the file (e.g., by commas).\n",
    "\n",
    "Running this command will read in the contents of the file and output the data as an array. An array looks like a table of numbers."
   ]
  },
  {
   "cell_type": "markdown",
   "id": "6b713477-5d6c-4625-b8db-8648a6097d7a",
   "metadata": {},
   "source": [
    "Since we haven’t told it to do anything else with the function’s output, the notebook displays it. In this case, that output is the data we just loaded. By default, only a few rows and columns are shown (with ... to omit elements when displaying big arrays). Note that, to save space when displaying NumPy arrays, Python does not show us trailing zeros, so 1.0 becomes 1..\n",
    "\n",
    "Our call to *numpy.loadtxt* read our file but didn’t save the data in memory. To do that, we need to assign the array to a variable. In a similar manner to how we assign a single value to a variable, we can also assign an array of values to a variable using the same syntax. Let’s re-run numpy.loadtxt and save the returned data:"
   ]
  },
  {
   "cell_type": "code",
   "execution_count": 74,
   "id": "dc533635-d7be-4730-b1e0-bff1c529a8ef",
   "metadata": {},
   "outputs": [],
   "source": [
    "data = np.loadtxt(fname='data/inflammation-01.csv', delimiter=',')"
   ]
  },
  {
   "cell_type": "markdown",
   "id": "0388f586-e42f-496b-883d-58b39cdd4739",
   "metadata": {},
   "source": [
    "This statement doesn’t produce any output because we’ve assigned the output to the variable data. If we want to check that the data have been loaded, we can print the variable’s value:\n"
   ]
  },
  {
   "cell_type": "code",
   "execution_count": 61,
   "id": "8597f00a-1ed5-457f-919e-d5e5ef279255",
   "metadata": {},
   "outputs": [
    {
     "name": "stdout",
     "output_type": "stream",
     "text": [
      "[[0. 0. 1. ... 3. 0. 0.]\n",
      " [0. 1. 2. ... 1. 0. 1.]\n",
      " [0. 1. 1. ... 2. 1. 1.]\n",
      " ...\n",
      " [0. 1. 1. ... 1. 1. 1.]\n",
      " [0. 0. 0. ... 0. 2. 0.]\n",
      " [0. 0. 1. ... 1. 1. 0.]]\n"
     ]
    }
   ],
   "source": [
    "print(data)"
   ]
  },
  {
   "cell_type": "markdown",
   "id": "7a7b2032-7a2d-458f-b797-2abb28fc20a4",
   "metadata": {},
   "source": [
    "### Understanding the Data"
   ]
  },
  {
   "cell_type": "markdown",
   "id": "f8f213a5-b00b-41c8-9da8-a4a8ea5b7231",
   "metadata": {},
   "source": [
    "Now that the data are in memory, we can manipulate them. First, let’s ask what type of thing our variable *data* refers to:"
   ]
  },
  {
   "cell_type": "code",
   "execution_count": 62,
   "id": "3d4e6f90-07e8-497b-8226-82bb4a00f9c3",
   "metadata": {},
   "outputs": [
    {
     "name": "stdout",
     "output_type": "stream",
     "text": [
      "<class 'numpy.ndarray'>\n"
     ]
    }
   ],
   "source": [
    "print(type(data))"
   ]
  },
  {
   "cell_type": "markdown",
   "id": "c8d404d3-fac5-4274-80b9-b9e0a0cbd021",
   "metadata": {},
   "source": [
    "The output tells us that data currently refers to an N-dimensional array, the functionality for which is provided by the NumPy library. \n",
    "\n",
    "These data correspond to arthritis patients’ inflammation. The rows are the individual patients, and the columns are their daily inflammation measurements.\n",
    "\n"
   ]
  },
  {
   "cell_type": "markdown",
   "id": "284e99d7-19a8-4d11-be01-d3bbfc44e3d3",
   "metadata": {},
   "source": [
    "A Numpy array contains one or more elements of the same type. The type function will only tell you that a variable is a NumPy array but won’t tell you the type of thing inside the array. We can find out the type of the data contained in the NumPy array."
   ]
  },
  {
   "cell_type": "code",
   "execution_count": 63,
   "id": "04d3418e-cdf5-4368-870b-ebbf249bdac5",
   "metadata": {},
   "outputs": [
    {
     "name": "stdout",
     "output_type": "stream",
     "text": [
      "float64\n"
     ]
    }
   ],
   "source": [
    "print(data.dtype)"
   ]
  },
  {
   "cell_type": "markdown",
   "id": "0d13deec-53d7-422b-b479-9c4d66ee1f48",
   "metadata": {},
   "source": [
    "With the following command, we can see the array’s shape:"
   ]
  },
  {
   "cell_type": "code",
   "execution_count": 64,
   "id": "fd44f356-912e-41df-94c8-0ff41baf66df",
   "metadata": {},
   "outputs": [
    {
     "name": "stdout",
     "output_type": "stream",
     "text": [
      "(60, 40)\n"
     ]
    }
   ],
   "source": [
    "print(data.shape)"
   ]
  },
  {
   "cell_type": "markdown",
   "id": "ab13bc7b-8eca-40de-a8f3-7c4360771689",
   "metadata": {},
   "source": [
    "When we look at the output, we see that the data variable has 60 rows and 40 columns. When we created this variable to hold our arthritis data, we not only created the array itself but also some extra information about it. This extra information is called attributes. Think of attributes like adjectives that describe a noun; they give us more details about the data.\n",
    "\n",
    "One of these attributes is called ***data.shape***, which tells us the size of the array (in this case, how many rows and columns it has). We use the same way to access attributes (like data.shape) as we do for functions in libraries (like numpy.mean()). This is because both attributes and functions are related to the variable they belong to, just like how parts fit together to make a whole."
   ]
  },
  {
   "cell_type": "markdown",
   "id": "9bffe8e4-f7ed-4f29-83f8-ed3a7d368b7c",
   "metadata": {},
   "source": [
    "### Accessing Data\n",
    "\n",
    "To get a single number from the array, we need to use an index inside square brackets after the variable name. This is similar to how we refer to an element in a math matrix. Since our inflammation data has two dimensions (rows and columns), we need to use two indices to specify one exact value."
   ]
  },
  {
   "cell_type": "code",
   "execution_count": null,
   "id": "36af9b95-f61b-4242-8456-1a1a0a972423",
   "metadata": {},
   "outputs": [],
   "source": [
    "print('first value in data:', data[0, 0])"
   ]
  },
  {
   "cell_type": "code",
   "execution_count": null,
   "id": "a9a227a9-e2e6-43bb-b9c2-7b63369530cf",
   "metadata": {},
   "outputs": [],
   "source": [
    "print('middle value in data:', data[29, 19])"
   ]
  },
  {
   "cell_type": "markdown",
   "id": "dae4a08c-79c5-47af-8b96-b6f5d8703974",
   "metadata": {},
   "source": [
    "In Python, arrays are indexed starting from 0, unlike some languages that start from 1. For example, **data[29, 19]** accesses row 30, column 20, but **data[0, 0]** refers to the first element. This \"zero-based\" indexing reflects how computers represent arrays, where the index indicates the number of steps from the first element. If an array has dimensions M×N, the valid indices range from 0 to M-1 for rows and 0 to N-1 for columns."
   ]
  },
  {
   "cell_type": "markdown",
   "id": "5c8c78d7-837f-4db6-a3cf-94a7f9aea687",
   "metadata": {},
   "source": [
    "### Slicing Data\n",
    "An index like [30, 20] selects a single element of an array, but we can select whole sections as well. For example, we can select the first ten days (columns) of values for the first four patients (rows) like this:"
   ]
  },
  {
   "cell_type": "code",
   "execution_count": 65,
   "id": "62b360bc-fe5e-4119-a6ee-08100316533b",
   "metadata": {},
   "outputs": [
    {
     "name": "stdout",
     "output_type": "stream",
     "text": [
      "[[0. 0. 1. 3. 1. 2. 4. 7. 8. 3.]\n",
      " [0. 1. 2. 1. 2. 1. 3. 2. 2. 6.]\n",
      " [0. 1. 1. 3. 3. 2. 6. 2. 5. 9.]\n",
      " [0. 0. 2. 0. 4. 2. 2. 1. 6. 7.]]\n"
     ]
    }
   ],
   "source": [
    "print(data[0:4, 0:10])"
   ]
  },
  {
   "cell_type": "markdown",
   "id": "b9dad070-7fe3-462f-91e1-a1da9d690562",
   "metadata": {},
   "source": [
    "The slice 0:4 means, “Start at index 0 and go up to, but not including, index 4”. Again, the up-to-but-not-including takes a bit of getting used to, but the rule is that the difference between the upper and lower bounds is the number of values in the slice."
   ]
  },
  {
   "cell_type": "markdown",
   "id": "b56755d4-1224-4293-9710-4e389db1e723",
   "metadata": {},
   "source": [
    "Also, we don’t have to start slices at 0:"
   ]
  },
  {
   "cell_type": "code",
   "execution_count": 66,
   "id": "fd338201-73e7-4b7c-8c11-5f909a676554",
   "metadata": {},
   "outputs": [
    {
     "name": "stdout",
     "output_type": "stream",
     "text": [
      "[[0. 0. 1. 2. 2. 4. 2. 1. 6. 4.]\n",
      " [0. 0. 2. 2. 4. 2. 2. 5. 5. 8.]\n",
      " [0. 0. 1. 2. 3. 1. 2. 3. 5. 3.]\n",
      " [0. 0. 0. 3. 1. 5. 6. 5. 5. 8.]\n",
      " [0. 1. 1. 2. 1. 3. 5. 3. 5. 8.]]\n"
     ]
    }
   ],
   "source": [
    "print(data[5:10, 0:10])"
   ]
  },
  {
   "cell_type": "markdown",
   "id": "413dc0b2-f0b8-4b33-8530-128c2c3d2b89",
   "metadata": {},
   "source": [
    "We also don’t have to include the upper and lower bound on the slice. If we don’t include the lower bound, Python uses 0 by default; if we don’t include the upper, the slice runs to the end of the axis, and if we don’t include either (i.e., if we use ‘:’ on its own), the slice includes everything:"
   ]
  },
  {
   "cell_type": "code",
   "execution_count": 67,
   "id": "4b59b5d2-2104-4420-8b24-2f0e93721e4a",
   "metadata": {},
   "outputs": [
    {
     "name": "stdout",
     "output_type": "stream",
     "text": [
      "small is:\n",
      "[[2. 3. 0. 0.]\n",
      " [1. 1. 0. 1.]\n",
      " [2. 2. 1. 1.]]\n"
     ]
    }
   ],
   "source": [
    "small = data[:3, 36:]\n",
    "print('small is:')\n",
    "print(small)"
   ]
  },
  {
   "cell_type": "markdown",
   "id": "1fc4e96f-2697-4af0-9b2b-2ec8e2e05dfd",
   "metadata": {},
   "source": [
    "The above example selects rows 0 through 2 and columns 36 through to the end of the array."
   ]
  },
  {
   "cell_type": "markdown",
   "id": "b612c4b6-d267-450d-9a92-07c152db0ec6",
   "metadata": {},
   "source": [
    "____\n",
    "#### **Note: You can also slice Strings**\n",
    "A section of an array is called a slice. We can take slices of character strings as well:"
   ]
  },
  {
   "cell_type": "code",
   "execution_count": 8,
   "id": "263da896-038a-4b73-a9f8-5893a1cb7f7f",
   "metadata": {},
   "outputs": [
    {
     "name": "stdout",
     "output_type": "stream",
     "text": [
      "first three characters: oxy\n",
      "last three characters: gen\n"
     ]
    }
   ],
   "source": [
    "element = 'oxygen'\n",
    "print('first three characters:', element[0:3])\n",
    "print('last three characters:', element[3:6])"
   ]
  },
  {
   "cell_type": "markdown",
   "id": "701911a8-e3df-4a08-8fdf-d48736f4a9c4",
   "metadata": {},
   "source": [
    "***Try it out!*** \n",
    "- What is the value of element[:4]? What about element[4:]? Or element[:]?\n",
    "- What is element[-1]? What is element[-2]?\n",
    "- Given those answers, explain what element[1:-1] does."
   ]
  },
  {
   "cell_type": "markdown",
   "id": "15e915e0-4060-4737-8b65-7138f0bed8eb",
   "metadata": {},
   "source": [
    "___"
   ]
  },
  {
   "cell_type": "markdown",
   "id": "946469bc-725e-4efe-8ad7-0d0f56e2a687",
   "metadata": {},
   "source": [
    "### Analyzing the data\n",
    "**NumPy** has several useful functions that take an array as input to perform operations on its values. If we want to find the average inflammation for all patients on all days, for example, we can ask NumPy to compute data’s mean value:"
   ]
  },
  {
   "cell_type": "code",
   "execution_count": 75,
   "id": "e4b04940-4c71-45a6-83d5-a3ad34ece6b3",
   "metadata": {},
   "outputs": [
    {
     "name": "stdout",
     "output_type": "stream",
     "text": [
      "6.14875\n"
     ]
    },
    {
     "data": {
      "text/plain": [
       "6.14875"
      ]
     },
     "execution_count": 75,
     "metadata": {},
     "output_type": "execute_result"
    }
   ],
   "source": [
    "print(np.mean(data))\n",
    "data.mean()"
   ]
  },
  {
   "cell_type": "markdown",
   "id": "43a25ba7-7fe7-4d39-bf61-f6b9aecbde23",
   "metadata": {},
   "source": [
    "Here, **mean** is a ***function*** that takes an array as an argument.\n",
    "\n",
    "Also we can use mean() as a method:"
   ]
  },
  {
   "cell_type": "code",
   "execution_count": 71,
   "id": "3ebf23a1-1161-485e-8c3a-ef7157507a72",
   "metadata": {},
   "outputs": [
    {
     "name": "stdout",
     "output_type": "stream",
     "text": [
      "6.14875\n"
     ]
    }
   ],
   "source": [
    "print(data.mean())"
   ]
  },
  {
   "cell_type": "markdown",
   "id": "83c1e22c-f399-423c-b634-cc1d70b08291",
   "metadata": {},
   "source": [
    "A method is a function that belongs to an object. \n",
    "\n",
    "**data.mean()** is a method that belongs to the *data* object itself. It operates directly on the **data** variable, as long as the object (like a NumPy array) supports the .mean() method. In the case of NumPy arrays, this method is already implemented and ready to use."
   ]
  },
  {
   "cell_type": "markdown",
   "id": "d5ccb8cb-6d07-4dda-b24e-b8d776b88e89",
   "metadata": {},
   "source": [
    "_______________________________________________________________________________________________________\n",
    "#### **Note: Not all functions have input**\n",
    "\n",
    "Generally, a function uses inputs to produce outputs. However, some functions produce outputs without needing any input. For example, checking the current time doesn’t require any input."
   ]
  },
  {
   "cell_type": "code",
   "execution_count": 21,
   "id": "dbafb6a4-0d24-48fa-b3f0-2c07b69dcf0c",
   "metadata": {},
   "outputs": [
    {
     "name": "stdout",
     "output_type": "stream",
     "text": [
      "Fri Oct  4 14:33:08 2024\n"
     ]
    }
   ],
   "source": [
    "import time\n",
    "print(time.ctime())"
   ]
  },
  {
   "cell_type": "markdown",
   "id": "437c9c4e-7435-473d-bd1a-966a5dc6f5ce",
   "metadata": {},
   "source": [
    "For functions that don’t take in any arguments, we still need parentheses (()) to tell Python to go and do something for us."
   ]
  },
  {
   "cell_type": "markdown",
   "id": "c49fe011-995b-4838-8f1e-8045fb816867",
   "metadata": {},
   "source": [
    "_______________________________________________________________________________________________________"
   ]
  },
  {
   "cell_type": "markdown",
   "id": "f524c935-0454-48eb-a14c-b80f2af46603",
   "metadata": {},
   "source": [
    "Now, let's use three NumPy functions to find important values about our data: the maximum value, minimum value, and the standard deviation. Instead of writing separate lines of code for each, we can use a Python feature called multiple assignment to do it all in one line."
   ]
  },
  {
   "cell_type": "code",
   "execution_count": 76,
   "id": "73061505-8ff6-4cbd-9fd6-4e7cc799f3ef",
   "metadata": {},
   "outputs": [
    {
     "name": "stdout",
     "output_type": "stream",
     "text": [
      "maximum inflammation: 20.0\n",
      "minimum inflammation: 0.0\n",
      "standard deviation: 4.613833197118566\n"
     ]
    }
   ],
   "source": [
    "maxval, minval, stdval = np.amax(data), np.amin(data), np.std(data)\n",
    "print('maximum inflammation:', maxval)\n",
    "print('minimum inflammation:', minval)\n",
    "print('standard deviation:', stdval)"
   ]
  },
  {
   "cell_type": "markdown",
   "id": "857ce9e4-4814-4267-a5bb-7d52af6a67d9",
   "metadata": {},
   "source": [
    "- **numpy.amax(data)** finds the largest number in the dataset and assigns it to maxval.\n",
    "- **numpy.amin(data)** finds the smallest number and assigns it to minval.\n",
    "- **numpy.std(data)** calculates the standard deviation, which tells us how spread out the numbers are, and assigns it to stdval.\n"
   ]
  },
  {
   "cell_type": "markdown",
   "id": "36215c21-7ae2-4d2d-a697-8b95019019ca",
   "metadata": {},
   "source": [
    "When we analyze data, we often want to look at specific parts of it. For example, we might want to find the maximum inflammation for a single patient or the average inflammation over all the days. To do this, we can temporarily grab the data we need and then calculate the value we're interested in."
   ]
  },
  {
   "cell_type": "markdown",
   "id": "40a82327-7f83-4d67-9576-1e693d70a8cf",
   "metadata": {},
   "source": [
    "**Example 1: Breaking it Down**\n",
    "\n",
    "In the first example, we select all the inflammation data for patient 0 (the first patient):\n",
    "\n"
   ]
  },
  {
   "cell_type": "code",
   "execution_count": 77,
   "id": "00dcc186-d995-4d39-9ff2-092e4ffda9cd",
   "metadata": {},
   "outputs": [
    {
     "name": "stdout",
     "output_type": "stream",
     "text": [
      "maximum inflammation for patient 0: 18.0\n"
     ]
    }
   ],
   "source": [
    "patient_0 = data[0, :]  # Grab the first row (patient 0), all columns (days)\n",
    "print('maximum inflammation for patient 0:', np.amax(patient_0))"
   ]
  },
  {
   "cell_type": "markdown",
   "id": "5355fdf3-7e2c-4ae0-bf3e-72e5d520d9d0",
   "metadata": {},
   "source": [
    "- data[0, :] selects all the values from row 0 (patient 0).\n",
    "    - 0 on the first axis (rows) means we want patient 0's data.\n",
    "    - : on the second axis (columns) means we want all the days.\n",
    "- np.amax(patient_0) calculates the maximum inflammation for that patient."
   ]
  },
  {
   "cell_type": "markdown",
   "id": "ff4156a3-7da2-4a9f-9255-0437359d365e",
   "metadata": {},
   "source": [
    "**Example 2: Combining Steps**\n",
    "\n",
    "Instead of storing the row in a variable first, we can combine the selection and calculation in one line:"
   ]
  },
  {
   "cell_type": "code",
   "execution_count": 78,
   "id": "49a24068-4f9a-49d5-8110-eb8e3f506193",
   "metadata": {},
   "outputs": [
    {
     "name": "stdout",
     "output_type": "stream",
     "text": [
      "maximum inflammation for patient 2: 19.0\n"
     ]
    }
   ],
   "source": [
    "print('maximum inflammation for patient 2:', np.amax(data[2, :]))"
   ]
  },
  {
   "cell_type": "markdown",
   "id": "f605b765-6fc8-4945-bf19-212fdb841963",
   "metadata": {},
   "source": [
    "- data[2, :] selects all the data for patient 2 (the third patient).\n",
    "- numpy.amax(data[2, :]) calculates the maximum inflammation directly.\n",
    "\n",
    "By combining these steps, the code becomes more efficient and compact."
   ]
  },
  {
   "cell_type": "markdown",
   "id": "471b6c1a-7746-40c5-aee3-598142928a73",
   "metadata": {},
   "source": [
    "When we analyze data, sometimes we need to calculate values for each patient (like the maximum inflammation for each patient) or for each day (like the average inflammation per day). To do this, we need to perform calculations across rows or columns in our data.\n",
    "\n",
    "In Python, when working with arrays, we can use a special argument called axis to tell the function which direction we want to work in:\n",
    "\n",
    "- axis=1 means we are working across columns (for each patient).\n",
    "- axis=0 means we are working down rows (for each day)."
   ]
  },
  {
   "cell_type": "markdown",
   "id": "124e009d-fdc9-459f-a372-13cc9e4739e2",
   "metadata": {},
   "source": [
    "**Example 1: Maximum Inflammation Per Patient**\n",
    "\n",
    "To calculate the maximum inflammation for each patient (looking across all the days), we do this:"
   ]
  },
  {
   "cell_type": "code",
   "execution_count": 83,
   "id": "5c394d41-adc7-446a-a8c1-ed07c0ee362f",
   "metadata": {},
   "outputs": [
    {
     "name": "stdout",
     "output_type": "stream",
     "text": [
      "[18. 18. 19. 17. 17. 18. 17. 20. 17. 18. 18. 18. 17. 16. 17. 18. 19. 19.\n",
      " 17. 19. 19. 16. 17. 15. 17. 17. 18. 17. 20. 17. 16. 19. 15. 15. 19. 17.\n",
      " 16. 17. 19. 16. 18. 19. 16. 19. 18. 16. 19. 15. 16. 18. 14. 20. 17. 15.\n",
      " 17. 16. 17. 19. 18. 18.]\n"
     ]
    }
   ],
   "source": [
    "print(np.amax(data, axis=1))"
   ]
  },
  {
   "cell_type": "markdown",
   "id": "466dc90c-03c3-452e-bd49-64a0bf0f513d",
   "metadata": {},
   "source": [
    "This gives us an array of 60 values, and we have 60 patients (60 rows), therefore it outputs the maximum value accross all days per patient."
   ]
  },
  {
   "cell_type": "markdown",
   "id": "085d4d5e-7f78-412a-b37b-8363750d6205",
   "metadata": {},
   "source": [
    "**Example 2: Average Inflammation Per Day**\n",
    "\n",
    "To calculate the average inflammation per day (looking at all patients), we do this:"
   ]
  },
  {
   "cell_type": "code",
   "execution_count": 89,
   "id": "b991ad41-37ed-4a46-ab58-42aefed82244",
   "metadata": {},
   "outputs": [
    {
     "name": "stdout",
     "output_type": "stream",
     "text": [
      "[ 0.          0.45        1.11666667  1.75        2.43333333  3.15\n",
      "  3.8         3.88333333  5.23333333  5.51666667  5.95        5.9\n",
      "  8.35        7.73333333  8.36666667  9.5         9.58333333 10.63333333\n",
      " 11.56666667 12.35       13.25       11.96666667 11.03333333 10.16666667\n",
      " 10.          8.66666667  9.15        7.25        7.33333333  6.58333333\n",
      "  6.06666667  5.95        5.11666667  3.6         3.3         3.56666667\n",
      "  2.48333333  1.5         1.13333333  0.56666667]\n"
     ]
    }
   ],
   "source": [
    "print(np.mean(data, axis=0))"
   ]
  },
  {
   "cell_type": "markdown",
   "id": "13c01905-d0f9-4621-8693-594b730b5107",
   "metadata": {},
   "source": [
    "This array contains the average inflammation per day for all patients. To confirm, we check the shape of this data:"
   ]
  },
  {
   "cell_type": "code",
   "execution_count": 88,
   "id": "de7f8fa8-23c1-4d2f-a6d2-fad540ad3ab7",
   "metadata": {},
   "outputs": [
    {
     "name": "stdout",
     "output_type": "stream",
     "text": [
      "(40,)\n"
     ]
    }
   ],
   "source": [
    "print(np.mean(data, axis=0).shape)"
   ]
  },
  {
   "cell_type": "markdown",
   "id": "c5a44f8b-c250-4a2e-b303-07e909185222",
   "metadata": {},
   "source": [
    "This tells us we have an array of length 40, which represents the 40 days in our dataset."
   ]
  },
  {
   "cell_type": "markdown",
   "id": "cb5b9fc2-85db-4113-bcd0-b01e634726c7",
   "metadata": {},
   "source": [
    "**Example 3: Average Inflammation Per Patient**\n",
    "\n",
    "To calculate the average inflammation per patient (looking across all days), we do this:"
   ]
  },
  {
   "cell_type": "code",
   "execution_count": 87,
   "id": "1c7e3345-197b-4c5e-8b03-d1e39b21c66a",
   "metadata": {},
   "outputs": [
    {
     "name": "stdout",
     "output_type": "stream",
     "text": [
      "[5.45  5.425 6.1   5.9   5.55  6.225 5.975 6.65  6.625 6.525 6.775 5.8\n",
      " 6.225 5.75  5.225 6.3   6.55  5.7   5.85  6.55  5.775 5.825 6.175 6.1\n",
      " 5.8   6.425 6.05  6.025 6.175 6.55  6.175 6.35  6.725 6.125 7.075 5.725\n",
      " 5.925 6.15  6.075 5.75  5.975 5.725 6.3   5.9   6.75  5.925 7.225 6.15\n",
      " 5.95  6.275 5.7   6.1   6.825 5.975 6.725 5.7   6.25  6.4   7.05  5.9  ]\n"
     ]
    }
   ],
   "source": [
    "print(np.mean(data, axis=1))"
   ]
  },
  {
   "cell_type": "markdown",
   "id": "7aeff3c0-b362-4c93-b0fe-2fd1edf8713b",
   "metadata": {},
   "source": [
    "### Change in Inflamation\n",
    "In our dataset, each row shows data for a single patient over several days, meaning the change in inflammation over time is important. To measure how inflammation changes from one day to the next, we can use the **np.diff()** function.\n",
    "\n",
    "The **np.diff()** function takes an array and returns the differences between each pair of successive values.\n",
    "\n",
    "**Example: Change in Inflammation for One Patient**\n",
    "\n",
    "Let’s look at the inflammation for patient 3 during the first week:"
   ]
  },
  {
   "cell_type": "code",
   "execution_count": 90,
   "id": "b5b55c08-7389-40f8-b385-ba8efbdea3d3",
   "metadata": {},
   "outputs": [
    {
     "name": "stdout",
     "output_type": "stream",
     "text": [
      "[0. 0. 2. 0. 4. 2. 2.]\n"
     ]
    }
   ],
   "source": [
    "patient3_week1 = data[3, :7]  # Days 1 to 7 for patient 3\n",
    "print(patient3_week1)"
   ]
  },
  {
   "cell_type": "markdown",
   "id": "be7b133f-17b0-452f-a758-217e2c83b7e3",
   "metadata": {},
   "source": [
    "Now, let’s calculate the difference between each day’s inflammation:"
   ]
  },
  {
   "cell_type": "code",
   "execution_count": 91,
   "id": "6e39eec8-dc5a-4660-9bbe-d94e12146da3",
   "metadata": {},
   "outputs": [
    {
     "data": {
      "text/plain": [
       "array([ 0.,  2., -2.,  4., -2.,  0.])"
      ]
     },
     "execution_count": 91,
     "metadata": {},
     "output_type": "execute_result"
    }
   ],
   "source": [
    "np.diff(patient3_week1)"
   ]
  },
  {
   "cell_type": "markdown",
   "id": "6cb1c0b7-377a-4245-8020-7b0cda0f7327",
   "metadata": {},
   "source": [
    "The function calculates the following:\n",
    "- 0 - 0\n",
    "- 2 - 0\n",
    "- 0 - 2\n",
    "- 4 - 0\n",
    "- 2 - 4\n",
    "- 2 - 2"
   ]
  },
  {
   "cell_type": "markdown",
   "id": "399b991d-a16d-482e-9db5-15ad80ba1c29",
   "metadata": {},
   "source": [
    "Notice that the result has one fewer value because we are measuring differences between values.\n",
    "\n",
    "___\n",
    "#### Check you Understanding\n",
    "**Applying numpy.diff() to the Whole Dataset**\n",
    "\n",
    "If you want to apply **np.diff()** to a multi-dimensional array (like our dataset), you can specify which direction (axis) to calculate the differences.\n",
    "\n",
    "- axis=1 will compute the differences across days for each patient (horizontally).\n",
    "- axis=0 will compute the differences across patients for each day (vertically).\n",
    "\n",
    "*Try it out!*\n"
   ]
  },
  {
   "cell_type": "code",
   "execution_count": 92,
   "id": "8f8a96e8-babd-4552-ac95-d40029b0ee7e",
   "metadata": {},
   "outputs": [
    {
     "name": "stdout",
     "output_type": "stream",
     "text": [
      "[[ 0.  1.  2. ...  1. -3.  0.]\n",
      " [ 1.  1. -1. ...  0. -1.  1.]\n",
      " [ 1.  0.  2. ...  0. -1.  0.]\n",
      " ...\n",
      " [ 1.  0.  0. ... -1.  0.  0.]\n",
      " [ 0.  0.  1. ... -2.  2. -2.]\n",
      " [ 0.  1. -1. ... -2.  0. -1.]]\n"
     ]
    }
   ],
   "source": [
    "print(np.diff(data, axis=1))"
   ]
  },
  {
   "cell_type": "markdown",
   "id": "e1c18f2d-f45c-4669-9d45-f0edf64acccd",
   "metadata": {},
   "source": [
    "___  "
   ]
  },
  {
   "cell_type": "markdown",
   "id": "4350f22d-5ec8-42a3-b6d4-49d3256313e5",
   "metadata": {},
   "source": [
    "## Visualizing data\n",
    "The mathematician Richard Hamming once said, *“The purpose of computing is insight, not numbers,”* and the best way to develop insight is often to visualize data. Visualization deserves an entire lecture of its own, but we can explore a few features of Python’s *matplotlib* library here.\n",
    "\n",
    "In Python, we use a library called **matplotlib** for creating plots and graphs. Specifically, we use the **pyplot** module to make various kinds of charts, such as heat maps and line graphs."
   ]
  },
  {
   "cell_type": "markdown",
   "id": "6cb87601-e757-423e-9479-7c46bb33de07",
   "metadata": {},
   "source": [
    "Let's start by importing our matplotlib library and pyplot module using a nickname *plt*:"
   ]
  },
  {
   "cell_type": "code",
   "execution_count": 94,
   "id": "0d64e8bd-b3fb-4e05-8edc-05f2489a838e",
   "metadata": {},
   "outputs": [],
   "source": [
    "import matplotlib.pyplot as plt"
   ]
  },
  {
   "cell_type": "markdown",
   "id": "c380aa04-7b56-4ee3-b2c8-f86b6840f8d8",
   "metadata": {},
   "source": [
    "Now, let's try plotting a heatmap. A heat map is a graphical representation of data where individual values are represented as colors. In our case, we want to visualize inflammation data to see trends or patterns in patient conditions over time:"
   ]
  },
  {
   "cell_type": "code",
   "execution_count": 95,
   "id": "9cd22d8f-b272-4d6a-a791-dedda535ac9e",
   "metadata": {},
   "outputs": [
    {
     "data": {
      "image/png": "[encoded data removed]",
      "text/plain": [
       "<Figure size 640x480 with 1 Axes>"
      ]
     },
     "metadata": {},
     "output_type": "display_data"
    }
   ],
   "source": [
    "# Create a heat map using the data\n",
    "image = plt.imshow(data)\n",
    "plt.show()"
   ]
  },
  {
   "cell_type": "markdown",
   "id": "da51f61e-ac5f-4f67-afc4-4523d1835ee6",
   "metadata": {},
   "source": [
    "- **plt.imshow()**: This function takes a 2D array and displays it as a grid where each cell's color corresponds to the value in that cell.\n",
    "- The data variable contains our inflammation data, with each row representing a patient and each column representing a day.\n",
    "- The color gradient helps us quickly see patterns in the data. For example:\n",
    "  - Blue might represent low inflammation values (e.g., near 0).\n",
    "  - Yellow might represent high inflammation values (e.g., 20 or more)."
   ]
  },
  {
   "cell_type": "markdown",
   "id": "4750b0bd-55c3-49e5-a61f-fe4dc378f2d8",
   "metadata": {},
   "source": [
    "As we can see, the number of inflammation flare-ups increases and decreases during the 40-day period, which matches the trial data.\n",
    "\n",
    "So far so good as this is in line with our knowledge of the clinical trial and Dr. Maverick’s claims:\n",
    "\n",
    "- the patients take their medication once their inflammation flare-ups begin\n",
    "- it takes around 3 weeks for the medication to take effect and begin reducing flare-ups\n",
    "- and flare-ups appear to drop to zero by the end of the clinical trial."
   ]
  },
  {
   "cell_type": "markdown",
   "id": "21f0a4fa-5256-4a3b-8033-47e2a4c3afad",
   "metadata": {},
   "source": [
    "### Plotting the Average Inflammation\n",
    "To understand the trend in inflammation over time, we can calculate the average inflammation per day across all patients and visualize it:"
   ]
  },
  {
   "cell_type": "code",
   "execution_count": 96,
   "id": "5ac359cf-f8a7-43dc-9d56-e0e156cb81ad",
   "metadata": {},
   "outputs": [
    {
     "data": {
      "image/png": "[encoded data removed]",
      "text/plain": [
       "<Figure size 640x480 with 1 Axes>"
      ]
     },
     "metadata": {},
     "output_type": "display_data"
    }
   ],
   "source": [
    "ave_inflammation = np.mean(data, axis=0)\n",
    "\n",
    "# Plot the result\n",
    "ave_plot = plt.plot(ave_inflammation)\n",
    "plt.show()"
   ]
  },
  {
   "cell_type": "markdown",
   "id": "fa066362-78ad-4ce8-b764-cf5d09859689",
   "metadata": {},
   "source": [
    "Here, we have put the average inflammation per day across all patients in the variable ave_inflammation, then asked *matplotlib.pyplot* to create and display a line graph of those values. The result is a reasonably linear rise and fall, in line with Dr. Maverick’s claim that the medication takes 3 weeks to take effect. But a good data scientist doesn’t just consider the average of a dataset, so let’s have a look at two other statistics:"
   ]
  },
  {
   "cell_type": "code",
   "execution_count": 99,
   "id": "75851fd9-7d85-4929-bff0-33feba86d259",
   "metadata": {},
   "outputs": [
    {
     "data": {
      "image/png": "[encoded data removed]",
      "text/plain": [
       "<Figure size 640x480 with 1 Axes>"
      ]
     },
     "metadata": {},
     "output_type": "display_data"
    }
   ],
   "source": [
    "max_plot = plt.plot(np.amax(data, axis=0))\n",
    "plt.show()"
   ]
  },
  {
   "cell_type": "code",
   "execution_count": 97,
   "id": "bb1d560c-80d3-4636-98d5-a2db5eeb36be",
   "metadata": {},
   "outputs": [
    {
     "data": {
      "image/png": "[encoded data removed]",
      "text/plain": [
       "<Figure size 640x480 with 1 Axes>"
      ]
     },
     "metadata": {},
     "output_type": "display_data"
    }
   ],
   "source": [
    "min_plot = plt.plot(np.amin(data, axis=0))\n",
    "plt.show()"
   ]
  },
  {
   "cell_type": "markdown",
   "id": "90f14a8a-9f09-40d0-9c17-c46b782ef637",
   "metadata": {},
   "source": [
    "The maximum value rises and falls linearly, while the minimum seems to be a step function. \n",
    "\n",
    "A step function for the min graph signals that the number of patients with zero inflammation is not consistent throughout the trial, showing sudden shifts in the inflammation levels for some patients. A step function in the min graph is unlikely to support Dr. Maverick's claim that the drug reduces inflammation gradually over 3 weeks. Dr. Maverick suggests that the inflammation should decrease steadily over time, which would likely result in a smoother downward trend in the min graph, rather than sudden jumps.\n",
    "\n",
    "For the data to support Dr. Maverick's claims, the max should start high and then decrease after the drug is given. This would show that the highest inflammation counts drop over time. Additionally, there should be at least one patient with no inflammation each day during the trial.\n",
    "\n",
    "Neither trend seems particularly likely, so either there’s a mistake in our calculations or something is wrong with our data. This insight would have been difficult to reach by examining the numbers themselves without visualization tools."
   ]
  },
  {
   "cell_type": "markdown",
   "id": "23b3759d-d598-45e7-a617-ba54092d5343",
   "metadata": {},
   "source": [
    "### Grouping plots\n",
    "When analyzing data, it’s often useful to visualize multiple related aspects side by side for easy comparison. Python’s Matplotlib library offers a powerful way to group multiple plots into a single figure, allowing you to present and interpret different views of your data simultaneously. This technique is particularly useful when comparing statistics like averages, maximum values, and minimum values over time, which can be visualized together in a neat layout.\n",
    "\n",
    "In this example, we’ll explore how to use subplots in Matplotlib to create a figure containing three different plots: the average inflammation, maximum inflammation, and minimum inflammation over a period of 40 days for all patients in a clinical trial."
   ]
  },
  {
   "cell_type": "code",
   "execution_count": 100,
   "id": "184556c6-6952-4fa8-85ae-fc4c8338555d",
   "metadata": {},
   "outputs": [
    {
     "data": {
      "image/png": "[encoded data removed]",
      "text/plain": [
       "<Figure size 1000x300 with 3 Axes>"
      ]
     },
     "metadata": {},
     "output_type": "display_data"
    }
   ],
   "source": [
    "# Create a figure and specify the overall size\n",
    "fig = plt.figure(figsize=(10.0, 3.0))\n",
    "\n",
    "# Create three subplots in a 1 row x 3 columns grid\n",
    "axes1 = fig.add_subplot(1, 3, 1)  # First subplot\n",
    "axes2 = fig.add_subplot(1, 3, 2)  # Second subplot\n",
    "axes3 = fig.add_subplot(1, 3, 3)  # Third subplot\n",
    "\n",
    "# Plot average inflammation on the first subplot\n",
    "axes1.set_ylabel('average')  # Set the label for y-axis\n",
    "axes1.plot(np.mean(data, axis=0))  # Plot the average inflammation per day\n",
    "\n",
    "# Plot maximum inflammation on the second subplot\n",
    "axes2.set_ylabel('max')  # Set the label for y-axis\n",
    "axes2.plot(np.amax(data, axis=0))  # Plot the maximum inflammation per day\n",
    "\n",
    "# Plot minimum inflammation on the third subplot\n",
    "axes3.set_ylabel('min')  # Set the label for y-axis\n",
    "axes3.plot(np.amin(data, axis=0))  # Plot the minimum inflammation per day\n",
    "\n",
    "# Adjust the layout so plots don't overlap\n",
    "fig.tight_layout()\n",
    "\n",
    "# Save the figure as a PNG file\n",
    "plt.savefig('inflammation.png')\n",
    "\n",
    "# Display the figure\n",
    "plt.show()"
   ]
  },
  {
   "cell_type": "markdown",
   "id": "fe9c8d40-239f-4ec2-b81a-c6efc9b16365",
   "metadata": {},
   "source": [
    "- **fig = plt.figure(figsize=(10.0, 3.0))**: Creates a new figure with dimensions 10x3 inches.\n",
    "\n",
    "- **axes1 = fig.add_subplot(1, 3, 1), axes2 = fig.add_subplot(1, 3, 2), axes3 = fig.add_subplot(1, 3, 3)**: Creates three subplots in a 1-row, 3-column grid.\n",
    "\n",
    "- **axes1.plot(np.mean(data, axis=0))**: Plots the average inflammation per day on the first subplot.\n",
    "\n",
    "- **axes2.plot(np.amax(data, axis=0))**: Plots the maximum inflammation per day on the second subplot.\n",
    "\n",
    "- **axes3.plot(np.amin(data, axis=0))**: Plots the minimum inflammation per day on the third subplot.\n",
    "\n",
    "- **axes1.set_ylabel('average'), axes2.set_ylabel('max'), axes3.set_ylabel('min')**: Labels the y-axes for each subplot.\n",
    "\n",
    "- **fig.tight_layout()**: Adjusts the spacing between the plots.\n",
    "\n",
    "- **plt.savefig('inflammation.png') & plt.show()**: Saves the plot as a PNG and displays it."
   ]
  },
  {
   "cell_type": "markdown",
   "id": "b84dbf2c-110a-46fb-8049-35ea86376fe9",
   "metadata": {},
   "source": [
    "## Python Lists\n",
    "In Python, lists are a way to store multiple values together in one place. Unlike NumPy arrays, you don’t need to load any extra libraries to use lists because they are already part of Python. To make a list, just put your values inside square brackets [] and separate them with commas:"
   ]
  },
  {
   "cell_type": "code",
   "execution_count": 1,
   "id": "0a78a7e3-bb4f-42ee-b106-9c2072f053ac",
   "metadata": {},
   "outputs": [
    {
     "name": "stdout",
     "output_type": "stream",
     "text": [
      "odds are: [1, 3, 5, 7]\n"
     ]
    }
   ],
   "source": [
    "odds = [1, 3, 5, 7]\n",
    "print('odds are:', odds)"
   ]
  },
  {
   "cell_type": "markdown",
   "id": "7ac2c908-4ca1-4fcd-b171-436a6ba19ce2",
   "metadata": {},
   "source": [
    "We can access elements of a list using indices – numbered positions of elements in the list. These positions are numbered starting at 0, so the first element has an index of 0."
   ]
  },
  {
   "cell_type": "code",
   "execution_count": 2,
   "id": "b4bdc277-dca6-4936-b577-7b572019cab2",
   "metadata": {},
   "outputs": [
    {
     "name": "stdout",
     "output_type": "stream",
     "text": [
      "first element: 1\n",
      "last element: 7\n",
      "\"-1\" element: 7\n"
     ]
    }
   ],
   "source": [
    "print('first element:', odds[0])\n",
    "print('last element:', odds[3])\n",
    "print('\"-1\" element:', odds[-1])"
   ]
  },
  {
   "cell_type": "markdown",
   "id": "761822ba-91cc-418d-9b82-7dfd5d001589",
   "metadata": {},
   "source": [
    "Yes, we can use negative numbers as indices in Python. When we do so, the index -1 gives us the last element in the list, -2 the second to last, and so on. Because of this, odds[3] and odds[-1] point to the same element here.\n",
    "\n",
    "There is one important difference between lists and strings: we can change the values in a list, but we cannot change individual characters in a string. For example:"
   ]
  },
  {
   "cell_type": "code",
   "execution_count": 3,
   "id": "b5cb3960-cf13-4634-bd6c-2dc5a277bb8b",
   "metadata": {},
   "outputs": [
    {
     "name": "stdout",
     "output_type": "stream",
     "text": [
      "names is originally: ['Curie', 'Darwing', 'Turing']\n",
      "final value of names: ['Curie', 'Darwin', 'Turing']\n"
     ]
    }
   ],
   "source": [
    "names = ['Curie', 'Darwing', 'Turing']  # typo in Darwin's name\n",
    "print('names is originally:', names)\n",
    "names[1] = 'Darwin'  # correct the name\n",
    "print('final value of names:', names)"
   ]
  },
  {
   "cell_type": "markdown",
   "id": "99b38e30-7436-41b1-aaa4-c1bd14783018",
   "metadata": {},
   "source": [
    "This works, but if we try to change an individual character in a string, gives us the following error: \n"
   ]
  },
  {
   "cell_type": "code",
   "execution_count": 102,
   "id": "a39e3458-a5ca-4a03-9d77-6ee1e89f7727",
   "metadata": {},
   "outputs": [
    {
     "ename": "TypeError",
     "evalue": "'str' object does not support item assignment",
     "output_type": "error",
     "traceback": [
      "\u001b[0;31m---------------------------------------------------------------------------\u001b[0m",
      "\u001b[0;31mTypeError\u001b[0m                                 Traceback (most recent call last)",
      "Cell \u001b[0;32mIn[102], line 2\u001b[0m\n\u001b[1;32m      1\u001b[0m name \u001b[38;5;241m=\u001b[39m \u001b[38;5;124m'\u001b[39m\u001b[38;5;124mDarwin\u001b[39m\u001b[38;5;124m'\u001b[39m\n\u001b[0;32m----> 2\u001b[0m name[\u001b[38;5;241m0\u001b[39m] \u001b[38;5;241m=\u001b[39m \u001b[38;5;124m'\u001b[39m\u001b[38;5;124md\u001b[39m\u001b[38;5;124m'\u001b[39m\n",
      "\u001b[0;31mTypeError\u001b[0m: 'str' object does not support item assignment"
     ]
    }
   ],
   "source": [
    "name = 'Darwin'\n",
    "name[0] = 'd'"
   ]
  },
  {
   "cell_type": "code",
   "execution_count": 101,
   "id": "3ccf18a4-4d62-4a24-8235-4628e96ef6c3",
   "metadata": {},
   "outputs": [],
   "source": [
    "name = 'darwin'"
   ]
  },
  {
   "cell_type": "markdown",
   "id": "c51599fa-85b8-4805-9d2b-cbb2168d4b6c",
   "metadata": {},
   "source": [
    "### Mutable and Immutable Data\n",
    "Mutable data can be changed after it’s created, while immutable data cannot. For example, strings and numbers are immutable, meaning you can't modify them directly. Instead, when you \"change\" their values, you're actually replacing the old value with a new one. This doesn't mean the variables are constants—it just means their content can’t be altered directly.\n",
    "\n",
    "Lists and arrays, on the other hand, are mutable, meaning you can modify them after creation. You can change individual elements, append new elements, or reorder the list. For example:"
   ]
  },
  {
   "cell_type": "code",
   "execution_count": 5,
   "id": "5da787b4-96ff-44f5-b232-2286cf8a6a33",
   "metadata": {},
   "outputs": [
    {
     "name": "stdout",
     "output_type": "stream",
     "text": [
      "Ingredients in mild salsa: ['hot peppers', 'onions', 'cilantro', 'tomatoes']\n",
      "Ingredients in hot salsa: ['hot peppers', 'onions', 'cilantro', 'tomatoes']\n"
     ]
    }
   ],
   "source": [
    "mild_salsa = ['peppers', 'onions', 'cilantro', 'tomatoes']\n",
    "hot_salsa = mild_salsa  # hot_salsa points to the same list as mild_salsa\n",
    "hot_salsa[0] = 'hot peppers'\n",
    "print('Ingredients in mild salsa:', mild_salsa)\n",
    "print('Ingredients in hot salsa:', hot_salsa)"
   ]
  },
  {
   "cell_type": "markdown",
   "id": "3ec08952-8442-4a53-9301-f8235a0b22a0",
   "metadata": {},
   "source": [
    "In the example above, both mild_salsa and hot_salsa point to the same list in memory, so when you change hot_salsa, it also affects mild_salsa.\n",
    "\n",
    "If you want hot_salsa to be independent of mild_salsa, you need to make a copy of the list:"
   ]
  },
  {
   "cell_type": "code",
   "execution_count": 6,
   "id": "5e05b252-6caa-4422-9d25-cce789051f1d",
   "metadata": {},
   "outputs": [
    {
     "name": "stdout",
     "output_type": "stream",
     "text": [
      "Ingredients in mild salsa: ['peppers', 'onions', 'cilantro', 'tomatoes']\n",
      "Ingredients in hot salsa: ['hot peppers', 'onions', 'cilantro', 'tomatoes']\n"
     ]
    }
   ],
   "source": [
    "mild_salsa = ['peppers', 'onions', 'cilantro', 'tomatoes']\n",
    "hot_salsa = list(mild_salsa)  # creates a copy of mild_salsa\n",
    "hot_salsa[0] = 'hot peppers'\n",
    "print('Ingredients in mild salsa:', mild_salsa)\n",
    "print('Ingredients in hot salsa:', hot_salsa)"
   ]
  },
  {
   "cell_type": "markdown",
   "id": "804b6a9a-9139-48cc-b5d7-d0a9eb1fc634",
   "metadata": {},
   "source": [
    "In this case, modifying hot_salsa doesn’t affect mild_salsa because they now refer to different lists.\n",
    "\n",
    "While modifying data in place is efficient (since it avoids copying large structures), it can make your code harder to follow, especially when multiple variables refer to the same data.\n",
    "\n",
    "### Nested Lists\n",
    "Since a list can contain any Python variables, it can even contain other lists.\n",
    "\n",
    "For example, you could represent the products on the shelves of a small grocery shop as a nested list called veg:"
   ]
  },
  {
   "cell_type": "markdown",
   "id": "ef75a97e-ad21-4486-8819-d31bebb25587",
   "metadata": {},
   "source": [
    "![Image of veggies](https://swcarpentry.github.io/python-novice-inflammation/fig/04_groceries_veg.png)\n",
    "To store the contents of the shelf in a nested list, you write it this way:"
   ]
  },
  {
   "cell_type": "code",
   "execution_count": 7,
   "id": "00141703-a6b7-4552-b5c9-ba5fc2060977",
   "metadata": {},
   "outputs": [],
   "source": [
    "veg = [['lettuce', 'lettuce', 'peppers', 'zucchini'],\n",
    "     ['lettuce', 'lettuce', 'peppers', 'zucchini'],\n",
    "     ['lettuce', 'cilantro', 'peppers', 'zucchini']]"
   ]
  },
  {
   "cell_type": "markdown",
   "id": "3c724661-e63f-4579-804f-6a7f5c2ef630",
   "metadata": {},
   "source": [
    "Here are some visual examples of how indexing a list of lists veg works. First, you can reference each row on the shelf as a separate list. For example, veg[2] represents the bottom row, which is a list of the baskets in that row."
   ]
  },
  {
   "cell_type": "markdown",
   "id": "b4620211-35a5-46ae-96d7-8eeba7804fad",
   "metadata": {},
   "source": [
    "![Image of veggies indexes](https://swcarpentry.github.io/python-novice-inflammation/fig/04_groceries_veg0.png)\n",
    "Index operations using the image would work like this:"
   ]
  },
  {
   "cell_type": "code",
   "execution_count": 12,
   "id": "885625dd-ddca-4958-96e3-9edd25244cb6",
   "metadata": {},
   "outputs": [
    {
     "name": "stdout",
     "output_type": "stream",
     "text": [
      "['lettuce', 'cilantro', 'peppers', 'zucchini']\n"
     ]
    }
   ],
   "source": [
    "print(veg[2])"
   ]
  },
  {
   "cell_type": "code",
   "execution_count": 13,
   "id": "21a0cc47-8041-483e-ae62-4e392f37e406",
   "metadata": {},
   "outputs": [
    {
     "name": "stdout",
     "output_type": "stream",
     "text": [
      "['lettuce', 'lettuce', 'peppers', 'zucchini']\n"
     ]
    }
   ],
   "source": [
    "print(veg[0])"
   ]
  },
  {
   "cell_type": "markdown",
   "id": "97357f4c-3459-4a51-868c-53901f9c2d54",
   "metadata": {},
   "source": [
    "To reference a specific basket on a specific shelf, you use two indexes. The first index represents the row (from top to bottom) and the second index represents the specific basket (from left to right)."
   ]
  },
  {
   "cell_type": "markdown",
   "id": "2568649b-c6b6-4416-bab2-3afb9e94a9ea",
   "metadata": {},
   "source": [
    "![Image of veggies indexes2](https://swcarpentry.github.io/python-novice-inflammation/fig/04_groceries_veg00.png)"
   ]
  },
  {
   "cell_type": "code",
   "execution_count": 10,
   "id": "41e59055-1880-4740-a5ca-4094d8c04597",
   "metadata": {},
   "outputs": [
    {
     "name": "stdout",
     "output_type": "stream",
     "text": [
      "lettuce\n"
     ]
    }
   ],
   "source": [
    "print(veg[0][0])"
   ]
  },
  {
   "cell_type": "code",
   "execution_count": 11,
   "id": "b8862534-606d-4ece-890e-fd02b7bb0574",
   "metadata": {},
   "outputs": [
    {
     "name": "stdout",
     "output_type": "stream",
     "text": [
      "peppers\n"
     ]
    }
   ],
   "source": [
    "print(veg[1][2])"
   ]
  },
  {
   "cell_type": "markdown",
   "id": "0bddb708-522c-4597-ad27-efad055b88c7",
   "metadata": {},
   "source": [
    "### Heterogeneous List\n",
    "Lists in Python can contain elements of different types. For example:"
   ]
  },
  {
   "cell_type": "code",
   "execution_count": 14,
   "id": "69933428-4e01-468f-98e1-b90ba9dcc0f3",
   "metadata": {},
   "outputs": [],
   "source": [
    "sample_ages = [10, 12.5, 'Unknown']"
   ]
  },
  {
   "cell_type": "markdown",
   "id": "640c47e7-d647-49a6-a81f-3b6c68e128be",
   "metadata": {},
   "source": [
    "There are many ways to change the contents of lists besides assigning new values to individual elements:"
   ]
  },
  {
   "cell_type": "code",
   "execution_count": 16,
   "id": "56bc6817-4fd2-4bd1-8377-d1df3bd95a33",
   "metadata": {},
   "outputs": [
    {
     "name": "stdout",
     "output_type": "stream",
     "text": [
      "odds after adding a value: [1, 3, 5, 7, 11, 11]\n"
     ]
    }
   ],
   "source": [
    "odds.append(11)\n",
    "print('odds after adding a value:', odds)"
   ]
  },
  {
   "cell_type": "code",
   "execution_count": 17,
   "id": "a0836555-059d-42f7-9dc0-d900a2b15ce2",
   "metadata": {},
   "outputs": [
    {
     "name": "stdout",
     "output_type": "stream",
     "text": [
      "odds after removing the first element: [3, 5, 7, 11, 11]\n",
      "removed_element: 1\n"
     ]
    }
   ],
   "source": [
    "removed_element = odds.pop(0)\n",
    "print('odds after removing the first element:', odds)\n",
    "print('removed_element:', removed_element)"
   ]
  },
  {
   "cell_type": "code",
   "execution_count": 18,
   "id": "3e62f1bc-e746-4ceb-93a3-2ec1f65e1925",
   "metadata": {},
   "outputs": [
    {
     "name": "stdout",
     "output_type": "stream",
     "text": [
      "odds after reversing: [11, 11, 7, 5, 3]\n"
     ]
    }
   ],
   "source": [
    "odds.reverse()\n",
    "print('odds after reversing:', odds)"
   ]
  },
  {
   "cell_type": "markdown",
   "id": "3988972b-0508-44e0-bc4a-6f3e0c367b22",
   "metadata": {},
   "source": [
    "When modifying data in place, it’s important to remember that Python handles lists in a way that can seem counterintuitive, especially for beginners. This is because, in Python, variables don’t actually \"hold\" the list itself, but rather a reference (or pointer) to where the list is stored in memory.\n",
    "\n",
    "This means that when you assign one list variable to another (e.g., new_list = old_list), you're not creating a new list; you're just pointing both variables to the same list. As a result, if you modify the list using one of the variables, the changes will be reflected in both, which can be unexpected if you're not familiar with how Python handles this."
   ]
  },
  {
   "cell_type": "code",
   "execution_count": 19,
   "id": "62a676e5-e174-45da-bdb8-21cdbebb962d",
   "metadata": {},
   "outputs": [
    {
     "name": "stdout",
     "output_type": "stream",
     "text": [
      "primes: [3, 5, 7, 2]\n",
      "odds: [3, 5, 7, 2]\n"
     ]
    }
   ],
   "source": [
    "odds = [3, 5, 7]\n",
    "primes = odds\n",
    "primes.append(2)\n",
    "print('primes:', primes)\n",
    "print('odds:', odds)"
   ]
  },
  {
   "cell_type": "markdown",
   "id": "857dd36a-1bed-4f82-9e83-187e46f6d02b",
   "metadata": {},
   "source": [
    "To avoid unintended modifications, you can create a copy of the list instead of assigning it directly. This way, changes made to the copied list won't affect the original."
   ]
  },
  {
   "cell_type": "code",
   "execution_count": 20,
   "id": "c1dc7ed5-aae5-4b25-aa87-5d4e873e72f5",
   "metadata": {},
   "outputs": [
    {
     "name": "stdout",
     "output_type": "stream",
     "text": [
      "primes: [3, 5, 7, 2]\n",
      "odds: [3, 5, 7]\n"
     ]
    }
   ],
   "source": [
    "odds = [3, 5, 7]\n",
    "primes = list(odds)\n",
    "primes.append(2)\n",
    "print('primes:', primes)\n",
    "print('odds:', odds)"
   ]
  },
  {
   "cell_type": "markdown",
   "id": "25861ef4-6c1c-4919-ac6d-fe6ee554c466",
   "metadata": {},
   "source": [
    "Subsets of lists and strings can be accessed by specifying ranges of values in brackets, similar to how we accessed ranges of positions in a NumPy array. This is commonly referred to as “slicing” the list/string."
   ]
  },
  {
   "cell_type": "code",
   "execution_count": 108,
   "id": "2b362468-fc06-43bc-8702-0861aa1d274f",
   "metadata": {},
   "outputs": [
    {
     "name": "stdout",
     "output_type": "stream",
     "text": [
      "Day: Monday\n"
     ]
    }
   ],
   "source": [
    "date = 'Monday 4 January 2016'\n",
    "day = date[0:6]\n",
    "print('Day:', day)"
   ]
  },
  {
   "cell_type": "markdown",
   "id": "96cb9062-b85b-4062-ab7b-54aacc1492ce",
   "metadata": {},
   "source": [
    "If you want to take a slice from the beginning of a sequence, you can omit the first index in the range:"
   ]
  },
  {
   "cell_type": "code",
   "execution_count": 109,
   "id": "2019d5e5-ca7a-4752-b8c2-6d24c6df44d6",
   "metadata": {},
   "outputs": [
    {
     "name": "stdout",
     "output_type": "stream",
     "text": [
      "Omitting beginning index: Monday\n"
     ]
    }
   ],
   "source": [
    "day = date[:6]\n",
    "print('Omitting beginning index:', day)"
   ]
  },
  {
   "cell_type": "markdown",
   "id": "e52cd80a-c57a-4b58-bdc2-4be36de4b1ba",
   "metadata": {},
   "source": [
    "And similarly, you can omit the ending index in the range to take a slice to the very end of the sequence:"
   ]
  },
  {
   "cell_type": "code",
   "execution_count": 23,
   "id": "ff9d6064-5563-49d9-8900-7f0553ed96ba",
   "metadata": {},
   "outputs": [
    {
     "name": "stdout",
     "output_type": "stream",
     "text": [
      "With known last position: ['sep', 'oct', 'nov', 'dec']\n",
      "Using len() to get last entry: ['sep', 'oct', 'nov', 'dec']\n",
      "Omitting ending index: ['sep', 'oct', 'nov', 'dec']\n"
     ]
    }
   ],
   "source": [
    "months = ['jan', 'feb', 'mar', 'apr', 'may', 'jun', 'jul', 'aug', 'sep', 'oct', 'nov', 'dec']\n",
    "sond = months[8:12]\n",
    "print('With known last position:', sond)\n",
    "sond = months[8:len(months)]\n",
    "print('Using len() to get last entry:', sond)\n",
    "sond = months[8:]\n",
    "print('Omitting ending index:', sond)"
   ]
  },
  {
   "cell_type": "markdown",
   "id": "17d9e624-c0ad-479e-904f-6aa76a1d45f5",
   "metadata": {},
   "source": [
    "## Loops in Python\n",
    "In Python, loops are powerful tools that allow you to repeat a block of code multiple times without writing it out again.\n",
    "\n",
    "An example task that we might want to repeat is accessing numbers in a list, which we will do by printing each number on a line of its own."
   ]
  },
  {
   "cell_type": "code",
   "execution_count": 24,
   "id": "499a191f-73ab-4343-8ae2-455b31d1047b",
   "metadata": {},
   "outputs": [],
   "source": [
    "odds = [1, 3, 5, 7]"
   ]
  },
  {
   "cell_type": "markdown",
   "id": "85a53356-d677-4965-9b99-9e3cb99c2edd",
   "metadata": {},
   "source": [
    "In Python, a list is basically an ordered collection of elements, and every element has a unique number associated with it — its index. This means that we can access elements in a list using their indices. For example, we can get the first number in the list odds, by using odds[0]. One way to print each number is to use four print statements:"
   ]
  },
  {
   "cell_type": "code",
   "execution_count": 25,
   "id": "11156e93-9229-431d-a347-95c23684e338",
   "metadata": {},
   "outputs": [
    {
     "name": "stdout",
     "output_type": "stream",
     "text": [
      "1\n",
      "3\n",
      "5\n",
      "7\n"
     ]
    }
   ],
   "source": [
    "print(odds[0])\n",
    "print(odds[1])\n",
    "print(odds[2])\n",
    "print(odds[3])"
   ]
  },
  {
   "cell_type": "markdown",
   "id": "e1bde99d-ca21-41a9-94a6-611616099b6b",
   "metadata": {},
   "source": [
    "This is a bad approach for three reasons:\n",
    "\n",
    "**1) Not scalable**: Imagine you need to print a list that has hundreds of elements. It might be easier to type them in manually.\n",
    "\n",
    "**2) Difficult to maintain**: If we want to decorate each printed element with an asterisk or any other character, we would have to change four lines of code. While this might not be a problem for small lists, it would definitely be a problem for longer ones.\n",
    "\n",
    "**3) Fragile**: If we use it with a list that has more elements than what we initially envisioned, it will only display part of the list’s elements. A shorter list, on the other hand, will cause an error because it will be trying to display elements of the list that do not exist."
   ]
  },
  {
   "cell_type": "code",
   "execution_count": 26,
   "id": "6380cd86-b9a4-458c-ad4e-e0fcb66b6047",
   "metadata": {},
   "outputs": [
    {
     "name": "stdout",
     "output_type": "stream",
     "text": [
      "1\n",
      "3\n",
      "5\n"
     ]
    },
    {
     "ename": "IndexError",
     "evalue": "list index out of range",
     "output_type": "error",
     "traceback": [
      "\u001b[0;31m---------------------------------------------------------------------------\u001b[0m",
      "\u001b[0;31mIndexError\u001b[0m                                Traceback (most recent call last)",
      "Cell \u001b[0;32mIn[26], line 5\u001b[0m\n\u001b[1;32m      3\u001b[0m \u001b[38;5;28mprint\u001b[39m(odds[\u001b[38;5;241m1\u001b[39m])\n\u001b[1;32m      4\u001b[0m \u001b[38;5;28mprint\u001b[39m(odds[\u001b[38;5;241m2\u001b[39m])\n\u001b[0;32m----> 5\u001b[0m \u001b[38;5;28mprint\u001b[39m(odds[\u001b[38;5;241m3\u001b[39m])\n",
      "\u001b[0;31mIndexError\u001b[0m: list index out of range"
     ]
    }
   ],
   "source": [
    "odds = [1, 3, 5]\n",
    "print(odds[0])\n",
    "print(odds[1])\n",
    "print(odds[2])\n",
    "print(odds[3])"
   ]
  },
  {
   "cell_type": "markdown",
   "id": "c31e1704-647e-4ff3-8038-9640431e2b81",
   "metadata": {},
   "source": [
    "Here’s a better approach: a for loop. This loop iterates over a sequence (like a list or a string) and executes a block of code for each item in that sequence. It’s great for when you know how many times you want to loop."
   ]
  },
  {
   "cell_type": "code",
   "execution_count": 27,
   "id": "b10b8fd9-dc7d-4b93-b526-24e09fd5014a",
   "metadata": {},
   "outputs": [
    {
     "name": "stdout",
     "output_type": "stream",
     "text": [
      "1\n",
      "3\n",
      "5\n",
      "7\n"
     ]
    }
   ],
   "source": [
    "odds = [1, 3, 5, 7]\n",
    "for num in odds:\n",
    "    print(num)"
   ]
  },
  {
   "cell_type": "markdown",
   "id": "bc7b38b1-76f3-4665-bc20-5456ac579d02",
   "metadata": {},
   "source": [
    "The improved version uses a for loop to repeat an operation — in this case, printing — once for each thing in a sequence. The general form of a loop is:"
   ]
  },
  {
   "cell_type": "code",
   "execution_count": null,
   "id": "a0446f6f-a3fd-46f0-9859-4249577fd8c8",
   "metadata": {},
   "outputs": [],
   "source": [
    "for variable in collection:\n",
    "    # do things using variable, such as print"
   ]
  },
  {
   "cell_type": "markdown",
   "id": "588af8c1-4606-4568-ad3e-c67b8235ec51",
   "metadata": {},
   "source": [
    "Using the odds example above, the loop might look like this:\n",
    "![odd num](https://swcarpentry.github.io/python-novice-inflammation/fig/05-loops_image_num.png)"
   ]
  },
  {
   "cell_type": "markdown",
   "id": "74e0b99c-1441-482b-a930-4ed1287e7b68",
   "metadata": {},
   "source": [
    "where each number (num) in the variable odds is looped through and printed one number after another. The other numbers in the diagram denote which loop cycle the number was printed in (1 being the first loop cycle, and 6 being the final loop cycle).\n",
    "\n",
    "We can call the loop variable anything we like, but there must be a colon at the end of the line starting the loop, and we must indent anything we want to run inside the loop. Unlike many other languages, there is no command to signify the end of the loop body (e.g. end for); everything indented after the for statement belongs to the loop.\n",
    "\n",
    "Here’s another loop that repeatedly updates a variable:"
   ]
  },
  {
   "cell_type": "code",
   "execution_count": 29,
   "id": "897a93e2-2166-4c31-9002-125d6d403114",
   "metadata": {},
   "outputs": [
    {
     "name": "stdout",
     "output_type": "stream",
     "text": [
      "There are 3 names in the list.\n"
     ]
    }
   ],
   "source": [
    "length = 0\n",
    "names = ['Curie', 'Darwin', 'Turing']\n",
    "for value in names:\n",
    "    length = length + 1\n",
    "print('There are', length, 'names in the list.')"
   ]
  },
  {
   "cell_type": "markdown",
   "id": "ca4cb629-65b6-432f-b067-0c7deeb8d775",
   "metadata": {},
   "source": [
    "It’s worth tracing the execution of this little program step by step. Since there are three names in names, the statement on line 4 will be executed three times. The first time around, length is zero (the value assigned to it on line 1) and value is Curie. The statement adds 1 to the old value of length, producing 1, and updates length to refer to that new value. The next time around, value is Darwin and length is 1, so length is updated to be 2. After one more update, length is 3; since there is nothing left in names for Python to process, the loop finishes and the print function on line 5 tells us our final answer.\n",
    "\n",
    "Note that a loop variable is a variable that is being used to record progress in a loop. It still exists after the loop is over, and we can re-use variables previously defined as loop variables as well:"
   ]
  },
  {
   "cell_type": "code",
   "execution_count": 30,
   "id": "72e87fe4-30fb-4294-a1a4-b235b95db6fe",
   "metadata": {},
   "outputs": [
    {
     "name": "stdout",
     "output_type": "stream",
     "text": [
      "Curie\n",
      "Darwin\n",
      "Turing\n",
      "after the loop, name is Turing\n"
     ]
    }
   ],
   "source": [
    "name = 'Rosalind'\n",
    "for name in ['Curie', 'Darwin', 'Turing']:\n",
    "    print(name)\n",
    "print('after the loop, name is', name)"
   ]
  },
  {
   "cell_type": "markdown",
   "id": "929fc47c-064d-4180-b874-c7c1c0da9413",
   "metadata": {},
   "source": [
    "Note also that finding the length of an object is such a common operation that Python actually has a built-in function to do it called len:"
   ]
  },
  {
   "cell_type": "code",
   "execution_count": 31,
   "id": "605c1fc1-3c5b-4378-afc4-cdb03ee11784",
   "metadata": {},
   "outputs": [
    {
     "name": "stdout",
     "output_type": "stream",
     "text": [
      "4\n"
     ]
    }
   ],
   "source": [
    "print(len([0, 1, 2, 3]))"
   ]
  },
  {
   "cell_type": "markdown",
   "id": "7226e1ce-1e31-4a77-aae3-a05a324a917f",
   "metadata": {},
   "source": [
    "***len*** is much faster than any function we could write ourselves, and much easier to read than a two-line loop; it will also give us the length of many other things that we haven’t met yet, so we should always use it when we can.\n",
    "\n",
    "### From 1 To N\n",
    "Python has a built-in function called range that generates a sequence of numbers. Range can accept 1, 2, or 3 parameters.\n",
    "\n",
    "- If one parameter is given, range generates a sequence of that length, starting at zero and incrementing by 1. For example, range(3) produces the numbers 0, 1, 2.\n",
    "- If two parameters are given, range starts at the first and ends just before the second, incrementing by one. For example, range(2, 5) produces 2, 3, 4.\n",
    "- If range is given 3 parameters, it starts at the first one, ends just before the second one, and increments by the third one. For example, range(3, 10, 2) produces 3, 5, 7, 9."
   ]
  },
  {
   "cell_type": "code",
   "execution_count": 32,
   "id": "3b092c97-f0ba-409d-a116-efa0167ea431",
   "metadata": {},
   "outputs": [
    {
     "name": "stdout",
     "output_type": "stream",
     "text": [
      "1\n",
      "2\n",
      "3\n"
     ]
    }
   ],
   "source": [
    "for number in range(1, 4):\n",
    "    print(number)"
   ]
  },
  {
   "cell_type": "markdown",
   "id": "acf70cd9-4102-4658-8e0f-8b0f6f0ed7d4",
   "metadata": {},
   "source": [
    "#### Check your Understanding\n",
    "Given the following loop:"
   ]
  },
  {
   "cell_type": "raw",
   "id": "3a112e3e-8b44-42a4-b783-903d3d7a066a",
   "metadata": {},
   "source": [
    "word = 'oxygen'\n",
    "for letter in word:\n",
    "    print(letter)"
   ]
  },
  {
   "cell_type": "markdown",
   "id": "335afe99-9aab-4714-b489-756622dfeaf4",
   "metadata": {},
   "source": [
    "How many times is the body of the loop executed?\n",
    "- 3 times\n",
    "- 4 times\n",
    "- 5 times\n",
    "- 6 times\n",
    "\n"
   ]
  },
  {
   "cell_type": "markdown",
   "id": "b55eb0ca-2c2c-4bc6-968d-ed333d495e1d",
   "metadata": {},
   "source": [
    "## Analyzing Data from Multiple Files\n",
    "So far, we have analyzed a single file of clinical trial inflammation data. However, after finding some peculiar and potentially suspicious trends in the trial data we ask Dr. Maverick if they have performed any other clinical trials. Surprisingly, they say that they have and provide us with 11 more CSV files for a further 11 clinical trials they have undertaken since the initial trial.\n",
    "\n",
    "As a final piece to processing our inflammation data, we need a way to get a list of all the files in our data directory whose names start with inflammation- and end with .csv. The following library will help us to achieve this:"
   ]
  },
  {
   "cell_type": "code",
   "execution_count": 36,
   "id": "433c17eb-2a04-4710-865e-1b400cfbea08",
   "metadata": {},
   "outputs": [],
   "source": [
    "import glob"
   ]
  },
  {
   "cell_type": "markdown",
   "id": "e33a7241-e465-423a-be49-21cc105c48db",
   "metadata": {},
   "source": [
    "The glob library contains a function, also called glob, that finds files and directories whose names match a pattern. We provide those patterns as strings: the character * matches zero or more characters, while ? matches any one character. We can use this to get the names of all the CSV files in the current directory:"
   ]
  },
  {
   "cell_type": "code",
   "execution_count": 39,
   "id": "aad6b5b6-9995-46f4-b7f4-8005e8153e08",
   "metadata": {},
   "outputs": [
    {
     "name": "stdout",
     "output_type": "stream",
     "text": [
      "['data/inflammation-05.csv', 'data/inflammation-11.csv', 'data/inflammation-10.csv', 'data/inflammation-04.csv', 'data/inflammation-12.csv', 'data/inflammation-06.csv', 'data/inflammation-07.csv', 'data/inflammation-03.csv', 'data/inflammation-02.csv', 'data/inflammation-01.csv', 'data/inflammation-09.csv', 'data/inflammation-08.csv']\n"
     ]
    }
   ],
   "source": [
    "print(glob.glob('data/inflammation*.csv'))"
   ]
  },
  {
   "cell_type": "markdown",
   "id": "b0ccc14f-c28c-4ed2-92f5-31882456a5a2",
   "metadata": {},
   "source": [
    "As these examples show, glob.glob’s result is a list of file and directory paths in arbitrary order. This means we can loop over it to do something with each filename in turn. In our case, the “something” we want to do is generate a set of plots for each file in our inflammation dataset.\n",
    "\n",
    "If we want to start by analyzing just the first three files in alphabetical order, we can use the sorted built-in function to generate a new sorted list from the glob.glob output:"
   ]
  },
  {
   "cell_type": "code",
   "execution_count": 1,
   "id": "c2314149-adc6-4578-af8f-e979f96b00e3",
   "metadata": {},
   "outputs": [
    {
     "ename": "NameError",
     "evalue": "name 'glob' is not defined",
     "output_type": "error",
     "traceback": [
      "\u001b[0;31m---------------------------------------------------------------------------\u001b[0m",
      "\u001b[0;31mNameError\u001b[0m                                 Traceback (most recent call last)",
      "Cell \u001b[0;32mIn[1], line 1\u001b[0m\n\u001b[0;32m----> 1\u001b[0m filenames \u001b[38;5;241m=\u001b[39m \u001b[38;5;28msorted\u001b[39m(glob\u001b[38;5;241m.\u001b[39mglob(\u001b[38;5;124m'\u001b[39m\u001b[38;5;124mdata/inflammation*.csv\u001b[39m\u001b[38;5;124m'\u001b[39m))\n\u001b[1;32m      2\u001b[0m filenames \u001b[38;5;241m=\u001b[39m filenames[\u001b[38;5;241m0\u001b[39m:\u001b[38;5;241m3\u001b[39m]\n\u001b[1;32m      3\u001b[0m \u001b[38;5;28;01mfor\u001b[39;00m filename \u001b[38;5;129;01min\u001b[39;00m filenames:\n",
      "\u001b[0;31mNameError\u001b[0m: name 'glob' is not defined"
     ]
    }
   ],
   "source": [
    "filenames = sorted(glob.glob('data/inflammation*.csv'))\n",
    "filenames = filenames[0:3]\n",
    "for filename in filenames:\n",
    "    print(filename)\n",
    "\n",
    "    data = np.loadtxt(fname=filename, delimiter=',')\n",
    "\n",
    "    fig = plt.figure(figsize=(10.0, 3.0))\n",
    "\n",
    "    axes1 = fig.add_subplot(1, 3, 1)\n",
    "    axes2 = fig.add_subplot(1, 3, 2)\n",
    "    axes3 = fig.add_subplot(1, 3, 3)\n",
    "\n",
    "    axes1.set_ylabel('average')\n",
    "    axes1.plot(np.mean(data, axis=0))\n",
    "\n",
    "    axes2.set_ylabel('max')\n",
    "    axes2.plot(np.amax(data, axis=0))\n",
    "\n",
    "    axes3.set_ylabel('min')\n",
    "    axes3.plot(np.amin(data, axis=0))\n",
    "\n",
    "    fig.tight_layout()\n",
    "    plt.show()"
   ]
  },
  {
   "cell_type": "markdown",
   "id": "5d311023-a5f2-44d0-9fd2-163d10cc5c64",
   "metadata": {},
   "source": [
    "The plots generated for the second clinical trial file look very similar to the plots for the first file: their average plots show similar “noisy” rises and falls; their maxima plots show exactly the same linear rise and fall; and their minima plots show similar staircase structures.\n",
    "\n",
    "The third dataset shows much noisier average and maxima plots that are far less suspicious than the first two datasets, however the minima plot shows that the third dataset minima is consistently zero across every day of the trial.\n",
    "\n",
    "If we produce a heat map for the third data file we see the following:"
   ]
  },
  {
   "cell_type": "code",
   "execution_count": 107,
   "id": "4fa4b1a7-a041-482c-a285-ad09dd2bbaf3",
   "metadata": {},
   "outputs": [
    {
     "data": {
      "image/png": "[encoded data removed]",
      "text/plain": [
       "<Figure size 640x480 with 1 Axes>"
      ]
     },
     "metadata": {},
     "output_type": "display_data"
    }
   ],
   "source": [
    "image = plt.imshow(data)\n",
    "plt.show()"
   ]
  },
  {
   "cell_type": "markdown",
   "id": "eb807069-988e-4850-94b6-cdaf993197e0",
   "metadata": {},
   "source": [
    "We can see that there are zero values sporadically distributed across all patients and days of the clinical trial, suggesting that there were potential issues with data collection throughout the trial. In addition, we can see that the last patient in the study didn’t have any inflammation flare-ups at all throughout the trial, suggesting that they may not even suffer from arthritis!"
   ]
  },
  {
   "cell_type": "markdown",
   "id": "5142b5a5-bb89-4258-9531-1f03b26e3dd4",
   "metadata": {},
   "source": [
    "After spending some time investigating the heat map and statistical plots we gain some insight into the twelve clinical trial datasets.\n",
    "\n",
    "The datasets appear to fall into two categories:\n",
    "\n",
    "- ***seemingly “ideal” datasets*** that agree excellently with Dr. Maverick’s claims, but display suspicious maxima and minima (such as inflammation-01.csv and inflammation-02.csv)\n",
    "- ***“noisy” datasets*** that somewhat agree with Dr. Maverick’s claims, but show concerning data collection issues such as sporadic missing values and even an unsuitable candidate making it into the clinical trial.\n",
    "\n",
    "After reviewing these findings, we can conclude that the clinical data has been fabricated by Dr. Maverick based on the identified inconsistencies in the datasets.\n",
    "\n",
    "Oh well! Lets continue using the data to learn how to program in python! "
   ]
  }
 ],
 "metadata": {
  "kernelspec": {
   "display_name": "Python 3 (ipykernel)",
   "language": "python",
   "name": "python3"
  },
  "language_info": {
   "codemirror_mode": {
    "name": "ipython",
    "version": 3
   },
   "file_extension": ".py",
   "mimetype": "text/x-python",
   "name": "python",
   "nbconvert_exporter": "python",
   "pygments_lexer": "ipython3",
   "version": "3.11.5"
  }
 },
 "nbformat": 4,
 "nbformat_minor": 5
}
