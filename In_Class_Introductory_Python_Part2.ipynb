{
 "cells": [
  {
   "cell_type": "markdown",
   "id": "d8abd33e-659f-4afe-873d-9cf1fb59274c",
   "metadata": {},
   "source": [
    "# Introductory Programming with Python (Part 2)\n",
    "In our last lesson, we discovered something suspicious was going on in our inflammation data by drawing some plots. How can we use Python to automatically recognize the different features we saw, and take a different action for each? \n",
    "\n",
    " \n",
    "Let's start this session by learning how to write code that runs only when certain conditions are true."
   ]
  },
  {
   "cell_type": "markdown",
   "id": "18d47707-10b2-4e33-9ba2-c1b37228ad2d",
   "metadata": {},
   "source": [
    "## Conditionals\n",
    "In Python, conditionals allow you to make decisions in your code based on certain conditions. The most common way to do this is by using if, elif, and else statements.\n",
    "\n",
    "Here’s how they work:\n",
    "\n",
    "- **if**: checks if a condition is True and runs the code inside the block.\n",
    "- **elif**: (short for \"else if\") checks another condition if the previous one was False.\n",
    "- **else**: runs if none of the previous conditions were True.\n",
    "\n",
    "For example:"
   ]
  },
  {
   "cell_type": "code",
   "execution_count": 1,
   "id": "17e728fc-5876-46d1-ad92-49521ca673ea",
   "metadata": {},
   "outputs": [
    {
     "name": "stdout",
     "output_type": "stream",
     "text": [
      "not greater\n",
      "done\n"
     ]
    }
   ],
   "source": [
    "num = 37\n",
    "if num > 100:\n",
    "    print('greater')\n",
    "else:\n",
    "    print('not greater')\n",
    "print('done')"
   ]
  },
  {
   "cell_type": "markdown",
   "id": "aef58403-fe1c-4ccb-8cf2-065953d04609",
   "metadata": {},
   "source": [
    "The second line of this code uses the if keyword to tell Python to make a decision. If the condition after if is true, the code under if runs, and \"greater\" is printed. If the condition is false, the code under else runs, and \"not greater\" is printed. Only one of these will run, then the program moves on to print \"done.\""
   ]
  },
  {
   "cell_type": "markdown",
   "id": "72d7f969-6154-4340-89bd-af51ad6516f3",
   "metadata": {},
   "source": [
    "![Image of if](https://swcarpentry.github.io/python-novice-inflammation/fig/python-flowchart-conditional.png)"
   ]
  },
  {
   "cell_type": "markdown",
   "id": "c9bc5457-2f2c-45b7-bd4a-11474fd2e8d3",
   "metadata": {},
   "source": [
    "Conditional statements don’t have to include an else. If there isn’t one, Python simply does nothing if the test is false:"
   ]
  },
  {
   "cell_type": "code",
   "execution_count": 2,
   "id": "99654ead-f86c-4665-9518-5862d6ca8cbd",
   "metadata": {},
   "outputs": [
    {
     "name": "stdout",
     "output_type": "stream",
     "text": [
      "before conditional...\n",
      "...after conditional\n"
     ]
    }
   ],
   "source": [
    "num = 53\n",
    "print('before conditional...')\n",
    "if num > 100:\n",
    "    print(num, 'is greater than 100')\n",
    "print('...after conditional')"
   ]
  },
  {
   "cell_type": "markdown",
   "id": "4864734e-0dc3-41db-9687-1007944a6d41",
   "metadata": {},
   "source": [
    "We can also chain several tests together using elif, which is short for “else if”. The following Python code uses elif to print the sign of a number."
   ]
  },
  {
   "cell_type": "code",
   "execution_count": 3,
   "id": "877a6c40-fac9-4058-88be-024fe1c5774d",
   "metadata": {},
   "outputs": [
    {
     "name": "stdout",
     "output_type": "stream",
     "text": [
      "-3 is negative\n"
     ]
    }
   ],
   "source": [
    "num = -3\n",
    "\n",
    "if num > 0:\n",
    "    print(num, 'is positive')\n",
    "elif num == 0:\n",
    "    print(num, 'is zero')\n",
    "else:\n",
    "    print(num, 'is negative')"
   ]
  },
  {
   "cell_type": "markdown",
   "id": "b3ca59ac-c831-4fe7-b86e-5176a97297e8",
   "metadata": {},
   "source": [
    "Note that to test for equality we use a double equals sign == rather than a single equals sign = which is used to assign values.\n",
    "\n",
    "### Comparing in Python\n",
    "\n",
    "Along with the > and == operators we have already used for comparing values in our conditionals, there are a few more options to know about:"
   ]
  },
  {
   "cell_type": "raw",
   "id": "fc4e90a2-204a-4605-af18-a376fcca8b5b",
   "metadata": {},
   "source": [
    ">: greater than\n",
    "<: less than\n",
    "==: equal to\n",
    "!=: does not equal\n",
    ">=: greater than or equal to\n",
    "<=: less than or equal to"
   ]
  },
  {
   "cell_type": "markdown",
   "id": "31af7619-12ab-4d8d-8c32-517501bee1fc",
   "metadata": {},
   "source": [
    "We can also combine conditions using **and** and **or**.\n",
    "\n",
    "- **and** is only true if both conditions are true:"
   ]
  },
  {
   "cell_type": "code",
   "execution_count": 4,
   "id": "45e370ef-56ee-4d30-bb1d-fa960ce89738",
   "metadata": {},
   "outputs": [
    {
     "name": "stdout",
     "output_type": "stream",
     "text": [
      "at least one part is false\n"
     ]
    }
   ],
   "source": [
    "if (1 > 0) and (-1 >= 0):\n",
    "    print('both parts are true')\n",
    "else:\n",
    "    print('at least one part is false')"
   ]
  },
  {
   "cell_type": "markdown",
   "id": "4138addb-ee12-4e66-bd28-09e5331402d8",
   "metadata": {},
   "source": [
    "- **or** is true if at least one of the conditions is true:"
   ]
  },
  {
   "cell_type": "code",
   "execution_count": 5,
   "id": "7d649788-6a25-4f93-a5c2-496f3d5540d0",
   "metadata": {},
   "outputs": [
    {
     "name": "stdout",
     "output_type": "stream",
     "text": [
      "at least one test is true\n"
     ]
    }
   ],
   "source": [
    "if (1 < 0) or (1 >= 0):\n",
    "    print('at least one test is true')"
   ]
  },
  {
   "cell_type": "markdown",
   "id": "afdd0152-f4ca-4197-8764-82942950682f",
   "metadata": {},
   "source": [
    "### True and False\n",
    "In Python, True and False are special values called booleans, which represent whether something is true or false.\n",
    "\n",
    "For example:\n",
    "\n",
    "- **1 < 0** (Is 1 less than 0?) returns False, because this statement is not true.\n",
    "- **-1 < 0** (Is -1 less than 0?) returns True, because this statement is true.\n",
    "\n",
    "Booleans help us make decisions in our programs."
   ]
  },
  {
   "cell_type": "code",
   "execution_count": 6,
   "id": "3ac01891-4857-4003-a02f-6a88caa8f843",
   "metadata": {},
   "outputs": [
    {
     "data": {
      "text/plain": [
       "False"
      ]
     },
     "execution_count": 6,
     "metadata": {},
     "output_type": "execute_result"
    }
   ],
   "source": [
    "1 < 0"
   ]
  },
  {
   "cell_type": "code",
   "execution_count": 7,
   "id": "9439d23f-a3b7-43fb-80f2-ee66aeee0300",
   "metadata": {},
   "outputs": [
    {
     "data": {
      "text/plain": [
       "True"
      ]
     },
     "execution_count": 7,
     "metadata": {},
     "output_type": "execute_result"
    }
   ],
   "source": [
    "-1 < 0"
   ]
  },
  {
   "cell_type": "markdown",
   "id": "190e1ea8-767e-497e-aa25-96158a2b3ca0",
   "metadata": {},
   "source": [
    "## Checking our Data\n",
    "Now that we’ve seen how conditionals work, we can use them to check for the suspicious features we saw in our inflammation data. We are about to use functions provided by the numpy module again. \n",
    "\n",
    "Therefore, since we’re working in a new Python notebook, we will make sure to load the module and data again:"
   ]
  },
  {
   "cell_type": "code",
   "execution_count": 8,
   "id": "c3ea6511-4fd7-4aa4-a362-a7ab9d8ab9aa",
   "metadata": {},
   "outputs": [],
   "source": [
    "import numpy as np\n",
    "data = np.loadtxt(fname='data/inflammation-01.csv', delimiter=',')"
   ]
  },
  {
   "cell_type": "markdown",
   "id": "a16f8fad-8df0-474f-8bf2-736d9ebc2fad",
   "metadata": {},
   "source": [
    "From the first couple of plots, we saw that maximum daily inflammation exhibits a strange behavior and raises one unit a day. Wouldn’t it be a good idea to detect such behavior and report it as suspicious? Let’s do that! \n",
    "\n",
    "However, instead of checking every single day of the study, let’s merely check if maximum inflammation in the beginning (day 0) and in the middle (day 20) of the study are equal to the corresponding day numbers."
   ]
  },
  {
   "cell_type": "code",
   "execution_count": 9,
   "id": "84ccfbf3-60cd-4cbf-9284-8ab21ba954f7",
   "metadata": {},
   "outputs": [
    {
     "name": "stdout",
     "output_type": "stream",
     "text": [
      "Suspicious looking maxima!\n"
     ]
    }
   ],
   "source": [
    "max_inflammation_0 = np.amax(data, axis=0)[0]\n",
    "max_inflammation_20 = np.amax(data, axis=0)[20]\n",
    "\n",
    "if max_inflammation_0 == 0 and max_inflammation_20 == 20:\n",
    "    print('Suspicious looking maxima!')"
   ]
  },
  {
   "cell_type": "markdown",
   "id": "9f76bc15-6448-4013-8a5c-fb6a82f892be",
   "metadata": {},
   "source": [
    "We also saw a different problem in the third dataset; the minima per day were all zero (looks like a healthy person snuck into our study). We can also check for this with an elif condition:"
   ]
  },
  {
   "cell_type": "raw",
   "id": "8fad8f4d-967e-4364-bd3a-d9dff013cb8f",
   "metadata": {},
   "source": [
    "elif np.sum(np.amin(data, axis=0)) == 0:\n",
    "    print('Minima add up to zero!')"
   ]
  },
  {
   "cell_type": "markdown",
   "id": "7dde3c34-f748-4942-9c2e-c33f7538f48f",
   "metadata": {},
   "source": [
    "And if neither of these conditions are true, we can use else to give the all-clear:"
   ]
  },
  {
   "cell_type": "markdown",
   "id": "11a0a51b-7d93-4f4c-a345-e97655cd3610",
   "metadata": {},
   "source": [
    "else:\n",
    "    print('Seems OK!')"
   ]
  },
  {
   "cell_type": "markdown",
   "id": "1783ac16-2c67-4e3b-9f38-965e58388fed",
   "metadata": {},
   "source": [
    "Let’s test that out:"
   ]
  },
  {
   "cell_type": "code",
   "execution_count": 10,
   "id": "2da6574d-4702-40c7-a59f-9ab48e2147a7",
   "metadata": {},
   "outputs": [
    {
     "name": "stdout",
     "output_type": "stream",
     "text": [
      "Suspicious looking maxima!\n"
     ]
    }
   ],
   "source": [
    "data = np.loadtxt(fname='data/inflammation-01.csv', delimiter=',')\n",
    "\n",
    "max_inflammation_0 = np.amax(data, axis=0)[0]\n",
    "max_inflammation_20 = np.amax(data, axis=0)[20]\n",
    "\n",
    "if max_inflammation_0 == 0 and max_inflammation_20 == 20:\n",
    "    print('Suspicious looking maxima!')\n",
    "elif numpy.sum(numpy.amin(data, axis=0)) == 0:\n",
    "    print('Minima add up to zero!')\n",
    "else:\n",
    "    print('Seems OK!')"
   ]
  },
  {
   "cell_type": "markdown",
   "id": "ed6975e3-8ff5-4438-b5ea-9734c2c78c57",
   "metadata": {},
   "source": [
    "**[CHANGE inflammation-01 TO inflammation-03]**"
   ]
  },
  {
   "cell_type": "markdown",
   "id": "10c152df-ff30-4eab-9928-5584065197c7",
   "metadata": {},
   "source": [
    "In this way, we have asked Python to do something different depending on the condition of our data. Here we printed messages in all cases, but we could also imagine not using the else catch-all so that messages are only printed when something is wrong, freeing us from having to manually examine every plot for features we’ve seen before."
   ]
  },
  {
   "cell_type": "markdown",
   "id": "548680e2-84bf-4960-8abb-ccf9623b57bb",
   "metadata": {},
   "source": [
    "___\n",
    "### Check your understanding\n",
    "Consider this code:"
   ]
  },
  {
   "cell_type": "raw",
   "id": "bb79af7e-4773-4729-ba0f-eaab59909237",
   "metadata": {},
   "source": [
    "if 4 > 5:\n",
    "    print('A')\n",
    "elif 4 == 5:\n",
    "    print('B')\n",
    "elif 4 < 5:\n",
    "    print('C')"
   ]
  },
  {
   "cell_type": "markdown",
   "id": "403dbc51-c3b0-4ec8-b2e5-cc84b5ee6521",
   "metadata": {},
   "source": [
    "Which of the following would be printed if you were to run this code? Why did you pick this answer?\n",
    "1. A\n",
    "2. B\n",
    "3. C\n",
    "4. B and C\n",
    "___"
   ]
  },
  {
   "cell_type": "markdown",
   "id": "b042cb3b-acaa-4cab-95fc-b4c4e11f7701",
   "metadata": {},
   "source": [
    "### Sorting a list into buckets\n",
    "In our data folder, large data sets are stored in files whose names start with *“inflammation-”* and small data sets – in files whose names start with *“small-”*. We also have some other files that we do not care about at this point.\n",
    "\n",
    "We’d like to break all these files into three lists called **large_files**, **small_files**, and **other_files**, respectively."
   ]
  },
  {
   "cell_type": "markdown",
   "id": "0b4691d2-d467-4910-b2bd-2fca18afbdce",
   "metadata": {},
   "source": [
    "The **startswith()** method in Python checks if a string begins with a specific sequence of characters (a prefix). It returns *True* if the string starts with the exact characters passed to it, and *False* otherwise.\n",
    "\n",
    "**Key Points**\n",
    "1. **Case-Sensitivity**: The method is case-sensitive, meaning 'Str' and 'str' are treated differently."
   ]
  },
  {
   "cell_type": "code",
   "execution_count": 11,
   "id": "bacbcfe3-3c31-4fcc-b255-f1ca781fda8a",
   "metadata": {},
   "outputs": [
    {
     "data": {
      "text/plain": [
       "True"
      ]
     },
     "execution_count": 11,
     "metadata": {},
     "output_type": "execute_result"
    }
   ],
   "source": [
    "'String'.startswith('Str')"
   ]
  },
  {
   "cell_type": "code",
   "execution_count": 12,
   "id": "6fed9bf1-bb05-47ab-ab5f-8558da88ef09",
   "metadata": {},
   "outputs": [
    {
     "data": {
      "text/plain": [
       "False"
      ]
     },
     "execution_count": 12,
     "metadata": {},
     "output_type": "execute_result"
    }
   ],
   "source": [
    "'String'.startswith('str')"
   ]
  },
  {
   "cell_type": "markdown",
   "id": "88d91684-7a29-4a01-ac16-122d7f93354b",
   "metadata": {},
   "source": [
    "2. **Exact Match**: The prefix must match exactly in both characters and case for startswith() to return True.\n",
    "3. **Practical Use**: This method is useful for categorizing or sorting strings, like checking if filenames start with specific prefixes, making it efficient and straightforward to use."
   ]
  },
  {
   "cell_type": "markdown",
   "id": "cd3f4c44-6956-4ed6-bb11-27c647bb6a97",
   "metadata": {},
   "source": [
    "Now let's break all the files into three lists called *large_files*, *small_files*, and *other_files*."
   ]
  },
  {
   "cell_type": "code",
   "execution_count": 13,
   "id": "71ea6df3-ee15-406e-93be-c47fe41fade2",
   "metadata": {},
   "outputs": [
    {
     "name": "stdout",
     "output_type": "stream",
     "text": [
      "large_files: ['inflammation-01.csv', 'inflammation-02.csv']\n",
      "small_files: ['small-01.csv', 'small-02.csv']\n",
      "other_files: ['myscript.py']\n"
     ]
    }
   ],
   "source": [
    "filenames = ['inflammation-01.csv',\n",
    "         'myscript.py',\n",
    "         'inflammation-02.csv',\n",
    "         'small-01.csv',\n",
    "         'small-02.csv']\n",
    "large_files = []\n",
    "small_files = []\n",
    "other_files = []\n",
    "for filename in filenames:\n",
    "    if filename.startswith('inflammation-'):\n",
    "        large_files.append(filename)\n",
    "    elif filename.startswith('small-'):\n",
    "        small_files.append(filename)\n",
    "    else:\n",
    "        other_files.append(filename)\n",
    "\n",
    "print('large_files:', large_files)\n",
    "print('small_files:', small_files)\n",
    "print('other_files:', other_files)"
   ]
  },
  {
   "cell_type": "markdown",
   "id": "a3c5bf62-66d5-4c56-844f-9a68ef998020",
   "metadata": {},
   "source": [
    "## Creating Functions\n",
    "At this point, we’ve seen that code can have Python make decisions about what it sees in our data. What if we want to convert some of our data, like taking a temperature in Fahrenheit and converting it to Celsius. We could write something like this for converting a single number:"
   ]
  },
  {
   "cell_type": "code",
   "execution_count": 14,
   "id": "fd60db80-b538-4e3c-be13-6a5163175e24",
   "metadata": {},
   "outputs": [],
   "source": [
    "fahrenheit_val = 99\n",
    "celsius_val = ((fahrenheit_val - 32) * (5/9))"
   ]
  },
  {
   "cell_type": "markdown",
   "id": "31feb076-fe5c-44aa-b8e5-da943e1e647d",
   "metadata": {},
   "source": [
    "and for a second number we could just copy the line and rename the variables:"
   ]
  },
  {
   "cell_type": "code",
   "execution_count": 15,
   "id": "f1b1122f-b411-4dd3-8636-0758ee8202c8",
   "metadata": {},
   "outputs": [],
   "source": [
    "fahrenheit_val = 99\n",
    "celsius_val = ((fahrenheit_val - 32) * (5/9))\n",
    "\n",
    "fahrenheit_val2 = 43\n",
    "celsius_val2 = ((fahrenheit_val2 - 32) * (5/9))"
   ]
  },
  {
   "cell_type": "markdown",
   "id": "6f7c08fa-6687-422f-be96-ec0d27bb9e45",
   "metadata": {},
   "source": [
    "But we would be in trouble as soon as we had to do this more than a couple times. Cutting and pasting it is going to make our code get very long and very repetitive, very quickly. We’d like a way to package our code so that it is easier to reuse, a shorthand way of re-executing longer pieces of code. In Python we can use **functions**. \n",
    "\n",
    "In Python, a ***function*** is a block of reusable code that performs a specific task. Functions help organize your code, make it reusable, and simplify complex programs.\n",
    "\n",
    "Let’s start by defining a function fahr_to_celsius that converts temperatures from Fahrenheit to Celsius:"
   ]
  },
  {
   "cell_type": "code",
   "execution_count": 16,
   "id": "0fef2bea-91c6-455b-894f-0e538278e1d4",
   "metadata": {},
   "outputs": [],
   "source": [
    "def fahr_to_celsius(temp):\n",
    "    return ((temp - 32) * (5/9)) #Returns the converted value"
   ]
  },
  {
   "cell_type": "markdown",
   "id": "c9746e33-9c6e-4eb8-9880-94a3c9d2e12b",
   "metadata": {},
   "source": [
    "The function definition opens with the keyword ***def*** followed by the name of the function (*fahr_to_celsius*) and a parenthesized list of parameter names (*temp*).\n",
    "\n",
    "The body of the function — the statements that are executed when it runs — is indented below the definition line. The body concludes with a return keyword followed by the return value.\n",
    "\n",
    "When we call the function, the values we pass to it are assigned to those variables so that we can use them inside the function. Inside the function, we use a return statement to send a result back to whoever asked for it.\n",
    "\n",
    "![Image of function](https://swcarpentry.github.io/python-novice-inflammation/fig/python-function.svg)\n",
    "\n",
    "\n",
    "Now, let's try running our function:"
   ]
  },
  {
   "cell_type": "code",
   "execution_count": 17,
   "id": "0819ad87-a422-44ee-a9b4-52a2b1a46fe9",
   "metadata": {},
   "outputs": [
    {
     "data": {
      "text/plain": [
       "0.0"
      ]
     },
     "execution_count": 17,
     "metadata": {},
     "output_type": "execute_result"
    }
   ],
   "source": [
    "fahr_to_celsius(32)"
   ]
  },
  {
   "cell_type": "markdown",
   "id": "f40bcf04-b4ca-4af0-82d6-6c8f6f0d82ac",
   "metadata": {},
   "source": [
    "This command should call our function, using “32” as the input and return the function value.\n",
    "\n",
    "In fact, calling our own function is no different from calling any other function:\n"
   ]
  },
  {
   "cell_type": "code",
   "execution_count": 18,
   "id": "03d8e430-4aed-4bba-a11c-183bde200b71",
   "metadata": {},
   "outputs": [
    {
     "name": "stdout",
     "output_type": "stream",
     "text": [
      "freezing point of water: 0.0 C\n",
      "boiling point of water: 100.0 C\n"
     ]
    }
   ],
   "source": [
    "print('freezing point of water:', fahr_to_celsius(32), 'C')\n",
    "print('boiling point of water:', fahr_to_celsius(212), 'C')"
   ]
  },
  {
   "cell_type": "markdown",
   "id": "30095108-fd72-4af2-a328-1025dc735423",
   "metadata": {},
   "source": [
    "We’ve successfully called the function that we defined, and we have access to the value that we returned."
   ]
  },
  {
   "cell_type": "markdown",
   "id": "ca0e81bf-6e2d-46e9-9cb3-f8eb06aae493",
   "metadata": {},
   "source": [
    "### Composing Functions\n",
    "Now that we’ve seen how to turn Fahrenheit into Celsius, we can also write the function to turn Celsius into Kelvin:"
   ]
  },
  {
   "cell_type": "code",
   "execution_count": 19,
   "id": "489c3989-67dd-4972-ab26-deeb9f7149b8",
   "metadata": {},
   "outputs": [
    {
     "name": "stdout",
     "output_type": "stream",
     "text": [
      "freezing point of water in Kelvin: 273.15\n"
     ]
    }
   ],
   "source": [
    "def celsius_to_kelvin(temp_c):\n",
    "    return temp_c + 273.15\n",
    "\n",
    "print('freezing point of water in Kelvin:', celsius_to_kelvin(0.))"
   ]
  },
  {
   "cell_type": "markdown",
   "id": "11021b16-6178-4915-8b48-af0669c47b5d",
   "metadata": {},
   "source": [
    "What about converting Fahrenheit to Kelvin? We could write out the formula, but we don’t need to. Instead, we can compose the two functions we have already created:"
   ]
  },
  {
   "cell_type": "code",
   "execution_count": 20,
   "id": "e88dc6b8-b811-4bea-848d-9f219acaee1c",
   "metadata": {},
   "outputs": [
    {
     "name": "stdout",
     "output_type": "stream",
     "text": [
      "boiling point of water in Kelvin: 373.15\n"
     ]
    }
   ],
   "source": [
    "def fahr_to_kelvin(temp_f):\n",
    "    temp_c = fahr_to_celsius(temp_f)\n",
    "    temp_k = celsius_to_kelvin(temp_c)\n",
    "    return temp_k\n",
    "\n",
    "print('boiling point of water in Kelvin:', fahr_to_kelvin(212.0))"
   ]
  },
  {
   "cell_type": "markdown",
   "id": "b68a2b78-dbd1-4252-808e-8847129a5f99",
   "metadata": {},
   "source": [
    "This is our first taste of how larger programs are built: we define basic operations, then combine them in ever-larger chunks to get the effect we want. Real-life functions will usually be larger than the ones shown here — typically half a dozen to a few dozen lines — but they shouldn’t ever be much longer than that, or the next person who reads it won’t be able to understand what’s going on."
   ]
  },
  {
   "cell_type": "markdown",
   "id": "af2ed447-bc2a-48d5-b884-aee64b931b87",
   "metadata": {},
   "source": [
    "### Variable Scope\n",
    "In composing our temperature conversion functions, we created variables inside of those functions, **temp, temp_c, temp_f, and temp_k**. \n",
    "\n",
    "We refer to these variables as local variables because they no longer exist once the function is done executing. If we try to access their values outside of the function, we will encounter an error:"
   ]
  },
  {
   "cell_type": "code",
   "execution_count": 21,
   "id": "39995059-a31f-4297-968f-cfd4370acb62",
   "metadata": {},
   "outputs": [
    {
     "ename": "NameError",
     "evalue": "name 'temp_k' is not defined",
     "output_type": "error",
     "traceback": [
      "\u001b[0;31m---------------------------------------------------------------------------\u001b[0m",
      "\u001b[0;31mNameError\u001b[0m                                 Traceback (most recent call last)",
      "Cell \u001b[0;32mIn[21], line 1\u001b[0m\n\u001b[0;32m----> 1\u001b[0m \u001b[38;5;28mprint\u001b[39m(\u001b[38;5;124m'\u001b[39m\u001b[38;5;124mAgain, temperature in Kelvin was:\u001b[39m\u001b[38;5;124m'\u001b[39m, temp_k)\n",
      "\u001b[0;31mNameError\u001b[0m: name 'temp_k' is not defined"
     ]
    }
   ],
   "source": [
    "print('Again, temperature in Kelvin was:', temp_k)"
   ]
  },
  {
   "cell_type": "markdown",
   "id": "f979cb85-1fd0-4bb1-a819-d4266dd1c68c",
   "metadata": {},
   "source": [
    "If you want to reuse the temperature in Kelvin after you have calculated it with fahr_to_kelvin, you can store the result of the function call in a variable:"
   ]
  },
  {
   "cell_type": "code",
   "execution_count": null,
   "id": "b88af496-8a5d-458d-9676-456581a105db",
   "metadata": {},
   "outputs": [],
   "source": [
    "temp_kelvin = fahr_to_kelvin(212.0)\n",
    "print('temperature in Kelvin was:', temp_kelvin)"
   ]
  },
  {
   "cell_type": "markdown",
   "id": "626feaba-d987-4226-8f4e-17ed9d744b6d",
   "metadata": {},
   "source": [
    "The variable temp_kelvin, being defined outside any function, is said to be *global*.\n",
    "\n",
    "Inside a function, one can read the value of such global variables:"
   ]
  },
  {
   "cell_type": "code",
   "execution_count": null,
   "id": "82429ec5-c5bc-4195-a06d-91a2a38a1ae7",
   "metadata": {},
   "outputs": [],
   "source": [
    "def print_temperatures():\n",
    "    print('temperature in Fahrenheit was:', temp_fahr)\n",
    "    print('temperature in Kelvin was:', temp_kelvin)\n",
    "\n",
    "temp_fahr = 212.0\n",
    "temp_kelvin = fahr_to_kelvin(temp_fahr)\n",
    "\n",
    "print_temperatures()"
   ]
  },
  {
   "cell_type": "markdown",
   "id": "85ab2499-7a58-461a-8eb9-c48fd5e9256e",
   "metadata": {},
   "source": [
    "### Tidying up\n",
    "Now that we know how to wrap bits of code up in functions, we can make our inflammation analysis easier to read and easier to reuse. First, let’s make a visualize function that generates our plots:"
   ]
  },
  {
   "cell_type": "code",
   "execution_count": null,
   "id": "39e1265b-3135-463c-98dd-4be5b2b8b3d4",
   "metadata": {},
   "outputs": [],
   "source": [
    "def visualize(filename):\n",
    "\n",
    "    data = numpy.loadtxt(fname=filename, delimiter=',')\n",
    "\n",
    "    fig = matplotlib.pyplot.figure(figsize=(10.0, 3.0))\n",
    "\n",
    "    axes1 = fig.add_subplot(1, 3, 1)\n",
    "    axes2 = fig.add_subplot(1, 3, 2)\n",
    "    axes3 = fig.add_subplot(1, 3, 3)\n",
    "\n",
    "    axes1.set_ylabel('average')\n",
    "    axes1.plot(numpy.mean(data, axis=0))\n",
    "\n",
    "    axes2.set_ylabel('max')\n",
    "    axes2.plot(numpy.amax(data, axis=0))\n",
    "\n",
    "    axes3.set_ylabel('min')\n",
    "    axes3.plot(numpy.amin(data, axis=0))\n",
    "\n",
    "    fig.tight_layout()\n",
    "    matplotlib.pyplot.show()"
   ]
  },
  {
   "cell_type": "markdown",
   "id": "0c193055-69bd-495a-b332-e090cb17b236",
   "metadata": {},
   "source": [
    "and another function called detect_problems that checks for those systematics we noticed:"
   ]
  },
  {
   "cell_type": "code",
   "execution_count": null,
   "id": "30dc9e48-d0d3-4921-a6b7-8b91b9646e95",
   "metadata": {},
   "outputs": [],
   "source": [
    "def detect_problems(filename):\n",
    "\n",
    "    data = numpy.loadtxt(fname=filename, delimiter=',')\n",
    "\n",
    "    if numpy.amax(data, axis=0)[0] == 0 and numpy.amax(data, axis=0)[20] == 20:\n",
    "        print('Suspicious looking maxima!')\n",
    "    elif numpy.sum(numpy.amin(data, axis=0)) == 0:\n",
    "        print('Minima add up to zero!')\n",
    "    else:\n",
    "        print('Seems OK!')"
   ]
  },
  {
   "cell_type": "markdown",
   "id": "e37f339b-ea17-430d-bc7b-ae216aa46b50",
   "metadata": {},
   "source": [
    "Wait! Didn’t we forget to specify what both of these functions should return? \n",
    "\n",
    "Well, we didn’t. In Python, functions are not required to include a return statement and can be used for the sole purpose of grouping together pieces of code that conceptually do one thing. \n",
    "\n",
    "In such cases, function names usually describe what they do, e.g. visualize, detect_problems.\n",
    "\n",
    "Notice that rather than jumbling this code together in one giant for loop, we can now read and reuse both ideas separately. We can reproduce the previous analysis with a much simpler for loop:"
   ]
  },
  {
   "cell_type": "code",
   "execution_count": null,
   "id": "51be9b48-7d41-477e-864e-ba31a0588df7",
   "metadata": {},
   "outputs": [],
   "source": [
    "import glob\n",
    "filenames = sorted(glob.glob('inflammation*.csv'))\n",
    "\n",
    "for filename in filenames[:3]:\n",
    "    print(filename)\n",
    "    visualize(filename)\n",
    "    detect_problems(filename)"
   ]
  },
  {
   "cell_type": "markdown",
   "id": "253b40d7-c7b2-405a-9dec-4f5e76c81fd1",
   "metadata": {},
   "source": [
    "By giving our functions human-readable names, we can more easily read and understand what is happening in the for loop. Even better, if at some later date we want to use either of those pieces of code again, we can do so in a single line."
   ]
  },
  {
   "cell_type": "markdown",
   "id": "6796ea3e-62e4-494b-b837-0df0eabcc0d7",
   "metadata": {},
   "source": [
    "### Testing and Documenting \n",
    "Once we start putting things in functions so that we can re-use them, we need to start testing that those functions are working correctly. To see how to do this, let’s write a function to offset a dataset so that it’s mean value shifts to a user-defined value:"
   ]
  },
  {
   "cell_type": "code",
   "execution_count": 24,
   "id": "f8d2b2ea-7d04-402a-b6f7-e74934349abd",
   "metadata": {},
   "outputs": [],
   "source": [
    "def offset_mean(data, target_mean_value):\n",
    "    return (data - numpy.mean(data)) + target_mean_value"
   ]
  },
  {
   "cell_type": "markdown",
   "id": "0f4c3315-796a-44ad-9b11-abc62b46c0b4",
   "metadata": {},
   "source": [
    "We could test this on our actual data, but since we don’t know what the values ought to be, it will be hard to tell if the result was correct. Instead, let’s use NumPy to create a matrix of 0’s and then offset its values to have a mean value of 3:\n"
   ]
  },
  {
   "cell_type": "code",
   "execution_count": 25,
   "id": "0b30e3ad-5cee-456a-9340-b3bc1acd132d",
   "metadata": {},
   "outputs": [
    {
     "name": "stdout",
     "output_type": "stream",
     "text": [
      "[[3. 3.]\n",
      " [3. 3.]]\n"
     ]
    }
   ],
   "source": [
    "import numpy\n",
    "z = numpy.zeros((2, 2))\n",
    "print(offset_mean(z, 3))"
   ]
  },
  {
   "cell_type": "markdown",
   "id": "6860c71d-331c-48ec-a6a4-ae992622700e",
   "metadata": {},
   "source": [
    "That looks right, so let’s try **offset_mean** on our real data:"
   ]
  },
  {
   "cell_type": "code",
   "execution_count": 26,
   "id": "a3ac3fbd-5fbe-49d2-84d0-8ad9057cf0da",
   "metadata": {},
   "outputs": [
    {
     "name": "stdout",
     "output_type": "stream",
     "text": [
      "[[-6.14875 -6.14875 -5.14875 ... -3.14875 -6.14875 -6.14875]\n",
      " [-6.14875 -5.14875 -4.14875 ... -5.14875 -6.14875 -5.14875]\n",
      " [-6.14875 -5.14875 -5.14875 ... -4.14875 -5.14875 -5.14875]\n",
      " ...\n",
      " [-6.14875 -5.14875 -5.14875 ... -5.14875 -5.14875 -5.14875]\n",
      " [-6.14875 -6.14875 -6.14875 ... -6.14875 -4.14875 -6.14875]\n",
      " [-6.14875 -6.14875 -5.14875 ... -5.14875 -5.14875 -6.14875]]\n"
     ]
    }
   ],
   "source": [
    "data = numpy.loadtxt(fname='data/inflammation-01.csv', delimiter=',')\n",
    "print(offset_mean(data, 0))"
   ]
  },
  {
   "cell_type": "markdown",
   "id": "271d68b1-da14-405b-8a99-83ceb6283a74",
   "metadata": {},
   "source": [
    "It’s hard to tell from the default output whether the result is correct, but there are a few tests that we can run to reassure us:"
   ]
  },
  {
   "cell_type": "code",
   "execution_count": 27,
   "id": "e4a04e86-7417-4a58-8a8f-847dd48376bb",
   "metadata": {},
   "outputs": [
    {
     "name": "stdout",
     "output_type": "stream",
     "text": [
      "original min, mean, and max are: 0.0 6.14875 20.0\n",
      "min, mean, and max of offset data are: -6.14875 2.842170943040401e-16 13.85125\n"
     ]
    }
   ],
   "source": [
    "print('original min, mean, and max are:', numpy.amin(data), numpy.mean(data), numpy.amax(data))\n",
    "offset_data = offset_mean(data, 0)\n",
    "print('min, mean, and max of offset data are:',\n",
    "      numpy.amin(offset_data),\n",
    "      numpy.mean(offset_data),\n",
    "      numpy.amax(offset_data))"
   ]
  },
  {
   "cell_type": "markdown",
   "id": "34dd3ed7-78cc-4d0e-9d43-a16731df1b3d",
   "metadata": {},
   "source": [
    "That seems almost right: the original mean was about 6.1, so the lower bound from zero is now about -6.1. The mean of the offset data isn’t quite zero, but it’s pretty close. We can even go further and check that the standard deviation hasn’t changed:"
   ]
  },
  {
   "cell_type": "code",
   "execution_count": 28,
   "id": "43f08335-1f8e-4a2d-a15e-094dbe15d8a7",
   "metadata": {},
   "outputs": [
    {
     "name": "stdout",
     "output_type": "stream",
     "text": [
      "std dev before and after: 4.613833197118566 4.613833197118566\n"
     ]
    }
   ],
   "source": [
    "print('std dev before and after:', numpy.std(data), numpy.std(offset_data))\n"
   ]
  },
  {
   "cell_type": "markdown",
   "id": "8fae2bba-07dd-4e60-a298-6256694c6a8b",
   "metadata": {},
   "source": [
    "Those values look the same, but we probably wouldn’t notice if they were different in the sixth decimal place. Let’s do this instead:"
   ]
  },
  {
   "cell_type": "code",
   "execution_count": 30,
   "id": "79fb928d-2e94-44ae-afe3-76d370312989",
   "metadata": {},
   "outputs": [
    {
     "name": "stdout",
     "output_type": "stream",
     "text": [
      "difference in std before and after: 0.0\n"
     ]
    }
   ],
   "source": [
    "print('difference in std before and after:', numpy.std(data) - numpy.std(offset_data))"
   ]
  },
  {
   "cell_type": "markdown",
   "id": "a121cb4a-9810-4a55-9e4e-236af3d08716",
   "metadata": {},
   "source": [
    "Everything looks good, and we should probably get back to doing our analysis. We have one more task first, though: we should write some documentation for our function to remind ourselves later what it’s for and how to use it.\n",
    "\n",
    "The usual way to put documentation in software is to add comments like this:"
   ]
  },
  {
   "cell_type": "code",
   "execution_count": 31,
   "id": "ba6747f0-f58d-4dbe-a7ad-8e2ca0fa011e",
   "metadata": {},
   "outputs": [],
   "source": [
    "# offset_mean(data, target_mean_value):\n",
    "# return a new array containing the original data with its mean offset to match the desired value.\n",
    "def offset_mean(data, target_mean_value):\n",
    "    return (data - numpy.mean(data)) + target_mean_value"
   ]
  },
  {
   "cell_type": "markdown",
   "id": "8c0846c6-df38-418b-9c3f-7fc0b98a116b",
   "metadata": {},
   "source": [
    "There’s a better way, though. If the first thing in a function is a string that isn’t assigned to a variable, that string is attached to the function as its documentation:"
   ]
  },
  {
   "cell_type": "code",
   "execution_count": 32,
   "id": "aa202b28-7126-4d4a-b4b5-5ccfaee4a1b3",
   "metadata": {},
   "outputs": [],
   "source": [
    "def offset_mean(data, target_mean_value):\n",
    "    \"\"\"Return a new array containing the original data\n",
    "       with its mean offset to match the desired value.\"\"\"\n",
    "    return (data - numpy.mean(data)) + target_mean_value"
   ]
  },
  {
   "cell_type": "markdown",
   "id": "aa0e7758-69c3-440c-b01c-841352c695af",
   "metadata": {},
   "source": [
    "This is better because we can now ask Python’s built-in help system to show us the documentation for the function:"
   ]
  },
  {
   "cell_type": "code",
   "execution_count": 33,
   "id": "9216d2c3-c658-466f-808d-1b4e66771644",
   "metadata": {},
   "outputs": [
    {
     "name": "stdout",
     "output_type": "stream",
     "text": [
      "Help on function offset_mean in module __main__:\n",
      "\n",
      "offset_mean(data, target_mean_value)\n",
      "    Return a new array containing the original data\n",
      "    with its mean offset to match the desired value.\n",
      "\n"
     ]
    }
   ],
   "source": [
    "help(offset_mean)"
   ]
  },
  {
   "cell_type": "markdown",
   "id": "53c9f8fc-32db-4390-b714-6e3d8b208644",
   "metadata": {},
   "source": [
    "A string like this is called a docstring. We don’t need to use triple quotes when we write one, but if we do, we can break the string across multiple lines:"
   ]
  },
  {
   "cell_type": "code",
   "execution_count": 34,
   "id": "e7b6d7cf-db2e-4c82-a609-5b6be61c69b8",
   "metadata": {},
   "outputs": [
    {
     "name": "stdout",
     "output_type": "stream",
     "text": [
      "Help on function offset_mean in module __main__:\n",
      "\n",
      "offset_mean(data, target_mean_value)\n",
      "    Return a new array containing the original data\n",
      "       with its mean offset to match the desired value.\n",
      "    \n",
      "    Examples\n",
      "    --------\n",
      "    >>> offset_mean([1, 2, 3], 0)\n",
      "    array([-1.,  0.,  1.])\n",
      "\n"
     ]
    }
   ],
   "source": [
    "def offset_mean(data, target_mean_value):\n",
    "    \"\"\"Return a new array containing the original data\n",
    "       with its mean offset to match the desired value.\n",
    "\n",
    "    Examples\n",
    "    --------\n",
    "    >>> offset_mean([1, 2, 3], 0)\n",
    "    array([-1.,  0.,  1.])\n",
    "    \"\"\"\n",
    "    return (data - numpy.mean(data)) + target_mean_value\n",
    "\n",
    "help(offset_mean)"
   ]
  },
  {
   "cell_type": "markdown",
   "id": "2638635b-d556-4c46-bc56-dc17b43b081c",
   "metadata": {},
   "source": [
    "### Defining Defaults\n",
    "We have passed parameters to functions in two ways: directly, as in type(data), and by name, as in numpy.loadtxt(fname='something.csv', delimiter=','). In fact, we can pass the filename to loadtxt without the fname=:"
   ]
  },
  {
   "cell_type": "code",
   "execution_count": 36,
   "id": "15b96fa3-729b-4f10-aa87-53373e329b01",
   "metadata": {},
   "outputs": [
    {
     "data": {
      "text/plain": [
       "array([[0., 0., 1., ..., 3., 0., 0.],\n",
       "       [0., 1., 2., ..., 1., 0., 1.],\n",
       "       [0., 1., 1., ..., 2., 1., 1.],\n",
       "       ...,\n",
       "       [0., 1., 1., ..., 1., 1., 1.],\n",
       "       [0., 0., 0., ..., 0., 2., 0.],\n",
       "       [0., 0., 1., ..., 1., 1., 0.]])"
      ]
     },
     "execution_count": 36,
     "metadata": {},
     "output_type": "execute_result"
    }
   ],
   "source": [
    "numpy.loadtxt('data/inflammation-01.csv', delimiter=',')"
   ]
  },
  {
   "cell_type": "markdown",
   "id": "56ea1860-8d49-4d0c-a7d1-72e04531d651",
   "metadata": {},
   "source": [
    "but we still need to say delimiter=:"
   ]
  },
  {
   "cell_type": "code",
   "execution_count": 37,
   "id": "1ecb1392-e10d-49b0-923f-9767835d879c",
   "metadata": {},
   "outputs": [
    {
     "ename": "SyntaxError",
     "evalue": "invalid syntax (<unknown>, line 1)",
     "output_type": "error",
     "traceback": [
      "Traceback \u001b[0;36m(most recent call last)\u001b[0m:\n",
      "\u001b[0m  File \u001b[1;32m~/anaconda3/lib/python3.11/site-packages/IPython/core/interactiveshell.py:3553\u001b[0m in \u001b[1;35mrun_code\u001b[0m\n    exec(code_obj, self.user_global_ns, self.user_ns)\u001b[0m\n",
      "\u001b[0m  Cell \u001b[1;32mIn[37], line 1\u001b[0m\n    numpy.loadtxt('inflammation-01.csv', ',')\u001b[0m\n",
      "\u001b[0m  File \u001b[1;32m~/anaconda3/lib/python3.11/site-packages/numpy/lib/npyio.py:1373\u001b[0m in \u001b[1;35mloadtxt\u001b[0m\n    arr = _read(fname, dtype=dtype, comment=comment, delimiter=delimiter,\u001b[0m\n",
      "\u001b[0m  File \u001b[1;32m~/anaconda3/lib/python3.11/site-packages/numpy/lib/npyio.py:917\u001b[0m in \u001b[1;35m_read\u001b[0m\n    dtype = np.dtype(dtype)\u001b[0m\n",
      "\u001b[0m  File \u001b[1;32m~/anaconda3/lib/python3.11/site-packages/numpy/core/_internal.py:200\u001b[0m in \u001b[1;35m_commastring\u001b[0m\n    newitem = (dtype, ast.literal_eval(repeats))\u001b[0m\n",
      "\u001b[0m  File \u001b[1;32m~/anaconda3/lib/python3.11/ast.py:64\u001b[0m in \u001b[1;35mliteral_eval\u001b[0m\n    node_or_string = parse(node_or_string.lstrip(\" \\t\"), mode='eval')\u001b[0m\n",
      "\u001b[0;36m  File \u001b[0;32m~/anaconda3/lib/python3.11/ast.py:50\u001b[0;36m in \u001b[0;35mparse\u001b[0;36m\n\u001b[0;31m    return compile(source, filename, mode, flags,\u001b[0;36m\n",
      "\u001b[0;36m  File \u001b[0;32m<unknown>:1\u001b[0;36m\u001b[0m\n\u001b[0;31m    ,\u001b[0m\n\u001b[0m    ^\u001b[0m\n\u001b[0;31mSyntaxError\u001b[0m\u001b[0;31m:\u001b[0m invalid syntax\n"
     ]
    }
   ],
   "source": [
    "numpy.loadtxt('inflammation-01.csv', ',')"
   ]
  },
  {
   "cell_type": "markdown",
   "id": "e91804e6-dbf8-488b-9d55-29cb441e57d7",
   "metadata": {},
   "source": [
    "To understand what’s going on, and make our own functions easier to use, let’s re-define our offset_mean function like this:"
   ]
  },
  {
   "cell_type": "code",
   "execution_count": 39,
   "id": "b3fc0b1c-6618-48cb-b2bb-c29b9fc74e3e",
   "metadata": {},
   "outputs": [],
   "source": [
    "def offset_mean(data, target_mean_value=0.0):\n",
    "    \"\"\"Return a new array containing the original data\n",
    "       with its mean offset to match the desired value, (0 by default).\n",
    "\n",
    "    Examples\n",
    "    --------\n",
    "    >>> offset_mean([1, 2, 3])\n",
    "    array([-1.,  0.,  1.])\n",
    "    \"\"\"\n",
    "    return (data - numpy.mean(data)) + target_mean_value"
   ]
  },
  {
   "cell_type": "markdown",
   "id": "b22ae3b1-c5af-4783-a47d-8279a8adff76",
   "metadata": {},
   "source": [
    "The key change is that the second parameter is now written target_mean_value=0.0 instead of just target_mean_value. If we call the function with two arguments, it works as it did before:"
   ]
  },
  {
   "cell_type": "code",
   "execution_count": 40,
   "id": "991b32c9-f17e-499b-b26d-8f998b4f6f3e",
   "metadata": {},
   "outputs": [
    {
     "name": "stdout",
     "output_type": "stream",
     "text": [
      "[[3. 3.]\n",
      " [3. 3.]]\n"
     ]
    }
   ],
   "source": [
    "test_data = numpy.zeros((2, 2))\n",
    "print(offset_mean(test_data, 3))"
   ]
  },
  {
   "cell_type": "markdown",
   "id": "e3e3accc-b05b-499e-b6b5-174b0b0f74d8",
   "metadata": {},
   "source": [
    "But we can also now call it with just one parameter, in which case target_mean_value is automatically assigned the default value of 0.0:"
   ]
  },
  {
   "cell_type": "code",
   "execution_count": 41,
   "id": "200c5a26-f253-4e23-bb2a-99875eedc1a5",
   "metadata": {},
   "outputs": [
    {
     "name": "stdout",
     "output_type": "stream",
     "text": [
      "data before mean offset:\n",
      "[[5. 5.]\n",
      " [5. 5.]]\n",
      "offset data:\n",
      "[[0. 0.]\n",
      " [0. 0.]]\n"
     ]
    }
   ],
   "source": [
    "more_data = 5 + numpy.zeros((2, 2))\n",
    "print('data before mean offset:')\n",
    "print(more_data)\n",
    "print('offset data:')\n",
    "print(offset_mean(more_data))"
   ]
  },
  {
   "cell_type": "markdown",
   "id": "5fb94b0c-0251-4040-8d3b-f3d73b3d8a6a",
   "metadata": {},
   "source": [
    "This is handy: if we usually want a function to work one way, but occasionally need it to do something else, we can allow people to pass a parameter when they need to but provide a default to make the normal case easier. The example below shows how Python matches values to parameters:"
   ]
  },
  {
   "cell_type": "code",
   "execution_count": 42,
   "id": "04ec87b0-a8c7-4ccb-845f-9b0b834414fb",
   "metadata": {},
   "outputs": [
    {
     "name": "stdout",
     "output_type": "stream",
     "text": [
      "no parameters:\n",
      "a: 1 b: 2 c: 3\n",
      "one parameter:\n",
      "a: 55 b: 2 c: 3\n",
      "two parameters:\n",
      "a: 55 b: 66 c: 3\n"
     ]
    }
   ],
   "source": [
    "def display(a=1, b=2, c=3):\n",
    "    print('a:', a, 'b:', b, 'c:', c)\n",
    "\n",
    "print('no parameters:')\n",
    "display()\n",
    "print('one parameter:')\n",
    "display(55)\n",
    "print('two parameters:')\n",
    "display(55, 66)"
   ]
  },
  {
   "cell_type": "markdown",
   "id": "a1a69e23-190d-4225-b7a7-f78cfd11ce44",
   "metadata": {},
   "source": [
    "As this example shows, parameters are matched up from left to right, and any that haven’t been given a value explicitly get their default value. We can override this behavior by naming the value as we pass it in:"
   ]
  },
  {
   "cell_type": "code",
   "execution_count": 43,
   "id": "fdbc3b2f-dcfa-483a-af97-ac7fc14f3b11",
   "metadata": {},
   "outputs": [
    {
     "name": "stdout",
     "output_type": "stream",
     "text": [
      "only setting the value of c\n",
      "a: 1 b: 2 c: 77\n"
     ]
    }
   ],
   "source": [
    "print('only setting the value of c')\n",
    "display(c=77)"
   ]
  },
  {
   "cell_type": "markdown",
   "id": "91dd8d1c-fd0d-4c18-95dc-c2019f8c7ab0",
   "metadata": {},
   "source": [
    "With that in hand, let’s look at the help for numpy.loadtxt:"
   ]
  },
  {
   "cell_type": "code",
   "execution_count": null,
   "id": "003a89cc-2487-44f5-aec0-233fefcaec09",
   "metadata": {},
   "outputs": [],
   "source": [
    "help(numpy.loadtxt)"
   ]
  },
  {
   "cell_type": "markdown",
   "id": "d920525a-79ec-48a6-8ab2-53ed5d0f0e16",
   "metadata": {},
   "source": [
    "There’s a lot of information here, but the most important part is the first couple of lines:"
   ]
  },
  {
   "cell_type": "raw",
   "id": "14e161f0-54d5-49c9-8d04-5e70e45be7ca",
   "metadata": {},
   "source": [
    "loadtxt(fname, dtype=<class 'float'>, comments='#', delimiter=None, converters=None, skiprows=0, use\n",
    "cols=None, unpack=False, ndmin=0, encoding='bytes')"
   ]
  },
  {
   "cell_type": "markdown",
   "id": "078eaa6b-f3a9-4a4e-9dab-cc32a3df42c6",
   "metadata": {},
   "source": [
    "This tells us that loadtxt has one parameter called fname that doesn’t have a default value, and eight others that do. If we call the function like this:"
   ]
  },
  {
   "cell_type": "raw",
   "id": "f047c143-9f16-4c1e-b21f-24033a800ead",
   "metadata": {},
   "source": [
    "numpy.loadtxt('inflammation-01.csv', ',')"
   ]
  },
  {
   "cell_type": "markdown",
   "id": "ce322f25-26ef-4061-9f3a-e7c83ed7c9cc",
   "metadata": {},
   "source": [
    "then the filename is assigned to fname (which is what we want), but the delimiter string ',' is assigned to dtype rather than delimiter, because dtype is the second parameter in the list. However ',' isn’t a known dtype so our code produced an error message when we tried to run it. When we call loadtxt we don’t have to provide fname= for the filename because it’s the first item in the list, but if we want the ',' to be assigned to the variable delimiter, we do have to provide delimiter= for the second parameter since delimiter is not the second parameter in the list."
   ]
  },
  {
   "cell_type": "markdown",
   "id": "e2f89b0d-6608-4107-afdb-7d998afa506b",
   "metadata": {},
   "source": [
    "### Readable functions\n",
    "Consider these two functions:"
   ]
  },
  {
   "cell_type": "code",
   "execution_count": null,
   "id": "8996e962-8caf-43dd-82ec-0b92ebafaad5",
   "metadata": {},
   "outputs": [],
   "source": [
    "def s(p):\n",
    "    a = 0\n",
    "    for v in p:\n",
    "        a += v\n",
    "    m = a / len(p)\n",
    "    d = 0\n",
    "    for v in p:\n",
    "        d += (v - m) * (v - m)\n",
    "    return numpy.sqrt(d / (len(p) - 1))\n",
    "\n",
    "def std_dev(sample):\n",
    "    sample_sum = 0\n",
    "    for value in sample:\n",
    "        sample_sum += value\n",
    "\n",
    "    sample_mean = sample_sum / len(sample)\n",
    "\n",
    "    sum_squared_devs = 0\n",
    "    for value in sample:\n",
    "        sum_squared_devs += (value - sample_mean) * (value - sample_mean)\n",
    "\n",
    "    return numpy.sqrt(sum_squared_devs / (len(sample) - 1))"
   ]
  },
  {
   "cell_type": "markdown",
   "id": "0c38bb60-5c1e-44c9-b8ef-b0003c35efae",
   "metadata": {},
   "source": [
    "The functions **s** and **std_dev** are computationally equivalent (they both calculate the sample standard deviation), but to a human reader, they look very different. You probably found std_dev much easier to read and understand than s.\n",
    "\n",
    "As this example illustrates, both documentation and a programmer’s coding style combine to determine how easy it is for others to read and understand the programmer’s code. Choosing meaningful variable names and using blank spaces to break the code into logical “chunks” are helpful techniques for producing readable code. This is useful not only for sharing code with others, but also for the original programmer. If you need to revisit code that you wrote months ago and haven’t thought about since then, you will appreciate the value of readable code!"
   ]
  },
  {
   "cell_type": "markdown",
   "id": "ab3e2c73-bf7f-4056-8687-1594e75b6635",
   "metadata": {},
   "source": [
    "### Return vs Print\n",
    "Note that return and print are not interchangeable. print is a Python function that prints data to the screen. It enables us, users, see the data. return statement, on the other hand, makes data visible to the program. Let’s have a look at the following function:\n"
   ]
  },
  {
   "cell_type": "code",
   "execution_count": 47,
   "id": "2973f92b-021b-4770-8be0-2aa66b017ff4",
   "metadata": {},
   "outputs": [
    {
     "name": "stdout",
     "output_type": "stream",
     "text": [
      "10\n",
      "None\n"
     ]
    }
   ],
   "source": [
    "def add(a, b):\n",
    "    print(a + b)\n",
    "\n",
    "A = add(7, 3)\n",
    "print(A)"
   ]
  },
  {
   "cell_type": "markdown",
   "id": "6ffe07c2-7b58-4623-bfae-3bf2cf5ed22d",
   "metadata": {},
   "source": [
    "Python will first execute the function add with a = 7 and b = 3, and, therefore, print 10. However, because function add does not have a line that starts with return (no return “statement”), it will, by default, return nothing which, in Python world, is called None. Therefore, A will be assigned to None and the last line (print(A)) will print None."
   ]
  },
  {
   "cell_type": "markdown",
   "id": "4902296a-72ad-4551-8b90-2b8b17dd85d5",
   "metadata": {},
   "source": [
    "### Check your Understanding\n",
    "“Adding” two strings produces their concatenation: 'a' + 'b' is 'ab'. Write a function called fence that takes two parameters called original and wrapper and returns a new string that has the wrapper character at the beginning and end of the original. A call to your function should look like this:\n"
   ]
  },
  {
   "cell_type": "raw",
   "id": "2be7b9a4-8254-456c-90ca-14cd932c511a",
   "metadata": {},
   "source": [
    "print(fence('name', '*'))\n",
    "\n",
    "*name*"
   ]
  },
  {
   "cell_type": "code",
   "execution_count": null,
   "id": "c66f43c3-93c8-4dbe-99f7-ed68ef41768c",
   "metadata": {},
   "outputs": [],
   "source": [
    "def fence(original, wrapper):\n",
    "    return wrapper + original + wrapper"
   ]
  },
  {
   "cell_type": "markdown",
   "id": "dde7ae16-338d-4050-9f7f-b499649c63de",
   "metadata": {},
   "source": [
    "## Errors and Exceptions\n",
    "Every programmer encounters errors, both those who are just beginning, and those who have been programming for years. Encountering errors and exceptions can be very frustrating at times, and can make coding feel like a hopeless endeavour. However, understanding what the different types of errors are and when you are likely to encounter them can help a lot. Once you know why you get certain types of errors, they become much easier to fix.\n",
    "\n",
    "Errors in Python have a very specific form, called a traceback. Let’s examine one:"
   ]
  },
  {
   "cell_type": "code",
   "execution_count": 85,
   "id": "6dd34966-d007-4e26-8fcb-87c3bfa2a87d",
   "metadata": {},
   "outputs": [
    {
     "ename": "IndexError",
     "evalue": "list index out of range",
     "output_type": "error",
     "traceback": [
      "\u001b[0;31m---------------------------------------------------------------------------\u001b[0m",
      "\u001b[0;31mIndexError\u001b[0m                                Traceback (most recent call last)",
      "Cell \u001b[0;32mIn[85], line 10\u001b[0m\n\u001b[1;32m      3\u001b[0m     ice_creams \u001b[38;5;241m=\u001b[39m [\n\u001b[1;32m      4\u001b[0m         \u001b[38;5;124m'\u001b[39m\u001b[38;5;124mchocolate\u001b[39m\u001b[38;5;124m'\u001b[39m,\n\u001b[1;32m      5\u001b[0m         \u001b[38;5;124m'\u001b[39m\u001b[38;5;124mvanilla\u001b[39m\u001b[38;5;124m'\u001b[39m,\n\u001b[1;32m      6\u001b[0m         \u001b[38;5;124m'\u001b[39m\u001b[38;5;124mstrawberry\u001b[39m\u001b[38;5;124m'\u001b[39m\n\u001b[1;32m      7\u001b[0m     ]\n\u001b[1;32m      8\u001b[0m     \u001b[38;5;28mprint\u001b[39m(ice_creams[\u001b[38;5;241m3\u001b[39m])\n\u001b[0;32m---> 10\u001b[0m favorite_ice_cream()\n",
      "Cell \u001b[0;32mIn[85], line 8\u001b[0m, in \u001b[0;36mfavorite_ice_cream\u001b[0;34m()\u001b[0m\n\u001b[1;32m      2\u001b[0m \u001b[38;5;28;01mdef\u001b[39;00m \u001b[38;5;21mfavorite_ice_cream\u001b[39m():\n\u001b[1;32m      3\u001b[0m     ice_creams \u001b[38;5;241m=\u001b[39m [\n\u001b[1;32m      4\u001b[0m         \u001b[38;5;124m'\u001b[39m\u001b[38;5;124mchocolate\u001b[39m\u001b[38;5;124m'\u001b[39m,\n\u001b[1;32m      5\u001b[0m         \u001b[38;5;124m'\u001b[39m\u001b[38;5;124mvanilla\u001b[39m\u001b[38;5;124m'\u001b[39m,\n\u001b[1;32m      6\u001b[0m         \u001b[38;5;124m'\u001b[39m\u001b[38;5;124mstrawberry\u001b[39m\u001b[38;5;124m'\u001b[39m\n\u001b[1;32m      7\u001b[0m     ]\n\u001b[0;32m----> 8\u001b[0m     \u001b[38;5;28mprint\u001b[39m(ice_creams[\u001b[38;5;241m3\u001b[39m])\n",
      "\u001b[0;31mIndexError\u001b[0m: list index out of range"
     ]
    }
   ],
   "source": [
    "# This code has an intentional error.\n",
    "def favorite_ice_cream():\n",
    "    ice_creams = [\n",
    "        'chocolate',\n",
    "        'vanilla',\n",
    "        'strawberry'\n",
    "    ]\n",
    "    print(ice_creams[3])\n",
    "\n",
    "favorite_ice_cream()"
   ]
  },
  {
   "cell_type": "markdown",
   "id": "56ac71bf-7fa3-4d29-99f9-8fbc62603225",
   "metadata": {},
   "source": [
    "This particular traceback has two levels. You can determine the number of levels by looking for the number of arrows on the left hand side. In this case:\n",
    "\n",
    "- The first shows code from the cell above, with an arrow pointing to **Line 10** (which is favorite_ice_cream()).\n",
    "\n",
    "- The second shows some code in the function favorite_ice_cream, with an arrow pointing to **Line 8** (which is print(ice_creams[3])).\n",
    "\n",
    "The last level is the actual place where the error occurred. The other level(s) show what function the program executed to get to the next level down. So, in this case, the program first performed a function call to the function favorite_ice_cream. Inside this function, the program encountered an error on Line 6, when it tried to run the code print(ice_creams[3])."
   ]
  },
  {
   "cell_type": "markdown",
   "id": "2f0aebf5-d516-4c01-8fca-8ac8b4b20b04",
   "metadata": {},
   "source": [
    "___\n",
    "### Long Tracebacks\n",
    "Sometimes, you might see a traceback that is very long -- sometimes they might even be 20 levels deep! This can make it seem like something horrible happened, but the length of the error message does not reflect severity, rather, it indicates that your program called many functions before it encountered the error. Most of the time, the actual place where the error occurred is at the bottom-most level, so you can skip down the traceback to the bottom.\n",
    "___"
   ]
  },
  {
   "cell_type": "markdown",
   "id": "a562e364-bd03-4675-8db3-f1616e76a493",
   "metadata": {},
   "source": [
    "So what error did the program actually encounter? In the last line of the traceback, Python helpfully tells us the category or type of error (in this case, it is an IndexError) and a more detailed error message (in this case, it says “list index out of range”).\n",
    "\n",
    "If you encounter an error and don’t know what it means, it is still important to read the traceback closely. That way, if you fix the error, but encounter a new one, you can tell that the error changed. Additionally, sometimes knowing where the error occurred is enough to fix it, even if you don’t entirely understand the message.\n",
    "\n",
    "If you do encounter an error you don’t recognize, try looking at the [ official documentation](https://docs.python.org/3/library/exceptions.html) on errors. However, note that you may not always be able to find the error there, as it is possible to create custom errors. In that case, hopefully the custom error message is informative enough to help you figure out what went wrong."
   ]
  },
  {
   "cell_type": "markdown",
   "id": "04519340-c639-4d1d-97bc-bac7a9759e2d",
   "metadata": {},
   "source": [
    "###  Syntax Errors\n",
    "When you forget a colon at the end of a line, accidentally add one space too many when indenting under an if statement, or forget a parenthesis, you will encounter a syntax error. This means that Python couldn’t figure out how to read your program. This is similar to forgetting punctuation in English: for example, this text is difficult to read there is no punctuation there is also no capitalization why is this hard because you have to figure out where each sentence ends you also have to figure out where each sentence begins to some extent it might be ambiguous if there should be a sentence break or not\n",
    "\n",
    "People can typically figure out what is meant by text with no punctuation, but people are much smarter than computers. If Python doesn’t know how to read the program, it will give up and inform you with an error. For example:"
   ]
  },
  {
   "cell_type": "code",
   "execution_count": 51,
   "id": "f5ee951d-53ac-41ca-ba46-26b50db0d030",
   "metadata": {},
   "outputs": [
    {
     "ename": "SyntaxError",
     "evalue": "expected ':' (1947819108.py, line 1)",
     "output_type": "error",
     "traceback": [
      "\u001b[0;36m  Cell \u001b[0;32mIn[51], line 1\u001b[0;36m\u001b[0m\n\u001b[0;31m    def some_function()\u001b[0m\n\u001b[0m                       ^\u001b[0m\n\u001b[0;31mSyntaxError\u001b[0m\u001b[0;31m:\u001b[0m expected ':'\n"
     ]
    }
   ],
   "source": [
    "def some_function()\n",
    "    msg = 'hello, world!'\n",
    "    print(msg)\n",
    "     return msg"
   ]
  },
  {
   "cell_type": "markdown",
   "id": "79e78a49-12af-44ae-bfc7-d72b36319130",
   "metadata": {},
   "source": [
    "Here, Python tells us that there is a SyntaxError on line 1, and even puts a little arrow in the place where there is an issue. In this case the problem is that the function definition is missing a colon at the end.\n",
    "\n",
    "Actually, the function above has two issues with syntax. If we fix the problem with the colon, we see that there is also an IndentationError, which means that the lines in the function definition do not all have the same indentation:\n",
    "\n"
   ]
  },
  {
   "cell_type": "code",
   "execution_count": 53,
   "id": "4ed42e1e-ce9a-4387-9202-1ddd4ef8761e",
   "metadata": {},
   "outputs": [
    {
     "ename": "IndentationError",
     "evalue": "unexpected indent (329577338.py, line 4)",
     "output_type": "error",
     "traceback": [
      "\u001b[0;36m  Cell \u001b[0;32mIn[53], line 4\u001b[0;36m\u001b[0m\n\u001b[0;31m    return msg\u001b[0m\n\u001b[0m    ^\u001b[0m\n\u001b[0;31mIndentationError\u001b[0m\u001b[0;31m:\u001b[0m unexpected indent\n"
     ]
    }
   ],
   "source": [
    "def some_function():\n",
    "    msg = 'hello, world!'\n",
    "    print(msg)\n",
    "     return msg"
   ]
  },
  {
   "cell_type": "markdown",
   "id": "f273abd1-840f-446e-ad15-7eddd387ac4f",
   "metadata": {},
   "source": [
    "Both SyntaxError and IndentationError indicate a problem with the syntax of your program, but an IndentationError is more specific: it always means that there is a problem with how your code is indented."
   ]
  },
  {
   "cell_type": "markdown",
   "id": "e4461275-abd5-43f7-9a70-60ec751006db",
   "metadata": {},
   "source": [
    "### Variable Name Errors\n",
    "Another very common type of error is called a NameError, and occurs when you try to use a variable that does not exist. For example:"
   ]
  },
  {
   "cell_type": "code",
   "execution_count": 54,
   "id": "a1e061d4-19ba-4df4-8e3a-da2192774d68",
   "metadata": {},
   "outputs": [
    {
     "ename": "NameError",
     "evalue": "name 'a' is not defined",
     "output_type": "error",
     "traceback": [
      "\u001b[0;31m---------------------------------------------------------------------------\u001b[0m",
      "\u001b[0;31mNameError\u001b[0m                                 Traceback (most recent call last)",
      "Cell \u001b[0;32mIn[54], line 1\u001b[0m\n\u001b[0;32m----> 1\u001b[0m \u001b[38;5;28mprint\u001b[39m(a)\n",
      "\u001b[0;31mNameError\u001b[0m: name 'a' is not defined"
     ]
    }
   ],
   "source": [
    "print(a)"
   ]
  },
  {
   "cell_type": "markdown",
   "id": "402f3acb-2869-4fe0-a2d1-67f7bd340a02",
   "metadata": {},
   "source": [
    "Variable name errors come with some of the most informative error messages, which are usually of the form “name ‘the_variable_name’ is not defined”.\n",
    "\n",
    "Why does this error message occur? That’s a harder question to answer, because it depends on what your code is supposed to do. However, there are a few very common reasons why you might have an undefined variable. The first is that you meant to use a string, but forgot to put quotes around it:"
   ]
  },
  {
   "cell_type": "code",
   "execution_count": 55,
   "id": "5db31742-c5ad-446d-996b-ac5e89eddafa",
   "metadata": {},
   "outputs": [
    {
     "ename": "NameError",
     "evalue": "name 'hello' is not defined",
     "output_type": "error",
     "traceback": [
      "\u001b[0;31m---------------------------------------------------------------------------\u001b[0m",
      "\u001b[0;31mNameError\u001b[0m                                 Traceback (most recent call last)",
      "Cell \u001b[0;32mIn[55], line 1\u001b[0m\n\u001b[0;32m----> 1\u001b[0m \u001b[38;5;28mprint\u001b[39m(hello)\n",
      "\u001b[0;31mNameError\u001b[0m: name 'hello' is not defined"
     ]
    }
   ],
   "source": [
    "print(hello)"
   ]
  },
  {
   "cell_type": "markdown",
   "id": "1b637f41-a797-46d0-9c00-7ac33b3a8ac0",
   "metadata": {},
   "source": [
    "The second reason is that you might be trying to use a variable that does not yet exist. In the following example, count should have been defined (e.g., with count = 0) before the for loop:"
   ]
  },
  {
   "cell_type": "code",
   "execution_count": 56,
   "id": "6c7a1301-54b5-475e-b214-0380d31a0efb",
   "metadata": {},
   "outputs": [
    {
     "ename": "NameError",
     "evalue": "name 'count' is not defined",
     "output_type": "error",
     "traceback": [
      "\u001b[0;31m---------------------------------------------------------------------------\u001b[0m",
      "\u001b[0;31mNameError\u001b[0m                                 Traceback (most recent call last)",
      "Cell \u001b[0;32mIn[56], line 2\u001b[0m\n\u001b[1;32m      1\u001b[0m \u001b[38;5;28;01mfor\u001b[39;00m number \u001b[38;5;129;01min\u001b[39;00m \u001b[38;5;28mrange\u001b[39m(\u001b[38;5;241m10\u001b[39m):\n\u001b[0;32m----> 2\u001b[0m     count \u001b[38;5;241m=\u001b[39m count \u001b[38;5;241m+\u001b[39m number\n\u001b[1;32m      3\u001b[0m \u001b[38;5;28mprint\u001b[39m(\u001b[38;5;124m'\u001b[39m\u001b[38;5;124mThe count is:\u001b[39m\u001b[38;5;124m'\u001b[39m, count)\n",
      "\u001b[0;31mNameError\u001b[0m: name 'count' is not defined"
     ]
    }
   ],
   "source": [
    "for number in range(10):\n",
    "    count = count + number\n",
    "print('The count is:', count)"
   ]
  },
  {
   "cell_type": "markdown",
   "id": "d770a344-11b5-4425-b6fd-854f6a699fe8",
   "metadata": {},
   "source": [
    "Finally, the third possibility is that you made a typo when you were writing your code. Let’s say we fixed the error above by adding the line Count = 0 before the for loop. Frustratingly, this actually does not fix the error. Remember that variables are case-sensitive, so the variable count is different from Count. We still get the same error, because we still have not defined count:"
   ]
  },
  {
   "cell_type": "code",
   "execution_count": 57,
   "id": "8d94a078-039d-4a7b-a3f2-1f3daa7c19c5",
   "metadata": {},
   "outputs": [
    {
     "ename": "NameError",
     "evalue": "name 'count' is not defined",
     "output_type": "error",
     "traceback": [
      "\u001b[0;31m---------------------------------------------------------------------------\u001b[0m",
      "\u001b[0;31mNameError\u001b[0m                                 Traceback (most recent call last)",
      "Cell \u001b[0;32mIn[57], line 3\u001b[0m\n\u001b[1;32m      1\u001b[0m Count \u001b[38;5;241m=\u001b[39m \u001b[38;5;241m0\u001b[39m\n\u001b[1;32m      2\u001b[0m \u001b[38;5;28;01mfor\u001b[39;00m number \u001b[38;5;129;01min\u001b[39;00m \u001b[38;5;28mrange\u001b[39m(\u001b[38;5;241m10\u001b[39m):\n\u001b[0;32m----> 3\u001b[0m     count \u001b[38;5;241m=\u001b[39m count \u001b[38;5;241m+\u001b[39m number\n\u001b[1;32m      4\u001b[0m \u001b[38;5;28mprint\u001b[39m(\u001b[38;5;124m'\u001b[39m\u001b[38;5;124mThe count is:\u001b[39m\u001b[38;5;124m'\u001b[39m, count)\n",
      "\u001b[0;31mNameError\u001b[0m: name 'count' is not defined"
     ]
    }
   ],
   "source": [
    "Count = 0\n",
    "for number in range(10):\n",
    "    count = count + number\n",
    "print('The count is:', count)"
   ]
  },
  {
   "cell_type": "markdown",
   "id": "e754fbd2-6df6-4813-a684-7854c7cc7dff",
   "metadata": {},
   "source": [
    "### Index Errors\n",
    "Next up are errors having to do with containers (like lists and strings) and the items within them. If you try to access an item in a list or a string that does not exist, then you will get an error. This makes sense: if you asked someone what day they would like to get coffee, and they answered “caturday”, you might be a bit annoyed. Python gets similarly annoyed if you try to ask it for an item that doesn’t exist:"
   ]
  },
  {
   "cell_type": "code",
   "execution_count": 58,
   "id": "c407ce58-f5a0-4a00-96c1-2bb044a66dda",
   "metadata": {},
   "outputs": [
    {
     "name": "stdout",
     "output_type": "stream",
     "text": [
      "Letter #1 is a\n",
      "Letter #2 is b\n",
      "Letter #3 is c\n"
     ]
    },
    {
     "ename": "IndexError",
     "evalue": "list index out of range",
     "output_type": "error",
     "traceback": [
      "\u001b[0;31m---------------------------------------------------------------------------\u001b[0m",
      "\u001b[0;31mIndexError\u001b[0m                                Traceback (most recent call last)",
      "Cell \u001b[0;32mIn[58], line 5\u001b[0m\n\u001b[1;32m      3\u001b[0m \u001b[38;5;28mprint\u001b[39m(\u001b[38;5;124m'\u001b[39m\u001b[38;5;124mLetter #2 is\u001b[39m\u001b[38;5;124m'\u001b[39m, letters[\u001b[38;5;241m1\u001b[39m])\n\u001b[1;32m      4\u001b[0m \u001b[38;5;28mprint\u001b[39m(\u001b[38;5;124m'\u001b[39m\u001b[38;5;124mLetter #3 is\u001b[39m\u001b[38;5;124m'\u001b[39m, letters[\u001b[38;5;241m2\u001b[39m])\n\u001b[0;32m----> 5\u001b[0m \u001b[38;5;28mprint\u001b[39m(\u001b[38;5;124m'\u001b[39m\u001b[38;5;124mLetter #4 is\u001b[39m\u001b[38;5;124m'\u001b[39m, letters[\u001b[38;5;241m3\u001b[39m])\n",
      "\u001b[0;31mIndexError\u001b[0m: list index out of range"
     ]
    }
   ],
   "source": [
    "letters = ['a', 'b', 'c']\n",
    "print('Letter #1 is', letters[0])\n",
    "print('Letter #2 is', letters[1])\n",
    "print('Letter #3 is', letters[2])\n",
    "print('Letter #4 is', letters[3])\n"
   ]
  },
  {
   "cell_type": "markdown",
   "id": "285dbe1d-062f-4578-8daf-8997ff01ea96",
   "metadata": {},
   "source": [
    "Here, Python is telling us that there is an IndexError in our code, meaning we tried to access a list index that did not exist.\n",
    "\n",
    "### File Errors\n",
    "\n",
    "The last type of error we’ll cover today are those associated with reading and writing files: FileNotFoundError. If you try to read a file that does not exist, you will receive a FileNotFoundError telling you so. If you attempt to write to a file that was opened read-only, Python 3 returns an UnsupportedOperationError. More generally, problems with input and output manifest as OSErrors, which may show up as a more specific subclass; you can see the [list in the Python docs](https://docs.python.org/3/library/exceptions.html#os-exceptions). They all have a unique UNIX errno, which is you can see in the error message.\n"
   ]
  },
  {
   "cell_type": "code",
   "execution_count": 59,
   "id": "65b67a8b-697b-4328-9f43-8fc4fc2b24d4",
   "metadata": {},
   "outputs": [
    {
     "ename": "FileNotFoundError",
     "evalue": "[Errno 2] No such file or directory: 'myfile.txt'",
     "output_type": "error",
     "traceback": [
      "\u001b[0;31m---------------------------------------------------------------------------\u001b[0m",
      "\u001b[0;31mFileNotFoundError\u001b[0m                         Traceback (most recent call last)",
      "Cell \u001b[0;32mIn[59], line 1\u001b[0m\n\u001b[0;32m----> 1\u001b[0m file_handle \u001b[38;5;241m=\u001b[39m \u001b[38;5;28mopen\u001b[39m(\u001b[38;5;124m'\u001b[39m\u001b[38;5;124mmyfile.txt\u001b[39m\u001b[38;5;124m'\u001b[39m, \u001b[38;5;124m'\u001b[39m\u001b[38;5;124mr\u001b[39m\u001b[38;5;124m'\u001b[39m)\n",
      "File \u001b[0;32m~/anaconda3/lib/python3.11/site-packages/IPython/core/interactiveshell.py:310\u001b[0m, in \u001b[0;36m_modified_open\u001b[0;34m(file, *args, **kwargs)\u001b[0m\n\u001b[1;32m    303\u001b[0m \u001b[38;5;28;01mif\u001b[39;00m file \u001b[38;5;129;01min\u001b[39;00m {\u001b[38;5;241m0\u001b[39m, \u001b[38;5;241m1\u001b[39m, \u001b[38;5;241m2\u001b[39m}:\n\u001b[1;32m    304\u001b[0m     \u001b[38;5;28;01mraise\u001b[39;00m \u001b[38;5;167;01mValueError\u001b[39;00m(\n\u001b[1;32m    305\u001b[0m         \u001b[38;5;124mf\u001b[39m\u001b[38;5;124m\"\u001b[39m\u001b[38;5;124mIPython won\u001b[39m\u001b[38;5;124m'\u001b[39m\u001b[38;5;124mt let you open fd=\u001b[39m\u001b[38;5;132;01m{\u001b[39;00mfile\u001b[38;5;132;01m}\u001b[39;00m\u001b[38;5;124m by default \u001b[39m\u001b[38;5;124m\"\u001b[39m\n\u001b[1;32m    306\u001b[0m         \u001b[38;5;124m\"\u001b[39m\u001b[38;5;124mas it is likely to crash IPython. If you know what you are doing, \u001b[39m\u001b[38;5;124m\"\u001b[39m\n\u001b[1;32m    307\u001b[0m         \u001b[38;5;124m\"\u001b[39m\u001b[38;5;124myou can use builtins\u001b[39m\u001b[38;5;124m'\u001b[39m\u001b[38;5;124m open.\u001b[39m\u001b[38;5;124m\"\u001b[39m\n\u001b[1;32m    308\u001b[0m     )\n\u001b[0;32m--> 310\u001b[0m \u001b[38;5;28;01mreturn\u001b[39;00m io_open(file, \u001b[38;5;241m*\u001b[39margs, \u001b[38;5;241m*\u001b[39m\u001b[38;5;241m*\u001b[39mkwargs)\n",
      "\u001b[0;31mFileNotFoundError\u001b[0m: [Errno 2] No such file or directory: 'myfile.txt'"
     ]
    }
   ],
   "source": [
    "file_handle = open('myfile.txt', 'r')"
   ]
  },
  {
   "cell_type": "markdown",
   "id": "c248b24d-6c2b-4d1f-bfdf-401687e9c380",
   "metadata": {},
   "source": [
    "One reason for receiving this error is that you specified an incorrect path to the file. For example, if I am currently in a folder called myproject, and I have a file in myproject/writing/myfile.txt, but I try to open myfile.txt, this will fail. The correct path would be writing/myfile.txt. It is also possible that the file name or its path contains a typo.\n",
    "\n",
    "A related issue can occur if you use the “read” flag instead of the “write” flag. Python will not give you an error if you try to open a file for writing when the file does not exist. However, if you meant to open a file for reading, but accidentally opened it for writing, and then try to read from it, you will get an UnsupportedOperation error telling you that the file was not opened for reading:"
   ]
  },
  {
   "cell_type": "code",
   "execution_count": 60,
   "id": "4d620048-3341-4d63-b0a2-c102740ead4d",
   "metadata": {},
   "outputs": [
    {
     "ename": "UnsupportedOperation",
     "evalue": "not readable",
     "output_type": "error",
     "traceback": [
      "\u001b[0;31m---------------------------------------------------------------------------\u001b[0m",
      "\u001b[0;31mUnsupportedOperation\u001b[0m                      Traceback (most recent call last)",
      "Cell \u001b[0;32mIn[60], line 2\u001b[0m\n\u001b[1;32m      1\u001b[0m file_handle \u001b[38;5;241m=\u001b[39m \u001b[38;5;28mopen\u001b[39m(\u001b[38;5;124m'\u001b[39m\u001b[38;5;124mmyfile.txt\u001b[39m\u001b[38;5;124m'\u001b[39m, \u001b[38;5;124m'\u001b[39m\u001b[38;5;124mw\u001b[39m\u001b[38;5;124m'\u001b[39m)\n\u001b[0;32m----> 2\u001b[0m file_handle\u001b[38;5;241m.\u001b[39mread()\n",
      "\u001b[0;31mUnsupportedOperation\u001b[0m: not readable"
     ]
    }
   ],
   "source": [
    "file_handle = open('myfile.txt', 'w')\n",
    "file_handle.read()"
   ]
  },
  {
   "cell_type": "markdown",
   "id": "67cfa13d-2058-426d-abb8-2dcaf36607c1",
   "metadata": {},
   "source": [
    "These are the most common errors with files, though many others exist. If you get an error that you’ve never seen before, searching the Internet for that error type often reveals common reasons why you might get that error."
   ]
  },
  {
   "cell_type": "markdown",
   "id": "307c4b66-4014-4166-a63a-4f9a16ed6feb",
   "metadata": {},
   "source": [
    "### Check your Understanding\n",
    "1. Read the code below, and (without running it) try to identify what the errors are.\n",
    "2. Run the code, and read the error message. What type of NameError do you think this is? In other words, is it a string with no quotes, a misspelled variable, or a variable that should have been defined but was not?\n",
    "3. Fix the error.\n",
    "4. Repeat steps 2 and 3, until you have fixed all the errors."
   ]
  },
  {
   "cell_type": "code",
   "execution_count": null,
   "id": "71320948-e305-4026-a9ab-95ad80ed1bab",
   "metadata": {},
   "outputs": [],
   "source": [
    "for number in range(10):\n",
    "    # use a if the number is a multiple of 3, otherwise use b\n",
    "    if (Number % 3) == 0:\n",
    "        message = message + a\n",
    "    else:\n",
    "        message = message + 'b'\n",
    "print(message)"
   ]
  },
  {
   "cell_type": "markdown",
   "id": "ba332d41-5ef7-4153-a21d-c05ea4ee481f",
   "metadata": {},
   "source": [
    "## Defensive Programming\n",
    "So far we have learned the basic tools of programming: variables and lists, file I/O, loops, conditionals, and functions. What they haven’t done is show us how to tell whether a program is getting the right answer, and how to tell if it’s still getting the right answer as we make changes to it.\n",
    "\n",
    "To achieve that, we need to:\n",
    "\n",
    "- Write programs that check their own operation.\n",
    "- Write and run tests for widely-used functions.\n",
    "- Make sure we know what “correct” actually means.\n",
    "  \n",
    "The good news is, doing these things will speed up our programming, not slow it down!"
   ]
  },
  {
   "cell_type": "markdown",
   "id": "7320be58-25c0-49fc-808c-37ccf110163b",
   "metadata": {},
   "source": [
    "### Assertions\n",
    "The first step toward getting the right answers from our programs is to assume that mistakes will happen and to guard against them. This is called defensive programming, and the most common way to do it is to add assertions to our code so that it checks itself as it runs. \n",
    "\n",
    "An assertion is simply a statement that something must be true at a certain point in a program. When Python sees one, it evaluates the assertion’s condition. If it’s true, Python does nothing, but if it’s false, Python halts the program immediately and prints the error message if one is provided.\n",
    "\n",
    "For example, let's write the code that calculates the sum of a list of positive numbers, asserting that each number is greater than zero, and then prints the total sum. The code will halts as soon as the loop encounters a value that isn’t positive:"
   ]
  },
  {
   "cell_type": "code",
   "execution_count": 87,
   "id": "c2498fc9-4735-4be6-9916-7e690e1be1fa",
   "metadata": {},
   "outputs": [
    {
     "ename": "AssertionError",
     "evalue": "Data should only contain positive values",
     "output_type": "error",
     "traceback": [
      "\u001b[0;31m---------------------------------------------------------------------------\u001b[0m",
      "\u001b[0;31mAssertionError\u001b[0m                            Traceback (most recent call last)",
      "Cell \u001b[0;32mIn[87], line 4\u001b[0m\n\u001b[1;32m      2\u001b[0m total \u001b[38;5;241m=\u001b[39m \u001b[38;5;241m0.0\u001b[39m\n\u001b[1;32m      3\u001b[0m \u001b[38;5;28;01mfor\u001b[39;00m num \u001b[38;5;129;01min\u001b[39;00m numbers:\n\u001b[0;32m----> 4\u001b[0m     \u001b[38;5;28;01massert\u001b[39;00m num \u001b[38;5;241m>\u001b[39m \u001b[38;5;241m0.0\u001b[39m, \u001b[38;5;124m'\u001b[39m\u001b[38;5;124mData should only contain positive values\u001b[39m\u001b[38;5;124m'\u001b[39m\n\u001b[1;32m      5\u001b[0m     total \u001b[38;5;241m+\u001b[39m\u001b[38;5;241m=\u001b[39m num\n\u001b[1;32m      6\u001b[0m \u001b[38;5;28mprint\u001b[39m(\u001b[38;5;124m'\u001b[39m\u001b[38;5;124mtotal is:\u001b[39m\u001b[38;5;124m'\u001b[39m, total)\n",
      "\u001b[0;31mAssertionError\u001b[0m: Data should only contain positive values"
     ]
    }
   ],
   "source": [
    "numbers = [1.5, 2.3, 0.7, -0.001, 4.4]\n",
    "total = 0.0\n",
    "for num in numbers:\n",
    "    assert num > 0.0, 'Data should only contain positive values'\n",
    "    total += num\n",
    "print('total is:', total)"
   ]
  },
  {
   "cell_type": "markdown",
   "id": "acbee2fc-16bf-4768-9766-b29235e1cfb8",
   "metadata": {},
   "source": [
    "Programs like the Firefox browser are full of assertions: 10-20% of the code they contain are there to check that the other 80–90% are working correctly. Broadly speaking, assertions fall into three categories:\n",
    "\n",
    "- A precondition is something that must be true at the start of a function in order for it to work correctly.\n",
    "\n",
    "- A postcondition is something that the function guarantees is true when it finishes.\n",
    "\n",
    "- An invariant is something that is always true at a particular point inside a piece of code.\n",
    "\n",
    "For example, suppose we are representing rectangles using a tuple of four coordinates (x0, y0, x1, y1), representing the lower left and upper right corners of the rectangle. In order to do some calculations, we need to normalize the rectangle so that the lower left corner is at the origin and the longest side is 1.0 units long. \n",
    "\n",
    "The following function will do this, but checks that its input is correctly formatted and that its result makes sense:"
   ]
  },
  {
   "cell_type": "code",
   "execution_count": 62,
   "id": "bd1c37df-d6a9-4603-a224-86223850a67c",
   "metadata": {},
   "outputs": [],
   "source": [
    "def normalize_rectangle(rect):\n",
    "    \"\"\"Normalizes a rectangle so that it is at the origin and 1.0 units long on its longest axis.\n",
    "    Input should be of the format (x0, y0, x1, y1).\n",
    "    (x0, y0) and (x1, y1) define the lower left and upper right corners\n",
    "    of the rectangle, respectively.\"\"\"\n",
    "    \n",
    "    assert len(rect) == 4, 'Rectangles must contain 4 coordinates'  # Check if there are exactly 4 coordinates.\n",
    "    x0, y0, x1, y1 = rect  # Unpack the coordinates into variables.\n",
    "    assert x0 < x1, 'Invalid X coordinates'  # Ensure the lower left X is less than upper right X.\n",
    "    assert y0 < y1, 'Invalid Y coordinates'  # Ensure the lower left Y is less than upper right Y.\n",
    "\n",
    "    dx = x1 - x0  # Calculate the width of the rectangle.\n",
    "    dy = y1 - y0  # Calculate the height of the rectangle.\n",
    "    \n",
    "    if dx > dy:  # Check if width is greater than height.\n",
    "        scaled = dx / dy  # Calculate the scaling factor based on width and height.\n",
    "        upper_x, upper_y = 1.0, scaled  # Normalize width to 1.0 and set height accordingly.\n",
    "    else:  # If height is greater than or equal to width.\n",
    "        scaled = dx / dy  # Calculate the same scaling factor.\n",
    "        upper_x, upper_y = scaled, 1.0  # Normalize height to 1.0 and set width accordingly.\n",
    "\n",
    "    assert 0 < upper_x <= 1.0, 'Calculated upper X coordinate invalid'  # Check if upper_x is valid.\n",
    "    assert 0 < upper_y <= 1.0, 'Calculated upper Y coordinate invalid'  # Check if upper_y is valid.\n",
    "\n",
    "    return (0, 0, upper_x, upper_y)  # Return the normalized rectangle.\n"
   ]
  },
  {
   "cell_type": "markdown",
   "id": "a1ca4a2c-1312-4dcb-8604-2464e7f348c4",
   "metadata": {},
   "source": [
    "The preconditions on lines 6, 8, and 9 catch invalid inputs:"
   ]
  },
  {
   "cell_type": "code",
   "execution_count": 63,
   "id": "becfa4ac-25b6-419d-b88e-8762553b7bbd",
   "metadata": {},
   "outputs": [
    {
     "ename": "AssertionError",
     "evalue": "Rectangles must contain 4 coordinates",
     "output_type": "error",
     "traceback": [
      "\u001b[0;31m---------------------------------------------------------------------------\u001b[0m",
      "\u001b[0;31mAssertionError\u001b[0m                            Traceback (most recent call last)",
      "Cell \u001b[0;32mIn[63], line 1\u001b[0m\n\u001b[0;32m----> 1\u001b[0m \u001b[38;5;28mprint\u001b[39m(normalize_rectangle( (\u001b[38;5;241m0.0\u001b[39m, \u001b[38;5;241m1.0\u001b[39m, \u001b[38;5;241m2.0\u001b[39m) ))\n",
      "Cell \u001b[0;32mIn[62], line 6\u001b[0m, in \u001b[0;36mnormalize_rectangle\u001b[0;34m(rect)\u001b[0m\n\u001b[1;32m      1\u001b[0m \u001b[38;5;28;01mdef\u001b[39;00m \u001b[38;5;21mnormalize_rectangle\u001b[39m(rect):\n\u001b[1;32m      2\u001b[0m \u001b[38;5;250m    \u001b[39m\u001b[38;5;124;03m\"\"\"Normalizes a rectangle so that it is at the origin and 1.0 units long on its longest axis.\u001b[39;00m\n\u001b[1;32m      3\u001b[0m \u001b[38;5;124;03m    Input should be of the format (x0, y0, x1, y1).\u001b[39;00m\n\u001b[1;32m      4\u001b[0m \u001b[38;5;124;03m    (x0, y0) and (x1, y1) define the lower left and upper right corners\u001b[39;00m\n\u001b[1;32m      5\u001b[0m \u001b[38;5;124;03m    of the rectangle, respectively.\"\"\"\u001b[39;00m\n\u001b[0;32m----> 6\u001b[0m     \u001b[38;5;28;01massert\u001b[39;00m \u001b[38;5;28mlen\u001b[39m(rect) \u001b[38;5;241m==\u001b[39m \u001b[38;5;241m4\u001b[39m, \u001b[38;5;124m'\u001b[39m\u001b[38;5;124mRectangles must contain 4 coordinates\u001b[39m\u001b[38;5;124m'\u001b[39m\n\u001b[1;32m      7\u001b[0m     x0, y0, x1, y1 \u001b[38;5;241m=\u001b[39m rect\n\u001b[1;32m      8\u001b[0m     \u001b[38;5;28;01massert\u001b[39;00m x0 \u001b[38;5;241m<\u001b[39m x1, \u001b[38;5;124m'\u001b[39m\u001b[38;5;124mInvalid X coordinates\u001b[39m\u001b[38;5;124m'\u001b[39m\n",
      "\u001b[0;31mAssertionError\u001b[0m: Rectangles must contain 4 coordinates"
     ]
    }
   ],
   "source": [
    "print(normalize_rectangle( (0.0, 1.0, 2.0) )) # missing the fourth coordinate"
   ]
  },
  {
   "cell_type": "code",
   "execution_count": 64,
   "id": "e746761c-9acc-4c84-9cf2-4d86a87837d2",
   "metadata": {},
   "outputs": [
    {
     "ename": "AssertionError",
     "evalue": "Invalid X coordinates",
     "output_type": "error",
     "traceback": [
      "\u001b[0;31m---------------------------------------------------------------------------\u001b[0m",
      "\u001b[0;31mAssertionError\u001b[0m                            Traceback (most recent call last)",
      "Cell \u001b[0;32mIn[64], line 1\u001b[0m\n\u001b[0;32m----> 1\u001b[0m \u001b[38;5;28mprint\u001b[39m(normalize_rectangle( (\u001b[38;5;241m4.0\u001b[39m, \u001b[38;5;241m2.0\u001b[39m, \u001b[38;5;241m1.0\u001b[39m, \u001b[38;5;241m5.0\u001b[39m) ))\n",
      "Cell \u001b[0;32mIn[62], line 8\u001b[0m, in \u001b[0;36mnormalize_rectangle\u001b[0;34m(rect)\u001b[0m\n\u001b[1;32m      6\u001b[0m \u001b[38;5;28;01massert\u001b[39;00m \u001b[38;5;28mlen\u001b[39m(rect) \u001b[38;5;241m==\u001b[39m \u001b[38;5;241m4\u001b[39m, \u001b[38;5;124m'\u001b[39m\u001b[38;5;124mRectangles must contain 4 coordinates\u001b[39m\u001b[38;5;124m'\u001b[39m\n\u001b[1;32m      7\u001b[0m x0, y0, x1, y1 \u001b[38;5;241m=\u001b[39m rect\n\u001b[0;32m----> 8\u001b[0m \u001b[38;5;28;01massert\u001b[39;00m x0 \u001b[38;5;241m<\u001b[39m x1, \u001b[38;5;124m'\u001b[39m\u001b[38;5;124mInvalid X coordinates\u001b[39m\u001b[38;5;124m'\u001b[39m\n\u001b[1;32m      9\u001b[0m \u001b[38;5;28;01massert\u001b[39;00m y0 \u001b[38;5;241m<\u001b[39m y1, \u001b[38;5;124m'\u001b[39m\u001b[38;5;124mInvalid Y coordinates\u001b[39m\u001b[38;5;124m'\u001b[39m\n\u001b[1;32m     11\u001b[0m dx \u001b[38;5;241m=\u001b[39m x1 \u001b[38;5;241m-\u001b[39m x0\n",
      "\u001b[0;31mAssertionError\u001b[0m: Invalid X coordinates"
     ]
    }
   ],
   "source": [
    "print(normalize_rectangle( (4.0, 2.0, 1.0, 5.0) )) # X axis inverted"
   ]
  },
  {
   "cell_type": "markdown",
   "id": "e5823103-7634-48a7-b16a-989cceaae041",
   "metadata": {},
   "source": [
    "The post-conditions on lines 20 and 21 help us catch bugs by telling us when our calculations might have been incorrect. For example, if we normalize a rectangle that is taller than it is wide everything seems OK:"
   ]
  },
  {
   "cell_type": "code",
   "execution_count": 65,
   "id": "a738cc07-c55a-47e7-b846-edba3df9f6e6",
   "metadata": {},
   "outputs": [
    {
     "name": "stdout",
     "output_type": "stream",
     "text": [
      "(0, 0, 0.2, 1.0)\n"
     ]
    }
   ],
   "source": [
    "print(normalize_rectangle( (0.0, 0.0, 1.0, 5.0) ))"
   ]
  },
  {
   "cell_type": "markdown",
   "id": "973bc826-38d1-4d0a-a924-764a559f793f",
   "metadata": {},
   "source": [
    "but if we normalize one that’s wider than it is tall, the assertion is triggered:"
   ]
  },
  {
   "cell_type": "code",
   "execution_count": 66,
   "id": "4c47dd5c-3be5-49d1-ac42-70d9d1f876e2",
   "metadata": {},
   "outputs": [
    {
     "ename": "AssertionError",
     "evalue": "Calculated upper Y coordinate invalid",
     "output_type": "error",
     "traceback": [
      "\u001b[0;31m---------------------------------------------------------------------------\u001b[0m",
      "\u001b[0;31mAssertionError\u001b[0m                            Traceback (most recent call last)",
      "Cell \u001b[0;32mIn[66], line 1\u001b[0m\n\u001b[0;32m----> 1\u001b[0m \u001b[38;5;28mprint\u001b[39m(normalize_rectangle( (\u001b[38;5;241m0.0\u001b[39m, \u001b[38;5;241m0.0\u001b[39m, \u001b[38;5;241m5.0\u001b[39m, \u001b[38;5;241m1.0\u001b[39m) ))\n",
      "Cell \u001b[0;32mIn[62], line 21\u001b[0m, in \u001b[0;36mnormalize_rectangle\u001b[0;34m(rect)\u001b[0m\n\u001b[1;32m     18\u001b[0m     upper_x, upper_y \u001b[38;5;241m=\u001b[39m scaled, \u001b[38;5;241m1.0\u001b[39m\n\u001b[1;32m     20\u001b[0m \u001b[38;5;28;01massert\u001b[39;00m \u001b[38;5;241m0\u001b[39m \u001b[38;5;241m<\u001b[39m upper_x \u001b[38;5;241m<\u001b[39m\u001b[38;5;241m=\u001b[39m \u001b[38;5;241m1.0\u001b[39m, \u001b[38;5;124m'\u001b[39m\u001b[38;5;124mCalculated upper X coordinate invalid\u001b[39m\u001b[38;5;124m'\u001b[39m\n\u001b[0;32m---> 21\u001b[0m \u001b[38;5;28;01massert\u001b[39;00m \u001b[38;5;241m0\u001b[39m \u001b[38;5;241m<\u001b[39m upper_y \u001b[38;5;241m<\u001b[39m\u001b[38;5;241m=\u001b[39m \u001b[38;5;241m1.0\u001b[39m, \u001b[38;5;124m'\u001b[39m\u001b[38;5;124mCalculated upper Y coordinate invalid\u001b[39m\u001b[38;5;124m'\u001b[39m\n\u001b[1;32m     23\u001b[0m \u001b[38;5;28;01mreturn\u001b[39;00m (\u001b[38;5;241m0\u001b[39m, \u001b[38;5;241m0\u001b[39m, upper_x, upper_y)\n",
      "\u001b[0;31mAssertionError\u001b[0m: Calculated upper Y coordinate invalid"
     ]
    }
   ],
   "source": [
    "print(normalize_rectangle( (0.0, 0.0, 5.0, 1.0) ))"
   ]
  },
  {
   "cell_type": "markdown",
   "id": "16e27c60-8957-43bf-b588-3e579d09971c",
   "metadata": {},
   "source": [
    "Re-reading the function, we realize that on line 14, we should divide the height by the width (dy/dx) instead of the width by the height (dx/dy). If we hadn’t included the final assertion checks, the function would have returned a result that looked right but was actually incorrect. Debugging this mistake would have taken longer than simply adding the assertion checks, which help catch errors early.\n",
    "\n",
    "But assertions aren’t just about catching errors: they also help people understand programs. Each assertion gives the person reading the program a chance to check (consciously or otherwise) that their understanding matches what the code is doing.\n",
    "\n",
    "Most good programmers follow two rules when adding assertions to their code. The first is, fail early, fail often. The greater the distance between when and where an error occurs and when it’s noticed, the harder the error will be to debug, so good code catches mistakes as early as possible.\n",
    "\n",
    "The second rule is to turn bugs into assertions or tests. When you fix a bug, write an assertion that will catch the same mistake if it happens again. Mistakes often occur in similar places, or could be repeated when you change the code later. Adding assertions helps prevent old problems from coming back and can warn future programmers (including yourself) that this part of the code is tricky. It saves time by catching errors early."
   ]
  },
  {
   "cell_type": "markdown",
   "id": "74361993-8ff6-44b1-8b33-6ade4ec434ea",
   "metadata": {},
   "source": [
    "### Test-Driven Development\n",
    "An assertion checks if something is true in a program, but we also need to test if the entire code works correctly by checking the output for a specific input. For example, if we want to find where multiple time series overlap, we represent each series by its start and end times. The goal is to find the largest time range that all series share.\n",
    "\n",
    "![graph](https://swcarpentry.github.io/python-novice-inflammation/fig/python-overlapping-ranges.svg)\n",
    "\n",
    "Many beginners would solve this by writing a function, testing it a few times, and fixing it if necessary. However, a better approach is test-driven development (TDD). With TDD, you write small tests first, then create the function to pass those tests. This helps avoid confirmation bias and clarifies what the function should actually do.\n",
    "\n",
    "We start by defining an empty function range_overlap:"
   ]
  },
  {
   "cell_type": "code",
   "execution_count": 67,
   "id": "a8ded12d-e329-4b21-8ffa-37d30735cf81",
   "metadata": {},
   "outputs": [],
   "source": [
    "def range_overlap(ranges):\n",
    "    pass"
   ]
  },
  {
   "cell_type": "markdown",
   "id": "ab9bcce2-4171-43ec-962c-f9213f782899",
   "metadata": {},
   "source": [
    "Next, we create some test cases to check how the function should work:"
   ]
  },
  {
   "cell_type": "code",
   "execution_count": 69,
   "id": "f3605c1b-3368-462d-9ac9-b0b032e53643",
   "metadata": {},
   "outputs": [
    {
     "ename": "AssertionError",
     "evalue": "",
     "output_type": "error",
     "traceback": [
      "\u001b[0;31m---------------------------------------------------------------------------\u001b[0m",
      "\u001b[0;31mAssertionError\u001b[0m                            Traceback (most recent call last)",
      "Cell \u001b[0;32mIn[69], line 1\u001b[0m\n\u001b[0;32m----> 1\u001b[0m \u001b[38;5;28;01massert\u001b[39;00m range_overlap([ (\u001b[38;5;241m0.0\u001b[39m, \u001b[38;5;241m1.0\u001b[39m) ]) \u001b[38;5;241m==\u001b[39m (\u001b[38;5;241m0.0\u001b[39m, \u001b[38;5;241m1.0\u001b[39m)\n\u001b[1;32m      2\u001b[0m \u001b[38;5;28;01massert\u001b[39;00m range_overlap([ (\u001b[38;5;241m2.0\u001b[39m, \u001b[38;5;241m3.0\u001b[39m), (\u001b[38;5;241m2.0\u001b[39m, \u001b[38;5;241m4.0\u001b[39m) ]) \u001b[38;5;241m==\u001b[39m (\u001b[38;5;241m2.0\u001b[39m, \u001b[38;5;241m3.0\u001b[39m)\n\u001b[1;32m      3\u001b[0m \u001b[38;5;28;01massert\u001b[39;00m range_overlap([ (\u001b[38;5;241m0.0\u001b[39m, \u001b[38;5;241m1.0\u001b[39m), (\u001b[38;5;241m0.0\u001b[39m, \u001b[38;5;241m2.0\u001b[39m), (\u001b[38;5;241m-\u001b[39m\u001b[38;5;241m1.0\u001b[39m, \u001b[38;5;241m1.0\u001b[39m) ]) \u001b[38;5;241m==\u001b[39m (\u001b[38;5;241m0.0\u001b[39m, \u001b[38;5;241m1.0\u001b[39m)\n",
      "\u001b[0;31mAssertionError\u001b[0m: "
     ]
    }
   ],
   "source": [
    "assert range_overlap([ (0.0, 1.0) ]) == (0.0, 1.0)\n",
    "assert range_overlap([ (2.0, 3.0), (2.0, 4.0) ]) == (2.0, 3.0)\n",
    "assert range_overlap([ (0.0, 1.0), (0.0, 2.0), (-1.0, 1.0) ]) == (0.0, 1.0)"
   ]
  },
  {
   "cell_type": "markdown",
   "id": "ca928e09-6273-4287-babe-1824cd02f01a",
   "metadata": {},
   "source": [
    "The error is actually reassuring: we haven’t implemented any logic into range_overlap yet, so if the tests passed, it would indicate that we’ve written an entirely ineffective test.\n",
    "\n",
    "And as a bonus of writing these tests, we’ve implicitly defined what our input and output look like: we expect a list of pairs as input, and produce a single pair as output.\n",
    "\n",
    "We also need a test for when the ranges don’t overlap, like this:"
   ]
  },
  {
   "cell_type": "code",
   "execution_count": 88,
   "id": "42ab00e5-26b6-4981-b723-700d642b08b2",
   "metadata": {},
   "outputs": [
    {
     "ename": "AssertionError",
     "evalue": "",
     "output_type": "error",
     "traceback": [
      "\u001b[0;31m---------------------------------------------------------------------------\u001b[0m",
      "\u001b[0;31mAssertionError\u001b[0m                            Traceback (most recent call last)",
      "Cell \u001b[0;32mIn[88], line 1\u001b[0m\n\u001b[0;32m----> 1\u001b[0m \u001b[38;5;28;01massert\u001b[39;00m range_overlap([ (\u001b[38;5;241m0.0\u001b[39m, \u001b[38;5;241m1.0\u001b[39m), (\u001b[38;5;241m5.0\u001b[39m, \u001b[38;5;241m6.0\u001b[39m) ]) \u001b[38;5;241m==\u001b[39m \u001b[38;5;28;01mNone\u001b[39;00m\n\u001b[1;32m      2\u001b[0m \u001b[38;5;28;01massert\u001b[39;00m range_overlap([ (\u001b[38;5;241m0.0\u001b[39m, \u001b[38;5;241m1.0\u001b[39m), (\u001b[38;5;241m1.0\u001b[39m, \u001b[38;5;241m2.0\u001b[39m) ]) \u001b[38;5;241m==\u001b[39m \u001b[38;5;28;01mNone\u001b[39;00m\n",
      "\u001b[0;31mAssertionError\u001b[0m: "
     ]
    }
   ],
   "source": [
    "assert range_overlap([ (0.0, 1.0), (5.0, 6.0) ]) == None\n",
    "assert range_overlap([ (0.0, 1.0), (1.0, 2.0) ]) == None"
   ]
  },
  {
   "cell_type": "markdown",
   "id": "e1da8b35-de14-4487-a19c-6bb454f55bae",
   "metadata": {},
   "source": [
    "In these cases, we expect the function to return None because there’s no overlap.\n",
    "\n",
    "Again, we get an error because we haven’t written our function, but we’re now ready to do so:"
   ]
  },
  {
   "cell_type": "code",
   "execution_count": 73,
   "id": "6dcdb5db-0160-49aa-a0ef-f10d8d1c3535",
   "metadata": {},
   "outputs": [],
   "source": [
    "def range_overlap(ranges):\n",
    "    \"\"\"Return common overlap among a set of [left, right] ranges.\"\"\"\n",
    "    max_left = 0.0\n",
    "    min_right = 1.0\n",
    "    for (left, right) in ranges:\n",
    "        max_left = max(max_left, left)\n",
    "        min_right = min(min_right, right)\n",
    "    return (max_left, min_right)"
   ]
  },
  {
   "cell_type": "markdown",
   "id": "a26b49f4-345c-4e1f-8032-998985598270",
   "metadata": {},
   "source": [
    "We calculate the left endpoint of the overlap by finding the maximum of all the starting points because the overlap can only start at the latest of those points. Similarly, we calculate the right endpoint by finding the minimum of the ending points because the overlap can only end at the earliest of those points.\n",
    "\n",
    "To make running them easier, let’s put them all in a function:"
   ]
  },
  {
   "cell_type": "code",
   "execution_count": 90,
   "id": "99fbd10f-eaea-4d7b-ad81-0677626eca75",
   "metadata": {},
   "outputs": [],
   "source": [
    "def test_range_overlap():\n",
    "    assert range_overlap([ (0.0, 1.0), (5.0, 6.0) ]) == None\n",
    "    assert range_overlap([ (0.0, 1.0), (1.0, 2.0) ]) == None\n",
    "    assert range_overlap([ (0.0, 1.0) ]) == (0.0, 1.0)\n",
    "    assert range_overlap([ (2.0, 3.0), (2.0, 4.0) ]) == (2.0, 3.0)\n",
    "    assert range_overlap([ (0.0, 1.0), (0.0, 2.0), (-1.0, 1.0) ]) == (0.0, 1.0)\n",
    "    assert range_overlap([]) == None"
   ]
  },
  {
   "cell_type": "markdown",
   "id": "92928109-1aeb-46ea-8a3c-8eb473022146",
   "metadata": {},
   "source": [
    "We can now test range_overlap with a single function call:"
   ]
  },
  {
   "cell_type": "code",
   "execution_count": 92,
   "id": "fe54a05f-1ae3-444d-abf6-cf7b85e9ccab",
   "metadata": {},
   "outputs": [
    {
     "ename": "AssertionError",
     "evalue": "",
     "output_type": "error",
     "traceback": [
      "\u001b[0;31m---------------------------------------------------------------------------\u001b[0m",
      "\u001b[0;31mAssertionError\u001b[0m                            Traceback (most recent call last)",
      "Cell \u001b[0;32mIn[92], line 1\u001b[0m\n\u001b[0;32m----> 1\u001b[0m test_range_overlap()\n",
      "Cell \u001b[0;32mIn[90], line 2\u001b[0m, in \u001b[0;36mtest_range_overlap\u001b[0;34m()\u001b[0m\n\u001b[1;32m      1\u001b[0m \u001b[38;5;28;01mdef\u001b[39;00m \u001b[38;5;21mtest_range_overlap\u001b[39m():\n\u001b[0;32m----> 2\u001b[0m     \u001b[38;5;28;01massert\u001b[39;00m range_overlap([ (\u001b[38;5;241m0.0\u001b[39m, \u001b[38;5;241m1.0\u001b[39m), (\u001b[38;5;241m5.0\u001b[39m, \u001b[38;5;241m6.0\u001b[39m) ]) \u001b[38;5;241m==\u001b[39m \u001b[38;5;28;01mNone\u001b[39;00m\n\u001b[1;32m      3\u001b[0m     \u001b[38;5;28;01massert\u001b[39;00m range_overlap([ (\u001b[38;5;241m0.0\u001b[39m, \u001b[38;5;241m1.0\u001b[39m), (\u001b[38;5;241m1.0\u001b[39m, \u001b[38;5;241m2.0\u001b[39m) ]) \u001b[38;5;241m==\u001b[39m \u001b[38;5;28;01mNone\u001b[39;00m\n\u001b[1;32m      4\u001b[0m     \u001b[38;5;28;01massert\u001b[39;00m range_overlap([ (\u001b[38;5;241m0.0\u001b[39m, \u001b[38;5;241m1.0\u001b[39m) ]) \u001b[38;5;241m==\u001b[39m (\u001b[38;5;241m0.0\u001b[39m, \u001b[38;5;241m1.0\u001b[39m)\n",
      "\u001b[0;31mAssertionError\u001b[0m: "
     ]
    }
   ],
   "source": [
    "test_range_overlap()"
   ]
  },
  {
   "cell_type": "markdown",
   "id": "a33950a0-60c0-4f1c-b9a5-0dcce4e98335",
   "metadata": {},
   "source": [
    "The first test that was supposed to produce None fails, so we know something is wrong with our function. We don’t know whether the other tests passed or failed because Python halted the program as soon as it spotted the first error. \n",
    "\n",
    "Still, some information is better than none, and if we trace the behavior of the function with that input, we realize that we’re there is a mistake in the **range_overlap function** comes from the way the variables max_left and min_right are initialized. They are both set to fixed values, 0.0 and 1.0, instead of being initialized based on the actual data from the input ranges.\n",
    "\n",
    "For example, in the first test, the function should return None because there is no overlap between the intervals (0.0, 1.0) and (5.0, 6.0). However, since max_left starts at 0.0 and min_right starts at 1.0, the function mistakenly calculates an overlap even when there shouldn't be one.\n",
    "\n",
    "This highlights a programming principle: you should always initialize variables based on the input data, not with fixed values that might not fit all cases."
   ]
  },
  {
   "cell_type": "markdown",
   "id": "75a3d1a4-eec3-4d58-9cb7-4a90fc0bb63c",
   "metadata": {},
   "source": [
    "## Debugging \n",
    "Once testing has uncovered problems, the next step is to fix them. Many novices do this by making more-or-less random changes to their code until it seems to produce the right answer, but that’s very inefficient (and the result is usually only correct for the one case they’re testing). The more experienced a programmer is, the more systematically they debug, and most follow some variation on the rules explained below.\n",
    "\n"
   ]
  },
  {
   "cell_type": "markdown",
   "id": "170d8e51-a26a-4b6d-af0e-8e3326ac1fcd",
   "metadata": {},
   "source": [
    "### Know What It’s Supposed to Do\n",
    "The first step in debugging is understanding the expected output. Without this, it’s difficult to identify or fix issues. Writing a test case that specifies what inputs produce what results helps guide the debugging process. If we can't define what the correct output looks like, it’s hard to know when the issue is fixed.\n",
    "\n",
    "Debugging scientific software is often more challenging because the output might be unknown, which is why we're running the analysis in the first place. Common strategies include:\n",
    "\n",
    "- Test with simplified data: Use small, simple datasets where you can manually calculate the correct result (e.g., for one or two records).\n",
    "\n",
    "- Test simplified cases: Start with basic, stripped-down versions of your model.\n",
    "\n",
    "- Compare to an oracle: An oracle is a trusted source (e.g., existing software, experimental data) that gives you a reference for correct results.\n",
    "\n",
    "- Check conservation laws: Ensure that quantities like mass, energy, or the number of data records remain consistent unless a change is expected.\n",
    "\n",
    "- Visualize: Use visualizations to spot discrepancies, but this should be a last resort, as comparing visualizations automatically is difficult."
   ]
  },
  {
   "cell_type": "markdown",
   "id": "4f2f8649-080b-4f86-85c3-98ba7a818a75",
   "metadata": {},
   "source": [
    "Before you start debugging, make sure you know what your program is supposed to do. Write test cases to check if the output matches what you expect."
   ]
  },
  {
   "cell_type": "code",
   "execution_count": 77,
   "id": "97c7a22b-2500-44c4-ac73-6c5af5ac9add",
   "metadata": {},
   "outputs": [],
   "source": [
    "# Function to add two numbers\n",
    "def add(a, b):\n",
    "    return a + b\n",
    "\n",
    "# Test case\n",
    "result = add(2, 3)\n",
    "assert result == 5, f\"Test failed: expected 5, got {result}\""
   ]
  },
  {
   "cell_type": "markdown",
   "id": "59e81d2a-094d-4eee-a52b-336447c55f55",
   "metadata": {},
   "source": [
    "If the test fails, the program will let you know, and you can start debugging from there."
   ]
  },
  {
   "cell_type": "markdown",
   "id": "cf8ed100-29c0-4b38-a2aa-2cc912e3851f",
   "metadata": {},
   "source": [
    "### Make It Fail Every Time\n",
    "When debugging code, it's crucial to find a consistent test case that causes the error to happen every time. If a bug only appears occasionally (an intermittent issue), it becomes much harder to track down and fix. Imagine having to run your program multiple times, hoping for the error to show up just once — it’s frustrating and time-consuming. The key to effective debugging is ensuring that the bug occurs reliably, so you can focus on fixing it without wasting time.\n",
    "\n",
    "If the failure only happens randomly, you might not catch it during testing. You could scroll past the output where the bug occurs, or worse, you might think you’ve fixed the issue just because the bug didn’t show up during a particular run. By making sure the bug fails every time, you create a solid foundation for investigating the cause.\n",
    "\n",
    "Let’s say we have a simple function that divides two numbers:\n",
    "\n"
   ]
  },
  {
   "cell_type": "code",
   "execution_count": 78,
   "id": "2e581bac-00c3-439a-8979-3d23b6f799d4",
   "metadata": {},
   "outputs": [],
   "source": [
    "def divide(a, b):\n",
    "    return a / b"
   ]
  },
  {
   "cell_type": "markdown",
   "id": "275e6fb4-d604-49ae-b11d-55b2b32d1155",
   "metadata": {},
   "source": [
    "If we try to divide by zero, Python will throw a ZeroDivisionError, but let’s say this error only happens occasionally because of how the function is called.\n",
    "\n",
    "- **Bad debugging**: If we only sometimes test with zero, the failure may not always occur, making it hard to identify the problem.\n",
    "\n",
    "- **Good debugging**: We can create a test that always triggers the error."
   ]
  },
  {
   "cell_type": "code",
   "execution_count": 79,
   "id": "375595e4-983b-4f0e-b17f-1d111ce8370f",
   "metadata": {},
   "outputs": [],
   "source": [
    "def test_divide():\n",
    "    # Create a test case that will always cause the failure\n",
    "    result = divide(10, 0)  # This will fail every time with ZeroDivisionError"
   ]
  },
  {
   "cell_type": "markdown",
   "id": "da49099c-f5a4-4697-9615-4e21c1a8d50f",
   "metadata": {},
   "source": [
    "By making it fail consistently, we can easily debug and fix it, like adding a check for zero before dividing:"
   ]
  },
  {
   "cell_type": "code",
   "execution_count": 80,
   "id": "86b320ee-2526-4a68-9c5c-2cde41dcf718",
   "metadata": {},
   "outputs": [],
   "source": [
    "def divide(a, b):\n",
    "    if b == 0:\n",
    "        return \"Cannot divide by zero\"\n",
    "    return a / b"
   ]
  },
  {
   "cell_type": "markdown",
   "id": "d2707a17-4a49-4f43-8707-8db7cb85c314",
   "metadata": {},
   "source": [
    "Now, we’ve handled the error. Testing will no longer fail, and the bug is fixed."
   ]
  },
  {
   "cell_type": "markdown",
   "id": "92a2fc6c-2613-44bd-8d07-17298eaafada",
   "metadata": {},
   "source": [
    "### Make It Fail Fast\n",
    "To debug efficiently, your code should fail quickly. If a bug takes too long to show up, you waste valuable time waiting instead of diagnosing the problem. The goal is to create tests that reveal errors as soon as possible.\n",
    "\n",
    "Key Points\n",
    "- **Quick Failures**: Design tests that trigger errors immediately, so you can quickly identify the source of the problem.\n",
    "- **Simplify Tests**: Instead of running complex scenarios, start with straightforward inputs that will fail fast.\n",
    "\n",
    "Imagine we have a function that calculates the average of a list:"
   ]
  },
  {
   "cell_type": "code",
   "execution_count": 81,
   "id": "c3ae7bd8-331f-41c2-b741-747c1c00931b",
   "metadata": {},
   "outputs": [
    {
     "ename": "ZeroDivisionError",
     "evalue": "division by zero",
     "output_type": "error",
     "traceback": [
      "\u001b[0;31m---------------------------------------------------------------------------\u001b[0m",
      "\u001b[0;31mZeroDivisionError\u001b[0m                         Traceback (most recent call last)",
      "Cell \u001b[0;32mIn[81], line 5\u001b[0m\n\u001b[1;32m      2\u001b[0m     \u001b[38;5;28;01mreturn\u001b[39;00m \u001b[38;5;28msum\u001b[39m(numbers) \u001b[38;5;241m/\u001b[39m \u001b[38;5;28mlen\u001b[39m(numbers)  \u001b[38;5;66;03m# This will cause a ZeroDivisionError if the list is empty\u001b[39;00m\n\u001b[1;32m      4\u001b[0m \u001b[38;5;66;03m# Test case for an empty list\u001b[39;00m\n\u001b[0;32m----> 5\u001b[0m calculate_average([])\n",
      "Cell \u001b[0;32mIn[81], line 2\u001b[0m, in \u001b[0;36mcalculate_average\u001b[0;34m(numbers)\u001b[0m\n\u001b[1;32m      1\u001b[0m \u001b[38;5;28;01mdef\u001b[39;00m \u001b[38;5;21mcalculate_average\u001b[39m(numbers):\n\u001b[0;32m----> 2\u001b[0m     \u001b[38;5;28;01mreturn\u001b[39;00m \u001b[38;5;28msum\u001b[39m(numbers) \u001b[38;5;241m/\u001b[39m \u001b[38;5;28mlen\u001b[39m(numbers)\n",
      "\u001b[0;31mZeroDivisionError\u001b[0m: division by zero"
     ]
    }
   ],
   "source": [
    "def calculate_average(numbers):\n",
    "    return sum(numbers) / len(numbers)  # This will cause a ZeroDivisionError if the list is empty\n",
    "\n",
    "# Test case for an empty list\n",
    "calculate_average([])  # This will raise ZeroDivisionError: division by zero"
   ]
  },
  {
   "cell_type": "markdown",
   "id": "e3ed355c-ea1d-4de1-8b64-9b7fbdfd85fb",
   "metadata": {},
   "source": [
    "Solution:"
   ]
  },
  {
   "cell_type": "code",
   "execution_count": 83,
   "id": "b4e5589c-40b5-46e1-afcf-5f71128e84e4",
   "metadata": {},
   "outputs": [
    {
     "ename": "ValueError",
     "evalue": "The list cannot be empty.",
     "output_type": "error",
     "traceback": [
      "\u001b[0;31m---------------------------------------------------------------------------\u001b[0m",
      "\u001b[0;31mValueError\u001b[0m                                Traceback (most recent call last)",
      "Cell \u001b[0;32mIn[83], line 7\u001b[0m\n\u001b[1;32m      4\u001b[0m     \u001b[38;5;28;01mreturn\u001b[39;00m \u001b[38;5;28msum\u001b[39m(numbers) \u001b[38;5;241m/\u001b[39m \u001b[38;5;28mlen\u001b[39m(numbers)\n\u001b[1;32m      6\u001b[0m \u001b[38;5;66;03m# Now, testing with an empty list will raise the ValueError immediately\u001b[39;00m\n\u001b[0;32m----> 7\u001b[0m calculate_average([])\n",
      "Cell \u001b[0;32mIn[83], line 3\u001b[0m, in \u001b[0;36mcalculate_average\u001b[0;34m(numbers)\u001b[0m\n\u001b[1;32m      1\u001b[0m \u001b[38;5;28;01mdef\u001b[39;00m \u001b[38;5;21mcalculate_average\u001b[39m(numbers):\n\u001b[1;32m      2\u001b[0m     \u001b[38;5;28;01mif\u001b[39;00m \u001b[38;5;28mlen\u001b[39m(numbers) \u001b[38;5;241m==\u001b[39m \u001b[38;5;241m0\u001b[39m:\n\u001b[0;32m----> 3\u001b[0m         \u001b[38;5;28;01mraise\u001b[39;00m \u001b[38;5;167;01mValueError\u001b[39;00m(\u001b[38;5;124m\"\u001b[39m\u001b[38;5;124mThe list cannot be empty.\u001b[39m\u001b[38;5;124m\"\u001b[39m)\n\u001b[1;32m      4\u001b[0m     \u001b[38;5;28;01mreturn\u001b[39;00m \u001b[38;5;28msum\u001b[39m(numbers) \u001b[38;5;241m/\u001b[39m \u001b[38;5;28mlen\u001b[39m(numbers)\n",
      "\u001b[0;31mValueError\u001b[0m: The list cannot be empty."
     ]
    }
   ],
   "source": [
    "def calculate_average(numbers):\n",
    "    if len(numbers) == 0:\n",
    "        raise ValueError(\"The list cannot be empty.\")\n",
    "    return sum(numbers) / len(numbers)\n",
    "\n",
    "# Now, testing with an empty list will raise the ValueError immediately\n",
    "calculate_average([])  # This raises ValueError: The list cannot be empty."
   ]
  },
  {
   "cell_type": "markdown",
   "id": "f455d2a9-13b6-418c-81b3-c33416af9a40",
   "metadata": {},
   "source": [
    "**Why This is Effective**\n",
    "- **Immediate Feedback**: If you run the above code, it raises a ValueError right away, alerting you that you cannot calculate an average from an empty list.\n",
    "- **Focused Debugging**: You can address the issue of handling empty lists without needing to wait for the function to process data.\n",
    "\n",
    "\n",
    "By designing your tests to fail quickly, you can efficiently identify and fix issues, making the debugging process smoother and faster."
   ]
  },
  {
   "cell_type": "markdown",
   "id": "abd8e2f0-b49d-4bbf-aba1-506e77754901",
   "metadata": {},
   "source": [
    "### Change One Thing at a Time, For a Reason\n",
    "When debugging, it's crucial to change one thing at a time for several reasons:\n",
    "\n",
    "- **Isolation of Issues**: Modifying a single aspect allows you to clearly see its effect, making it easier to identify what fixes the problem.\n",
    "\n",
    "- **Avoiding New Bugs**: Changing multiple parts of the code simultaneously increases the risk of introducing new issues, complicating the debugging process.\n",
    "\n",
    "- **Simplified Testing**: After each change, you can run tests to verify the fix, ensuring that your code functions as intended before moving on.\n",
    "\n",
    "- **Building Understanding**: This approach deepens your understanding of how different parts of your code interact, helping you learn from mistakes and successes.\n",
    "\n",
    "- **Documentation and Communication**: It makes it easier to communicate changes with team members, providing clear documentation of your debugging process.\n",
    "\n",
    "In essence, changing one thing at a time leads to more efficient and effective debugging, resulting in cleaner and more reliable code."
   ]
  },
  {
   "cell_type": "markdown",
   "id": "47b09a6f-bcdf-4887-a36f-8550378a08e8",
   "metadata": {},
   "source": [
    "### Keep Track of What You’ve Done\n",
    "Keeping a record of your debugging process is crucial for several reasons:\n",
    "\n",
    "- **Reproducibility**: It allows you to repeat tests and revisit changes, ensuring a clear understanding of what worked and what didn’t.\n",
    "\n",
    "- **Efficiency**: Tracking your efforts prevents wasting time on the same issues by reminding you of past tests and their outcomes.\n",
    "\n",
    "- **Clarity**: Detailed notes help clarify your thought process and identify patterns, reducing confusion when solving complex problems.\n",
    "\n",
    "- **Collaboration**: Clear records facilitate communication when seeking help from others, making it easier for them to understand the problem and provide useful guidance.\n",
    "\n",
    "- **Learning**: Documenting your debugging efforts enables you to learn from past mistakes and improve your coding skills over time.\n",
    "\n",
    "In essence, systematic record-keeping enhances debugging effectiveness and contributes to your growth as a programmer."
   ]
  },
  {
   "cell_type": "markdown",
   "id": "85d08fc5-996f-4a71-8bf3-37a5373252be",
   "metadata": {},
   "source": [
    "### Be Humble\n",
    "If you can’t find a bug in 10 minutes, ask for help. Explaining the issue to someone else often clarifies your thinking. Others, not emotionally attached to the code, can also spot errors more easily.\n",
    "\n",
    "Learning from mistakes is key. Programmers tend to repeat the same errors, so identifying why an issue occurred helps prevent it in the future. Breaking code into smaller, testable pieces and learning from mistakes makes coding faster and more efficient in the long run."
   ]
  }
 ],
 "metadata": {
  "kernelspec": {
   "display_name": "Python 3 (ipykernel)",
   "language": "python",
   "name": "python3"
  },
  "language_info": {
   "codemirror_mode": {
    "name": "ipython",
    "version": 3
   },
   "file_extension": ".py",
   "mimetype": "text/x-python",
   "name": "python",
   "nbconvert_exporter": "python",
   "pygments_lexer": "ipython3",
   "version": "3.11.5"
  }
 },
 "nbformat": 4,
 "nbformat_minor": 5
}
